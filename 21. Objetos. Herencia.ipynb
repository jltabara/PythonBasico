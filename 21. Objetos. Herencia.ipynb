{
 "cells": [
  {
   "cell_type": "markdown",
   "metadata": {
    "slideshow": {
     "slide_type": "slide"
    }
   },
   "source": [
    "<center><h1>Objetos. Herencia</h1><br /></center>"
   ]
  },
  {
   "cell_type": "markdown",
   "metadata": {
    "slideshow": {
     "slide_type": "slide"
    }
   },
   "source": [
    "Podemos reutilizar el código de una clase para construir otra similar haciendo que la nueva clase \"herede\"  todos los atributos y métodos de la llamada **clase padre** o **superclase**. En esta nueva clase podemos **añadir atributos y métodos nuevos**, así como **sobreescribir** los de la clase padre.\n",
    "\n",
    "La clase padre debe ir entre paréntesis al crear la clase hija."
   ]
  },
  {
   "cell_type": "markdown",
   "metadata": {
    "slideshow": {
     "slide_type": "slide"
    }
   },
   "source": [
    "<center><img src=\"imagenes/herencia.png\" width=\"55%\" /></center>"
   ]
  },
  {
   "cell_type": "markdown",
   "metadata": {
    "slideshow": {
     "slide_type": "slide"
    }
   },
   "source": [
    "<div class=\"alert alert-info\">\n",
    "\n",
    "Crea una clase hija de la clase punto, `PuntoColor` y añade un atributo `color`. Crea un objeto de la clase `PuntoColor` y comprueba que tienen todos los atributos y métodos de la clase `Punto`, además del nuevo atributo.\n",
    "    \n",
    "```python\n",
    "class Punto:\n",
    "    def __init__(self, x,y):\n",
    "        self.x = x\n",
    "        self.y = y\n",
    "    def imprimir(self):\n",
    "        print(f\"({self.x}, {self.y})\")\n",
    "    def modulo(self):\n",
    "        return (self.x ** 2 + self.y ** 2)**0.5\n",
    "```\n",
    "    \n",
    "\n",
    "</div>"
   ]
  },
  {
   "cell_type": "code",
   "execution_count": 3,
   "metadata": {
    "slideshow": {
     "slide_type": "slide"
    }
   },
   "outputs": [
    {
     "data": {
      "text/plain": [
       "'Rojo'"
      ]
     },
     "execution_count": 3,
     "metadata": {},
     "output_type": "execute_result"
    }
   ],
   "source": [
    "class Punto:\n",
    "    def __init__(self, x,y):\n",
    "        self.x = x\n",
    "        self.y = y\n",
    "    def imprimir(self):\n",
    "        print(f\"({self.x}, {self.y})\")\n",
    "    def modulo(self):\n",
    "        return (self.x ** 2 + self.y ** 2)**0.5\n",
    "\n",
    "class PuntoColor(Punto):\n",
    "    color = \"Rojo\"\n",
    "p = Punto(3, 4)\n",
    "pc = PuntoColor(6, 1)\n",
    "pc.color\n"
   ]
  },
  {
   "cell_type": "markdown",
   "metadata": {
    "slideshow": {
     "slide_type": "slide"
    }
   },
   "source": [
    "Para conocer las clases de las que hereda cualquier objeto utilizamos la función **`isinstance()`**.  Un objeto (instancia) de la clase hija es también un objeto (instancia) de la clase padre.\n",
    "\n",
    "Si un objeto es instancia de  una clase, entonces hereda todos los atributos y métodos de dicha clase."
   ]
  },
  {
   "cell_type": "markdown",
   "metadata": {
    "slideshow": {
     "slide_type": "slide"
    }
   },
   "source": [
    "<div class=\"alert alert-info\">\n",
    "\n",
    "Comprueba que un objeto de tipo `PuntoColor` es una instancia de `PuntoColor` y también de `Punto`.\n",
    "\n",
    "</div>"
   ]
  },
  {
   "cell_type": "code",
   "execution_count": 4,
   "metadata": {},
   "outputs": [
    {
     "data": {
      "text/plain": [
       "True"
      ]
     },
     "execution_count": 4,
     "metadata": {},
     "output_type": "execute_result"
    }
   ],
   "source": [
    "isinstance(pc, Punto)"
   ]
  },
  {
   "cell_type": "markdown",
   "metadata": {
    "slideshow": {
     "slide_type": "slide"
    }
   },
   "source": [
    "Si creamos nuevos atributos, lo normal es sobreescribir el método **`.__init__()`** para inicializar de nuevo todos los atributos. También podemos sobreescribir cualquier otro método."
   ]
  },
  {
   "cell_type": "markdown",
   "metadata": {
    "slideshow": {
     "slide_type": "slide"
    }
   },
   "source": [
    "<div class=\"alert alert-info\">\n",
    "\n",
    "* En la nueva clase `PuntoColor` sobreescribe el método `.__init__()` para poder inicializar todos los atributos.\n",
    "\n",
    "* Sobreescribe también el método `.imprimir()` para imprimir el punto junto con su color.\n",
    "    \n",
    "\n",
    "</div>"
   ]
  },
  {
   "cell_type": "code",
   "execution_count": 5,
   "metadata": {
    "slideshow": {
     "slide_type": "slide"
    }
   },
   "outputs": [
    {
     "name": "stdout",
     "output_type": "stream",
     "text": [
      "(3, 7, Verde)\n"
     ]
    }
   ],
   "source": [
    "class PuntoColor(Punto):\n",
    "    def __init__(self, x, y, color):\n",
    "        self.x = x\n",
    "        self.y = y\n",
    "        self.color = color\n",
    "    def imprimir(self):\n",
    "        print(f\"({self.x}, {self.y}, {self.color})\")\n",
    "\n",
    "p = PuntoColor(3, 7, \"Verde\")\n",
    "p.modulo()\n",
    "p.imprimir()"
   ]
  },
  {
   "cell_type": "code",
   "execution_count": null,
   "metadata": {},
   "outputs": [],
   "source": []
  },
  {
   "cell_type": "code",
   "execution_count": 25,
   "metadata": {},
   "outputs": [],
   "source": []
  },
  {
   "cell_type": "code",
   "execution_count": 26,
   "metadata": {},
   "outputs": [
    {
     "ename": "AttributeError",
     "evalue": "'list' object has no attribute 'oscuro'",
     "output_type": "error",
     "traceback": [
      "\u001b[0;31m---------------------------------------------------------------------------\u001b[0m",
      "\u001b[0;31mAttributeError\u001b[0m                            Traceback (most recent call last)",
      "\u001b[0;32m<ipython-input-26-bca1a58a7732>\u001b[0m in \u001b[0;36m<module>\u001b[0;34m\u001b[0m\n\u001b[0;32m----> 1\u001b[0;31m \u001b[0ml\u001b[0m\u001b[0;34m.\u001b[0m\u001b[0moscuro\u001b[0m \u001b[0;34m=\u001b[0m \u001b[0;36m90\u001b[0m\u001b[0;34m\u001b[0m\u001b[0;34m\u001b[0m\u001b[0m\n\u001b[0m",
      "\u001b[0;31mAttributeError\u001b[0m: 'list' object has no attribute 'oscuro'"
     ]
    }
   ],
   "source": []
  },
  {
   "cell_type": "code",
   "execution_count": null,
   "metadata": {},
   "outputs": [],
   "source": []
  }
 ],
 "metadata": {
  "celltoolbar": "Slideshow",
  "kernelspec": {
   "display_name": "Python 3",
   "language": "python",
   "name": "python3"
  },
  "language_info": {
   "codemirror_mode": {
    "name": "ipython",
    "version": 3
   },
   "file_extension": ".py",
   "mimetype": "text/x-python",
   "name": "python",
   "nbconvert_exporter": "python",
   "pygments_lexer": "ipython3",
   "version": "3.7.3"
  }
 },
 "nbformat": 4,
 "nbformat_minor": 4
}
