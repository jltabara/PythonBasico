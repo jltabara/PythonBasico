{
 "cells": [
  {
   "cell_type": "markdown",
   "metadata": {
    "slideshow": {
     "slide_type": "slide"
    }
   },
   "source": [
    "<center><h1>Cadenas de texto III</h1><br /></center>"
   ]
  },
  {
   "cell_type": "markdown",
   "metadata": {
    "slideshow": {
     "slide_type": "slide"
    }
   },
   "source": [
    "Los métodos aplicados a cadenas devuelven una nueva cadena:\n",
    "\n",
    "* `.upper()`. Transforma la cadena a mayúsculas.\n",
    "\n",
    "* `.lower()`. Convierte a cadena a minúsculas.\n",
    "\n",
    "* `.capitalize()`.  Pone la primera letra de la frase en mayúsculas.\n",
    "\n",
    "* `.title()`. Pone en mayúsculas la primera letra de cada palabra."
   ]
  },
  {
   "cell_type": "markdown",
   "metadata": {
    "slideshow": {
     "slide_type": "slide"
    }
   },
   "source": [
    "<div class=\"alert alert-info\">\n",
    "    \n",
    "Aplica a la frase:\n",
    "\n",
    "<center>\n",
    "\n",
    "`En Un lUGAr de la ManCHA ...`\n",
    "\n",
    "</center>\n",
    "\n",
    "los métodos `.upper()`, `.lower()`, `.capitalize()` y `.title()`. \n",
    "\n",
    "</div>"
   ]
  },
  {
   "cell_type": "code",
   "execution_count": null,
   "metadata": {},
   "outputs": [],
   "source": []
  },
  {
   "cell_type": "markdown",
   "metadata": {
    "slideshow": {
     "slide_type": "slide"
    }
   },
   "source": [
    "Los siguientes métodos nos informan sobre el contenido de la cadena:\n",
    "\n",
    "* `.isalpha()`. Comprueba si todos los caracteres son letras.\n",
    "\n",
    "* `.isdigit()`. Comprueba si todos los caracteres son cifras.\n",
    "\n",
    "* `.isalnum()`. Comprueba si todos los caracteres son cifras o letras.\n",
    "\n",
    "* `.isupper()`. Comprueba si todos los caracteres están en mayúscula.\n",
    "\n",
    "* `.islower()`. Comprueba si todos los caracteres están en minúscula."
   ]
  },
  {
   "cell_type": "markdown",
   "metadata": {
    "slideshow": {
     "slide_type": "slide"
    }
   },
   "source": [
    "<div class=\"alert alert-info\">\n",
    "    \n",
    "Para cada uno de los métodos:\n",
    "\n",
    "<center>\n",
    "    \n",
    "`.isalpha()`,  `.isdigit()`, `.isalnum()`, `.isupper()`  y `.islower()`\n",
    "\n",
    "</center>\n",
    "\n",
    "crea una cadena que devuelva `True` y otra que devuelva `False`.\n",
    "\n",
    "</div>"
   ]
  },
  {
   "cell_type": "code",
   "execution_count": null,
   "metadata": {},
   "outputs": [],
   "source": []
  },
  {
   "cell_type": "markdown",
   "metadata": {
    "slideshow": {
     "slide_type": "slide"
    }
   },
   "source": [
    "\n",
    "Los siguientes métodos nos permiten localizar subcadenas:\n",
    "\n",
    "* `.index()`. Devuelve el índice de la primera aparición de una subcadena.\n",
    "\n",
    "* `.find()` y `rfind()`. Son similares al método `.index()`.\n",
    "\n",
    "* `.count()`. Devuelve el número de veces que aparece una subcadena.\n",
    "\n",
    "* `.replace()`. Sustituye una cadena de texto por otra."
   ]
  },
  {
   "cell_type": "markdown",
   "metadata": {
    "slideshow": {
     "slide_type": "slide"
    }
   },
   "source": [
    "<div class=\"alert alert-info\">\n",
    "\n",
    "En la cadena:\n",
    "\n",
    "<center>\n",
    "    \n",
    "`En un lugar de la Mancha ...`\n",
    "\n",
    "</center>\n",
    "\n",
    "aplica los métodos `.index()`, `.find()`, `rfind()`, `.count()` y `.replace()`.\n",
    "\n",
    "</div>"
   ]
  },
  {
   "cell_type": "code",
   "execution_count": null,
   "metadata": {},
   "outputs": [],
   "source": []
  },
  {
   "cell_type": "markdown",
   "metadata": {
    "slideshow": {
     "slide_type": "slide"
    }
   },
   "source": [
    "Para conocer **todos los métodos de las cadenas** podemos aplicar la función `dir()` o bien directamente a una cadena o también escribiendo `dir(str)`."
   ]
  },
  {
   "cell_type": "markdown",
   "metadata": {
    "slideshow": {
     "slide_type": "slide"
    }
   },
   "source": [
    "<div class=\"alert alert-info\">\n",
    "\n",
    "Visualiza todos los métodos aplicables a una cadena y aplica la ayuda a alguno de ellos.\n",
    "\n",
    "</div>"
   ]
  },
  {
   "cell_type": "code",
   "execution_count": null,
   "metadata": {},
   "outputs": [],
   "source": []
  },
  {
   "cell_type": "markdown",
   "metadata": {
    "slideshow": {
     "slide_type": "slide"
    }
   },
   "source": [
    "<center><h1>Fin</h1></center>\n",
    "<center><small>github.com/jltabara/PythonBasico</small></center>"
   ]
  },
  {
   "cell_type": "code",
   "execution_count": null,
   "metadata": {
    "slideshow": {
     "slide_type": "slide"
    }
   },
   "outputs": [],
   "source": []
  }
 ],
 "metadata": {
  "celltoolbar": "Slideshow",
  "kernelspec": {
   "display_name": "Python 3",
   "language": "python",
   "name": "python3"
  },
  "language_info": {
   "codemirror_mode": {
    "name": "ipython",
    "version": 3
   },
   "file_extension": ".py",
   "mimetype": "text/x-python",
   "name": "python",
   "nbconvert_exporter": "python",
   "pygments_lexer": "ipython3",
   "version": "3.7.3"
  }
 },
 "nbformat": 4,
 "nbformat_minor": 2
}
