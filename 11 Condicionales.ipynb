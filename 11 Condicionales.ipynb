{
 "cells": [
  {
   "cell_type": "markdown",
   "metadata": {
    "slideshow": {
     "slide_type": "slide"
    }
   },
   "source": [
    "<center><h1>Condicionales</h1><br /></center>"
   ]
  },
  {
   "cell_type": "markdown",
   "metadata": {
    "slideshow": {
     "slide_type": "slide"
    }
   },
   "source": [
    "La instrucción **`if ... else`** es capaz de hacer que se **ejecute una parte del código u otra** dependiendo de una condición. La estructura general es:\n",
    "```python\n",
    "if condicion:\n",
    "    bloque 1: si la condición es True\n",
    "else:\n",
    "    bloque 2: Si la condición es False\n",
    "```\n",
    "Es importante que los **dos bloques de código estén indentados**, bien con una tabulación o con un número fijo de espacios en blanco."
   ]
  },
  {
   "cell_type": "markdown",
   "metadata": {
    "slideshow": {
     "slide_type": "slide"
    }
   },
   "source": [
    "<center><img src=\"imagenes/if1.png\" width=\"32%\" /></center>"
   ]
  },
  {
   "cell_type": "markdown",
   "metadata": {
    "slideshow": {
     "slide_type": "slide"
    }
   },
   "source": [
    "<div class=\"alert alert-info\">\n",
    "\n",
    "Ejecuta el siguiente código cambiando  `True` por `False`.\n",
    "\n",
    "```python\n",
    "if True:\n",
    "    print(\"Bloque 1\")\n",
    "else:\n",
    "    print(\"Bloque 2\")\n",
    "```\n",
    "\n",
    "</div>"
   ]
  },
  {
   "cell_type": "code",
   "execution_count": 4,
   "metadata": {},
   "outputs": [
    {
     "name": "stdout",
     "output_type": "stream",
     "text": [
      "Bloque 1\n"
     ]
    }
   ],
   "source": [
    "if True:\n",
    "    print(\"Bloque 1\")\n",
    "else:\n",
    "    print(\"Bloque 2\")"
   ]
  },
  {
   "cell_type": "markdown",
   "metadata": {
    "slideshow": {
     "slide_type": "slide"
    }
   },
   "source": [
    "Normalmente en la condición aparecerá **cualquier expresión que se pueda evaluar a `True` o a `False`**. Las más sencillas son las comparaciones, que realizamos con los operadores relacionales."
   ]
  },
  {
   "cell_type": "markdown",
   "metadata": {
    "slideshow": {
     "slide_type": "slide"
    }
   },
   "source": [
    "<div class=\"alert alert-info\">\n",
    "\n",
    "Crea un programa con una variable `edad`. Si la edad es mayor de 20 el programa imprime **Eres muy viejo**. En otro caso debe imprimir **Todavía eres joven**.\n",
    "\n",
    "</div>"
   ]
  },
  {
   "cell_type": "code",
   "execution_count": null,
   "metadata": {},
   "outputs": [],
   "source": []
  },
  {
   "cell_type": "markdown",
   "metadata": {
    "slideshow": {
     "slide_type": "slide"
    }
   },
   "source": [
    "<div class=\"alert alert-info\">\n",
    "\n",
    "Crea un programa con una variable llamada  `numero`. Si la variable es igual a 10 el programa debe responder **Has acertado**. En otro caso debe contestar **Has fallado**.\n",
    "\n",
    "</div>"
   ]
  },
  {
   "cell_type": "code",
   "execution_count": null,
   "metadata": {},
   "outputs": [],
   "source": []
  },
  {
   "cell_type": "markdown",
   "metadata": {
    "slideshow": {
     "slide_type": "slide"
    }
   },
   "source": [
    " En realidad la parte **`else`** es **optativa**. La estructura condicional es entonces de la forma:\n",
    "\n",
    "```python\n",
    "if condicion:\n",
    "    bloque 1\n",
    "```\n",
    "\n",
    "En este caso si se cumple la condición se realiza una acción. **En caso contrario no se hace nada**."
   ]
  },
  {
   "cell_type": "markdown",
   "metadata": {
    "slideshow": {
     "slide_type": "slide"
    }
   },
   "source": [
    "<div class=\"alert alert-info\">\n",
    "\n",
    "Analiza el siguiente código:\n",
    "\n",
    "```python\n",
    "titulacion = \"Apto\"\n",
    "nota = int(input(\"Dime tu nota: \"))\n",
    "if nota < 5:\n",
    "    titulacion = \"No Apto\"  \n",
    "print(f\"Eres: {titulacion}\")\n",
    "```\n",
    "\n",
    "</div>"
   ]
  },
  {
   "cell_type": "code",
   "execution_count": null,
   "metadata": {},
   "outputs": [],
   "source": []
  },
  {
   "cell_type": "markdown",
   "metadata": {
    "slideshow": {
     "slide_type": "slide"
    }
   },
   "source": [
    "A veces se puede incluir una sentencia condicional dentro de otra. Esto se denomina **anidación**. Se desaconseja anidar muchas estructuras condicionales pues se crea un código que es difícil de leer."
   ]
  },
  {
   "cell_type": "markdown",
   "metadata": {
    "slideshow": {
     "slide_type": "slide"
    }
   },
   "source": [
    "<div class=\"alert alert-info\">\n",
    "\n",
    "Crea un programa que pida un número. Si es menor que cero entonces no hace nada. Si el número es mayor que cero entonces comprueba si el número es mayor o igual que cinco y responde **Has aprobado**. En otro caso responde **Has suspendido**.\n",
    "\n",
    "</div>"
   ]
  },
  {
   "cell_type": "code",
   "execution_count": null,
   "metadata": {},
   "outputs": [],
   "source": []
  },
  {
   "cell_type": "markdown",
   "metadata": {
    "slideshow": {
     "slide_type": "slide"
    }
   },
   "source": [
    "Hasta ahora al llegar a la condición se puede ir por dos caminos o por uno solo. Con la instrucción **`elif`** se pueden hacer varias comparaciones y **elegir entre más de dos caminos**. En este caso la instrucción condicional tiene la forma:\n",
    "\n",
    "```python\n",
    "if condicion1:\n",
    "    bloque 1\n",
    "elif condicion2:\n",
    "    bloque 2\n",
    "...\n",
    "else:\n",
    "    último bloque\n",
    "```\n",
    "\n",
    "El número de **`elif`** puede ser arbitrario."
   ]
  },
  {
   "cell_type": "markdown",
   "metadata": {
    "slideshow": {
     "slide_type": "slide"
    }
   },
   "source": [
    "<center><img src=\"imagenes/if2.png\" width=\"58%\" /></center>"
   ]
  },
  {
   "cell_type": "markdown",
   "metadata": {
    "slideshow": {
     "slide_type": "slide"
    }
   },
   "source": [
    "<div class=\"alert alert-info\">\n",
    "\n",
    "Crea un programa que pida un número entero. Si el número es mayor que cero debe escribir **Positivo**. Si el número es cero debe escribir <strong>Nulo</strong>. En cualquier otro caso debe escribir **Negativo**.\n",
    "\n",
    "</div>"
   ]
  },
  {
   "cell_type": "code",
   "execution_count": null,
   "metadata": {},
   "outputs": [],
   "source": []
  },
  {
   "cell_type": "markdown",
   "metadata": {
    "slideshow": {
     "slide_type": "slide"
    }
   },
   "source": [
    "<div class=\"alert alert-info\">\n",
    "\n",
    " Una variable `edad`. Si la edad es superior a 70 debe responder **Tercera edad**. Si la edad es superior a 30 debe responder **Adulto**. Si supera los 15 años debe responder **Joven**. En cualquier otro caso debe responder **Infante**.\n",
    "\n",
    "</div>\n"
   ]
  },
  {
   "cell_type": "code",
   "execution_count": null,
   "metadata": {},
   "outputs": [],
   "source": []
  },
  {
   "cell_type": "markdown",
   "metadata": {
    "slideshow": {
     "slide_type": "slide"
    }
   },
   "source": [
    "En realidad en la condición se puede poner cualquier expresión aunque no sea boolena. En caso de no serlo el condicional le aplica la función **`bool()`** y lo convierte en boolena. Recordemos que en general la función **`bool()`**  convierte en **`False`** lo que es nulo o lo que es vacío. En todos los otros casos los convierte en **`True`**.\n",
    "\n",
    "También podemos utilizar las palabras clave **`in`**  y **`not in`** para comprobar la inclusión de una subcadena dentro de una cadena."
   ]
  },
  {
   "cell_type": "markdown",
   "metadata": {
    "slideshow": {
     "slide_type": "slide"
    }
   },
   "source": [
    "<div class=\"alert alert-info\">\n",
    "\n",
    "* Crea un código para informar si una cadena está vacía o no lo está.\n",
    "\n",
    "* Crea un código para informar si una subcadena forma parte de otra o no.\n",
    "\n",
    "</div>\n"
   ]
  },
  {
   "cell_type": "code",
   "execution_count": null,
   "metadata": {},
   "outputs": [],
   "source": []
  },
  {
   "cell_type": "markdown",
   "metadata": {
    "slideshow": {
     "slide_type": "slide"
    }
   },
   "source": [
    "<center><h1>Fin</h1></center>\n",
    "<center><small>github.com/jltabara/PythonBasico</small></center>"
   ]
  },
  {
   "cell_type": "markdown",
   "metadata": {
    "colab_type": "text",
    "id": "pYlDyxjsG56Z"
   },
   "source": [
    "<center><h1>Condicionales</h1><br /></center>"
   ]
  },
  {
   "cell_type": "markdown",
   "metadata": {
    "colab_type": "text",
    "id": "aciUEO7wJNmR"
   },
   "source": [
    "### Fallo de indentación\n",
    "\n",
    "Si después de los dos puntos no dejamos indentación, se produce un error. Prueba el siguiente código:\n",
    "\n",
    "```python\n",
    "if True:\n",
    "print(\"Esto es un error\")\n",
    "```\n"
   ]
  },
  {
   "cell_type": "code",
   "execution_count": null,
   "metadata": {
    "colab": {
     "base_uri": "https://localhost:8080/",
     "height": 34
    },
    "colab_type": "code",
    "executionInfo": {
     "elapsed": 601,
     "status": "ok",
     "timestamp": 1563009492071,
     "user": {
      "displayName": "Jose Luis Tabara Carbajo",
      "photoUrl": "https://lh3.googleusercontent.com/-C_ZMVpiKR_c/AAAAAAAAAAI/AAAAAAAAICI/he5fzFV_8iI/s64/photo.jpg",
      "userId": "04839663227084200405"
     },
     "user_tz": -120
    },
    "id": "9jPslZY5JXXg",
    "outputId": "5d8d3e97-a40d-4fbc-d9a9-5aea264a94e3"
   },
   "outputs": [
    {
     "name": "stdout",
     "output_type": "stream",
     "text": [
      "Esto es un error\n"
     ]
    }
   ],
   "source": [
    "if True:\n",
    "       print(\"Esto es un error\")"
   ]
  },
  {
   "cell_type": "markdown",
   "metadata": {
    "colab_type": "text",
    "id": "d83Ci8ORJIBO"
   },
   "source": [
    "### Fallo de indentación\n",
    "\n",
    "Si dentro del bloque del `if` tenemos indentaciones distintas, también tenemos un error:\n",
    "\n",
    "```python\n",
    "if True:\n",
    "\tprint(\"Hola\")\n",
    "\t\tprint(\"Adiós\")\n",
    "```"
   ]
  },
  {
   "cell_type": "code",
   "execution_count": null,
   "metadata": {
    "colab": {
     "base_uri": "https://localhost:8080/",
     "height": 52
    },
    "colab_type": "code",
    "executionInfo": {
     "elapsed": 524,
     "status": "ok",
     "timestamp": 1563009529347,
     "user": {
      "displayName": "Jose Luis Tabara Carbajo",
      "photoUrl": "https://lh3.googleusercontent.com/-C_ZMVpiKR_c/AAAAAAAAAAI/AAAAAAAAICI/he5fzFV_8iI/s64/photo.jpg",
      "userId": "04839663227084200405"
     },
     "user_tz": -120
    },
    "id": "Q20ASLahJX9e",
    "outputId": "82037f6e-eec3-46c9-acdb-3b5d473d35df"
   },
   "outputs": [
    {
     "name": "stdout",
     "output_type": "stream",
     "text": [
      "Hola\n",
      "Adiós\n"
     ]
    }
   ],
   "source": [
    "if True:\n",
    "    print(\"Hola\")\n",
    "    print(\"Adiós\")"
   ]
  },
  {
   "cell_type": "markdown",
   "metadata": {
    "colab_type": "text",
    "id": "c_qQlIQeI3FK"
   },
   "source": [
    "### Cambiar dos `if` por un  `else...if`\n",
    "\n",
    "El siguiente programa funciona perfectamente. Haz una versión similar utilizando `else`:\n",
    "\n",
    "```python\n",
    "edad = int(input(\"Dime tu edad: \"))\n",
    "\n",
    "if edad >= 18:\n",
    "\tprint(\"Eres mayor de edad\")\n",
    "if edad < 18:\n",
    "\tprint(\"Eres menor de edad\")\n",
    "```"
   ]
  },
  {
   "cell_type": "code",
   "execution_count": null,
   "metadata": {
    "colab": {
     "base_uri": "https://localhost:8080/",
     "height": 52
    },
    "colab_type": "code",
    "executionInfo": {
     "elapsed": 7068,
     "status": "ok",
     "timestamp": 1563009655921,
     "user": {
      "displayName": "Jose Luis Tabara Carbajo",
      "photoUrl": "https://lh3.googleusercontent.com/-C_ZMVpiKR_c/AAAAAAAAAAI/AAAAAAAAICI/he5fzFV_8iI/s64/photo.jpg",
      "userId": "04839663227084200405"
     },
     "user_tz": -120
    },
    "id": "XEvZCwk-JYo7",
    "outputId": "18cd8a63-31eb-437c-bb6e-6b710c10dc16"
   },
   "outputs": [
    {
     "name": "stdout",
     "output_type": "stream",
     "text": [
      "Dime tu edad11\n",
      "Eres menor de edad\n"
     ]
    }
   ],
   "source": [
    "edad = int(input(\"Dime tu edad\"))\n",
    "\n",
    "if edad >= 18:\n",
    "    print(\"Eres mayor de edad\")\n",
    "else:\n",
    "    print(\"Eres menor de edad\")"
   ]
  },
  {
   "cell_type": "markdown",
   "metadata": {
    "colab_type": "text",
    "id": "VqLAavtRIwvf"
   },
   "source": [
    "### Error semántico\n",
    "\n",
    "El siguiente programa no tiene errores de sintaxis, pero sin embargo tiene un error semántico (no hace lo que queremos que haga). Localiza el error:\n",
    "\n",
    "```python\n",
    "edad = int(input(\"Dime tu edad: \"))\n",
    "\n",
    "if edad >= 18:\n",
    "\tprint(\"Eres mayor de edad\")\n",
    "if edad <= 18\n",
    "\tprint(\"Eres menor de edad\")\n",
    "```"
   ]
  },
  {
   "cell_type": "code",
   "execution_count": null,
   "metadata": {
    "colab": {
     "base_uri": "https://localhost:8080/",
     "height": 69
    },
    "colab_type": "code",
    "executionInfo": {
     "elapsed": 9209,
     "status": "ok",
     "timestamp": 1563009794760,
     "user": {
      "displayName": "Jose Luis Tabara Carbajo",
      "photoUrl": "https://lh3.googleusercontent.com/-C_ZMVpiKR_c/AAAAAAAAAAI/AAAAAAAAICI/he5fzFV_8iI/s64/photo.jpg",
      "userId": "04839663227084200405"
     },
     "user_tz": -120
    },
    "id": "wGGY8DLDJZNS",
    "outputId": "7fbafcc6-304a-44d7-8ef5-05ecc5f0d7e0"
   },
   "outputs": [
    {
     "name": "stdout",
     "output_type": "stream",
     "text": [
      "Dime tu edad18\n",
      "Eres mayor de edad\n",
      "Eres menor de edad\n"
     ]
    }
   ],
   "source": [
    "edad = int(input(\"Dime tu edad\"))\n",
    "\n",
    "if edad >= 18:\n",
    "    print(\"Eres mayor de edad\")\n",
    "if edad <= 18:\n",
    "    print(\"Eres menor de edad\")"
   ]
  },
  {
   "cell_type": "markdown",
   "metadata": {
    "colab_type": "text",
    "id": "W3QTW53yIquW"
   },
   "source": [
    "### Problema\n",
    "\n",
    "Se pide un número al usuario. Si el número es mayor que cero el programa responde `El número es mayor que cero`. En caso contrario debe responder `Este número no es mayor que cero`."
   ]
  },
  {
   "cell_type": "code",
   "execution_count": null,
   "metadata": {
    "colab": {
     "base_uri": "https://localhost:8080/",
     "height": 52
    },
    "colab_type": "code",
    "executionInfo": {
     "elapsed": 5095,
     "status": "ok",
     "timestamp": 1563010041494,
     "user": {
      "displayName": "Jose Luis Tabara Carbajo",
      "photoUrl": "https://lh3.googleusercontent.com/-C_ZMVpiKR_c/AAAAAAAAAAI/AAAAAAAAICI/he5fzFV_8iI/s64/photo.jpg",
      "userId": "04839663227084200405"
     },
     "user_tz": -120
    },
    "id": "xQbolGgsJZ2D",
    "outputId": "bdf1a966-460d-407e-cb1a-b198c78faf51"
   },
   "outputs": [
    {
     "name": "stdout",
     "output_type": "stream",
     "text": [
      "Dime un número-3.4\n",
      "El número no es mayor que cero\n"
     ]
    }
   ],
   "source": [
    "numerop = float(input('Dime un número'))\n",
    "\n",
    "if numerop > 0:\n",
    "  print('El número es mayor que cero')\n",
    "else:\n",
    "  print('El número no es mayor que cero')"
   ]
  },
  {
   "cell_type": "markdown",
   "metadata": {
    "colab_type": "text",
    "id": "fCBeOI5EIkS2"
   },
   "source": [
    "### Problema\n",
    "\n",
    "Un programa pide el nombre de una persona. Si el nombre es `Javier` el programa responde `Eres un pro`. Para cualquier otro nombre debe responder `Tu no eres un pro`.\n"
   ]
  },
  {
   "cell_type": "code",
   "execution_count": null,
   "metadata": {
    "colab": {
     "base_uri": "https://localhost:8080/",
     "height": 52
    },
    "colab_type": "code",
    "executionInfo": {
     "elapsed": 5553,
     "status": "ok",
     "timestamp": 1563010390145,
     "user": {
      "displayName": "Jose Luis Tabara Carbajo",
      "photoUrl": "https://lh3.googleusercontent.com/-C_ZMVpiKR_c/AAAAAAAAAAI/AAAAAAAAICI/he5fzFV_8iI/s64/photo.jpg",
      "userId": "04839663227084200405"
     },
     "user_tz": -120
    },
    "id": "W5NK5EjqJaYs",
    "outputId": "cf1edaa1-d4f2-4b27-f23b-082c8778dd55"
   },
   "outputs": [
    {
     "name": "stdout",
     "output_type": "stream",
     "text": [
      "Dime tu nombre: Javier\n",
      "Eres un pro\n"
     ]
    }
   ],
   "source": [
    "nombrep = input('Dime tu nombre: ')\n",
    "\n",
    "if nombrep == 'Javier':\n",
    "  print('Eres un pro')\n",
    "else:\n",
    "  print('Tú no eres un pro')"
   ]
  },
  {
   "cell_type": "markdown",
   "metadata": {
    "colab_type": "text",
    "id": "GLthdN6XIfFj"
   },
   "source": [
    "### Problema\n",
    "\n",
    "Un programa pide la nota. Si la nota es mayor o igual que 5 responde `Has aprobado`. Si no ocurre esto responde `Has suspendido`.\n"
   ]
  },
  {
   "cell_type": "code",
   "execution_count": null,
   "metadata": {
    "colab": {
     "base_uri": "https://localhost:8080/",
     "height": 52
    },
    "colab_type": "code",
    "executionInfo": {
     "elapsed": 7930,
     "status": "ok",
     "timestamp": 1563010646507,
     "user": {
      "displayName": "Jose Luis Tabara Carbajo",
      "photoUrl": "https://lh3.googleusercontent.com/-C_ZMVpiKR_c/AAAAAAAAAAI/AAAAAAAAICI/he5fzFV_8iI/s64/photo.jpg",
      "userId": "04839663227084200405"
     },
     "user_tz": -120
    },
    "id": "dLD3LADlJbAa",
    "outputId": "334898de-582b-4d33-ebc4-16e27daa96f9"
   },
   "outputs": [
    {
     "name": "stdout",
     "output_type": "stream",
     "text": [
      "Dime tu nota: 3.90\n",
      "Has suspendido\n"
     ]
    }
   ],
   "source": [
    "nota = float(input('Dime tu nota: '))\n",
    "\n",
    "if nota >= 5:\n",
    "  print('Has aprobado')\n",
    "else:\n",
    "  print('Has suspendido')"
   ]
  },
  {
   "cell_type": "markdown",
   "metadata": {
    "colab_type": "text",
    "id": "9FCqAIOdIad4"
   },
   "source": [
    "### Problema\n",
    "\n",
    "\n",
    "Se pide un número entero al usuario. Se calcula el resto de dicho número entre dos. Si el resto es cero, el programa responde `El número es par`. Si el resto no es cero el programa responde `El número es impar`."
   ]
  },
  {
   "cell_type": "code",
   "execution_count": null,
   "metadata": {
    "colab": {
     "base_uri": "https://localhost:8080/",
     "height": 52
    },
    "colab_type": "code",
    "executionInfo": {
     "elapsed": 7240,
     "status": "ok",
     "timestamp": 1563372971278,
     "user": {
      "displayName": "Jose Luis Tabara Carbajo",
      "photoUrl": "https://lh3.googleusercontent.com/-C_ZMVpiKR_c/AAAAAAAAAAI/AAAAAAAAICI/he5fzFV_8iI/s64/photo.jpg",
      "userId": "04839663227084200405"
     },
     "user_tz": -120
    },
    "id": "hsMZb01DJbqG",
    "outputId": "2fc7b899-be75-4b12-ac9c-237809fb100d"
   },
   "outputs": [
    {
     "name": "stdout",
     "output_type": "stream",
     "text": [
      "Dime un múmero 1234567890\n",
      "El número es par\n"
     ]
    }
   ],
   "source": [
    "x = int(input('Dime un múmero '))\n",
    "if x % 2 == 0:\n",
    "  print('El número es par')\n",
    "else:\n",
    "  print('El número es impar')\n"
   ]
  },
  {
   "cell_type": "markdown",
   "metadata": {
    "colab_type": "text",
    "id": "dUiubeBQIVzk"
   },
   "source": [
    "### Problema\n",
    "\n",
    "Se pide un número al usuario y se le dice si el número es múltiplo de tres o no lo es."
   ]
  },
  {
   "cell_type": "code",
   "execution_count": null,
   "metadata": {
    "colab": {
     "base_uri": "https://localhost:8080/",
     "height": 52
    },
    "colab_type": "code",
    "executionInfo": {
     "elapsed": 7494,
     "status": "ok",
     "timestamp": 1563373193622,
     "user": {
      "displayName": "Jose Luis Tabara Carbajo",
      "photoUrl": "https://lh3.googleusercontent.com/-C_ZMVpiKR_c/AAAAAAAAAAI/AAAAAAAAICI/he5fzFV_8iI/s64/photo.jpg",
      "userId": "04839663227084200405"
     },
     "user_tz": -120
    },
    "id": "XgMonzVTJcMs",
    "outputId": "f9c07010-00b4-46db-b91e-51e004a1ac8c"
   },
   "outputs": [
    {
     "name": "stdout",
     "output_type": "stream",
     "text": [
      "Dime un número 1000000000\n",
      "No múltlipo\n"
     ]
    }
   ],
   "source": [
    "x = int(input('Dime un número '))\n",
    "if x % 3 == 0:\n",
    "  print('Múltlipo')\n",
    "else:\n",
    "  print('No múltlipo')"
   ]
  },
  {
   "cell_type": "markdown",
   "metadata": {
    "colab_type": "text",
    "id": "PZyraiJwIQrj"
   },
   "source": [
    "### Problema\n",
    "\n",
    "Haz un programa que pida dos números cuya multiplicación sea 12. Si el producto da 12 debe responder `Has acertado`. En caso contrario debe responder `Has fallado`. Realiza una versión del programa utilizando `else` y otra sin utilizarlo."
   ]
  },
  {
   "cell_type": "code",
   "execution_count": null,
   "metadata": {
    "colab": {
     "base_uri": "https://localhost:8080/",
     "height": 70
    },
    "colab_type": "code",
    "executionInfo": {
     "elapsed": 7302,
     "status": "ok",
     "timestamp": 1563373387510,
     "user": {
      "displayName": "Jose Luis Tabara Carbajo",
      "photoUrl": "https://lh3.googleusercontent.com/-C_ZMVpiKR_c/AAAAAAAAAAI/AAAAAAAAICI/he5fzFV_8iI/s64/photo.jpg",
      "userId": "04839663227084200405"
     },
     "user_tz": -120
    },
    "id": "pq84uUjNJcsO",
    "outputId": "9b159d6e-59c1-40d2-be67-f0dc6c9d195a"
   },
   "outputs": [
    {
     "name": "stdout",
     "output_type": "stream",
     "text": [
      "Dime un número 4\n",
      "Dime un número 9\n",
      "Has fallado\n"
     ]
    }
   ],
   "source": [
    "x = int(input('Dime un número '))\n",
    "y = int(input('Dime un número '))\n",
    " \n",
    "if x * y == 12:\n",
    "  print('Has acertado')\n",
    "if x * y != 12:\n",
    "  print('Has fallado')\n",
    "  "
   ]
  },
  {
   "cell_type": "markdown",
   "metadata": {
    "colab_type": "text",
    "id": "YoYAs5AyIIE1"
   },
   "source": [
    "### Problema\n",
    "\n",
    "Se piden dos números enteros distintos. El programa debe responder si es mayor el primer número o es mayor el segundo número."
   ]
  },
  {
   "cell_type": "markdown",
   "metadata": {
    "colab_type": "text",
    "id": "0thb3ujFSQGs"
   },
   "source": [
    "### Problema\n",
    "\n",
    "\n",
    "Si piden dos números. El programa debe responder si el primero es el mayor, si es mayor el segundo o si los dos son iguales. Haz una versión sin utilizar `elif` y otra utilizándolo.\n",
    "\n"
   ]
  },
  {
   "cell_type": "markdown",
   "metadata": {
    "colab_type": "text",
    "id": "UTzTmXb8ScV_"
   },
   "source": [
    "### Problema\n",
    "\n",
    "Se pide la nota de tres asignaturas. Si la media de las notas es mayor que 8, entonces el programa responde `Eres un pro`. En otro caso debe responder `Tienes que trabajar más para ser un pro`."
   ]
  },
  {
   "cell_type": "markdown",
   "metadata": {
    "colab_type": "text",
    "id": "NHo_SjROSgjp"
   },
   "source": [
    "### Problema\n",
    "\n",
    "Un programa que pida la edad de una persona. Si la edad es mayor que 20 años, el programa debe responder `Eres muy viejo`. Si no es mayor de 20 el programa no debe responder nada.\n"
   ]
  },
  {
   "cell_type": "markdown",
   "metadata": {
    "colab_type": "text",
    "id": "cSzsNVxHSlRc"
   },
   "source": [
    "### If anidado\n",
    "\n",
    "Da un valor entero a la variable para que el siguiente programa imprima la palabra `Hola`.\n",
    "\n",
    "```python\n",
    "numero = ????\n",
    "if numero > 3:\n",
    "\tif numero < 10:\n",
    "\t\tprint(\"Hola\")\n",
    "```\n",
    "¿Cuántos números enteros resuelven el problema anterior?\n"
   ]
  },
  {
   "cell_type": "markdown",
   "metadata": {
    "colab_type": "text",
    "id": "Ns-mNlI2S3R2"
   },
   "source": [
    "### Problema\n",
    "\n",
    "Realiza un programa que diga si una persona es mayor de edad o no. Además debe comprobar primero si la persona tiene más de cero años."
   ]
  },
  {
   "cell_type": "markdown",
   "metadata": {
    "colab_type": "text",
    "id": "bk84Pt7JS4XT"
   },
   "source": [
    "### Detectar error semántico\n",
    "\n",
    "El siguiente programa tiene errores de tipo semántico. Localízalos y arregla el programa:\n",
    "\n",
    "```python\n",
    "edad = int(input(\"Dime tu edad\"))\n",
    "\n",
    "if edad > 30:\n",
    "\tprint(\"Eres un adulto\")\n",
    "elif edad > 70:\n",
    "\tprint(\"Tercera edad\")\n",
    "elif edad > 15:\t\n",
    "\tprint(\"Eres joven\")\n",
    "else:\n",
    "\tprint(\"Eres un infante\")\n",
    "```"
   ]
  },
  {
   "cell_type": "markdown",
   "metadata": {
    "colab_type": "text",
    "id": "4Ul-Hu_nS_IR"
   },
   "source": [
    "### Problema\n",
    "\n",
    "Un programa pide un número entero entre el 1 y el 3, ambos inclusive. Si se teclea `1` el programa responde `Primero`. Si se teclea un `2` el programa responde `Segundo` y análogamente con el `3`. Si no es ninguno de esos tres números, entonces debe responder `Número incorrecto`."
   ]
  },
  {
   "cell_type": "markdown",
   "metadata": {
    "colab_type": "text",
    "id": "sgEIS9ZpTCjH"
   },
   "source": [
    "### Problema\n",
    "\n",
    "Un programa pregunta por el dinero que tienes. Si la respuesta es mayor de 1 millón, el programa responde `Eres rico`. Si tiene más de 30000 euros entonces debe responder `Clase media`. En otro caso debe responder `Clase baja`."
   ]
  }
 ],
 "metadata": {
  "celltoolbar": "Slideshow",
  "kernelspec": {
   "display_name": "Python 3",
   "language": "python",
   "name": "python3"
  },
  "language_info": {
   "codemirror_mode": {
    "name": "ipython",
    "version": 3
   },
   "file_extension": ".py",
   "mimetype": "text/x-python",
   "name": "python",
   "nbconvert_exporter": "python",
   "pygments_lexer": "ipython3",
   "version": "3.7.3"
  }
 },
 "nbformat": 4,
 "nbformat_minor": 4
}
