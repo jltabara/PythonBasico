{
 "cells": [
  {
   "cell_type": "markdown",
   "metadata": {
    "slideshow": {
     "slide_type": "slide"
    }
   },
   "source": [
    "<center><h1>Importación de módulos</h1><br /></center>"
   ]
  },
  {
   "cell_type": "markdown",
   "metadata": {
    "colab_type": "text",
    "id": "bLRvpWJPKN0c",
    "slideshow": {
     "slide_type": "slide"
    }
   },
   "source": [
    "Un **modulo** es un archivo de texto que contiene definiciones de funciones y variables. Existen muchos módulos que vienen con la distribución de Python. Para conocer cuales son se utiliza `help('modules')`. Esta orden puede llevar muchísimo tiempo (del orden de varios minutos) de ejecución la primera vez que la tecleemos."
   ]
  },
  {
   "cell_type": "markdown",
   "metadata": {
    "colab_type": "text",
    "id": "Stn8KsBrMg1Z",
    "slideshow": {
     "slide_type": "slide"
    }
   },
   "source": [
    "Este puede ser el comienzo de un módulo elemental:\n",
    "\n",
    "![modulo](modulo.png)"
   ]
  },
  {
   "cell_type": "markdown",
   "metadata": {
    "colab_type": "text",
    "id": "jAXCIgKFMsgN",
    "slideshow": {
     "slide_type": "slide"
    }
   },
   "source": [
    "Para importar un módulo utilizamos la orden `import` seguido del nombre del módulo. Para obtener información de dicho módulo utilizamos la orden `help()`. Para ver todas las funciones y constantes definidas dentro del módulo se utiliza la función `dir()`."
   ]
  },
  {
   "cell_type": "markdown",
   "metadata": {
    "colab_type": "text",
    "id": "IidFKdykNF5j",
    "slideshow": {
     "slide_type": "slide"
    }
   },
   "source": [
    "<div class=\"alert alert-info\">\n",
    "\n",
    "* Importar el módulo `math`.\n",
    "* Obtener información del módulo `math`.\n",
    "* Ver todas las funciones y constantes del módulo.\n",
    "* Obtener información del la función `sin()`.\n",
    "\n",
    "</div>"
   ]
  },
  {
   "cell_type": "code",
   "execution_count": 27,
   "metadata": {
    "colab": {},
    "colab_type": "code",
    "id": "OVSqA_GtNjtp"
   },
   "outputs": [
    {
     "name": "stdout",
     "output_type": "stream",
     "text": [
      "['__doc__', '__file__', '__loader__', '__name__', '__package__', '__spec__', 'acos', 'acosh', 'asin', 'asinh', 'atan', 'atan2', 'atanh', 'ceil', 'copysign', 'cos', 'cosh', 'degrees', 'e', 'erf', 'erfc', 'exp', 'expm1', 'fabs', 'factorial', 'floor', 'fmod', 'frexp', 'fsum', 'gamma', 'gcd', 'hypot', 'inf', 'isclose', 'isfinite', 'isinf', 'isnan', 'ldexp', 'lgamma', 'log', 'log10', 'log1p', 'log2', 'modf', 'nan', 'pi', 'pow', 'radians', 'remainder', 'sin', 'sinh', 'sqrt', 'tan', 'tanh', 'tau', 'trunc']\n"
     ]
    }
   ],
   "source": [
    "import math\n",
    "print(dir(math))"
   ]
  },
  {
   "cell_type": "markdown",
   "metadata": {
    "colab_type": "text",
    "id": "DgJ6QJNQNkHJ",
    "slideshow": {
     "slide_type": "slide"
    }
   },
   "source": [
    "Para usar una función de un módulo debemos escribir el **nombre del módulo, después un punto y a continuación el nombre de la función**."
   ]
  },
  {
   "cell_type": "markdown",
   "metadata": {
    "colab_type": "text",
    "id": "KXMLWLoiNwTo",
    "slideshow": {
     "slide_type": "slide"
    }
   },
   "source": [
    "<div class=\"alert alert-info\">\n",
    "\n",
    "* Calcula el seno de varios valores.\n",
    "* Utiliza la constante `pi` y calcula algunos senos con dicha constante.\n",
    "\n",
    "</div>\n"
   ]
  },
  {
   "cell_type": "code",
   "execution_count": 16,
   "metadata": {
    "colab": {},
    "colab_type": "code",
    "id": "0Q5AXIHiOFf9"
   },
   "outputs": [
    {
     "data": {
      "text/plain": [
       "1.2246467991473532e-16"
      ]
     },
     "execution_count": 16,
     "metadata": {},
     "output_type": "execute_result"
    }
   ],
   "source": [
    "sin(math.pi)"
   ]
  },
  {
   "cell_type": "markdown",
   "metadata": {
    "colab_type": "text",
    "id": "xcgwqJmkOG4G",
    "slideshow": {
     "slide_type": "slide"
    }
   },
   "source": [
    "Si queremos usar solamente una o varias funciones del módulo utilizamos la construcción `from ... import ...` En este caso **no es necesario utilizar el nombre del módulo** antes del nombre de la función."
   ]
  },
  {
   "cell_type": "markdown",
   "metadata": {
    "colab_type": "text",
    "id": "Vu69--iVOaS_",
    "slideshow": {
     "slide_type": "slide"
    }
   },
   "source": [
    "<div class=\"alert alert-info\">\n",
    "\n",
    "Importar la función `sin()` y la constante `pi` y realiza algunos cálculos.\n",
    "\n",
    "</div>"
   ]
  },
  {
   "cell_type": "code",
   "execution_count": 20,
   "metadata": {},
   "outputs": [
    {
     "data": {
      "text/plain": [
       "1.0"
      ]
     },
     "execution_count": 20,
     "metadata": {},
     "output_type": "execute_result"
    }
   ],
   "source": [
    "from math import sin, pi\n",
    "sin(pi/2)\n"
   ]
  },
  {
   "cell_type": "markdown",
   "metadata": {
    "colab_type": "text",
    "id": "Tjk9kOjVOnER",
    "slideshow": {
     "slide_type": "slide"
    }
   },
   "source": [
    "A veces el nombre del módulo es demasiado largo o complicado y queremos **renombrarlo** para utilizarlo de manera más cómoda. Para ello utilizamos la palabra reservada `as`."
   ]
  },
  {
   "cell_type": "markdown",
   "metadata": {
    "slideshow": {
     "slide_type": "slide"
    }
   },
   "source": [
    "<div class=\"alert alert-info\">\n",
    "\n",
    "Renombra el módulo `math` como `m` y ejecuta alguna de las funciones.\n",
    "\n",
    "</div>"
   ]
  },
  {
   "cell_type": "code",
   "execution_count": 4,
   "metadata": {
    "colab": {
     "base_uri": "https://localhost:8080/",
     "height": 1000
    },
    "colab_type": "code",
    "executionInfo": {
     "elapsed": 92748,
     "status": "ok",
     "timestamp": 1564914468360,
     "user": {
      "displayName": "Jose Luis Tabara Carbajo",
      "photoUrl": "https://lh3.googleusercontent.com/-C_ZMVpiKR_c/AAAAAAAAAAI/AAAAAAAAICI/he5fzFV_8iI/s64/photo.jpg",
      "userId": "04839663227084200405"
     },
     "user_tz": -120
    },
    "id": "vJKibp7pKM5i",
    "outputId": "5bb41429-89f0-48e4-a92e-8c49903bcbfb"
   },
   "outputs": [
    {
     "data": {
      "text/plain": [
       "0.8939966636005579"
      ]
     },
     "execution_count": 4,
     "metadata": {},
     "output_type": "execute_result"
    }
   ],
   "source": [
    "import math as m\n",
    "m.sin(90)"
   ]
  },
  {
   "cell_type": "markdown",
   "metadata": {
    "colab": {
     "base_uri": "https://localhost:8080/",
     "height": 1000
    },
    "colab_type": "code",
    "executionInfo": {
     "elapsed": 2818,
     "status": "ok",
     "timestamp": 1564914798725,
     "user": {
      "displayName": "Jose Luis Tabara Carbajo",
      "photoUrl": "https://lh3.googleusercontent.com/-C_ZMVpiKR_c/AAAAAAAAAAI/AAAAAAAAICI/he5fzFV_8iI/s64/photo.jpg",
      "userId": "04839663227084200405"
     },
     "user_tz": -120
    },
    "id": "x5vIVAYlKjSX",
    "outputId": "31713b35-8e7d-40a7-a60f-5e40bc1f514f",
    "slideshow": {
     "slide_type": "slide"
    }
   },
   "source": [
    "Algo muy cómodo, **pero desaconsejable en general**, es importar todas las funciones del módulo. Ello puede redefinir alguna de las funciones que ya tengamos cargadas en nuestro archivo, lo cual puede provocar errores de difícil localización."
   ]
  },
  {
   "cell_type": "markdown",
   "metadata": {
    "colab": {},
    "colab_type": "code",
    "id": "Kolykz3IMMUh",
    "slideshow": {
     "slide_type": "slide"
    }
   },
   "source": [
    "<div class=\"alert alert-info\">\n",
    "\n",
    "Crea una función `sin()` e importa todas las funciones del módulo `math`. Intenta ejecutar dicha función.\n",
    "\n",
    "</div>"
   ]
  },
  {
   "cell_type": "code",
   "execution_count": 9,
   "metadata": {},
   "outputs": [
    {
     "data": {
      "text/plain": [
       "0.1411200080598672"
      ]
     },
     "execution_count": 9,
     "metadata": {},
     "output_type": "execute_result"
    }
   ],
   "source": [
    "def sin(x):\n",
    "    print(\"Mi función imprime\", x)\n",
    "    \n",
    "    \n",
    "from math import *\n",
    "\n",
    "sin(3)"
   ]
  },
  {
   "cell_type": "markdown",
   "metadata": {
    "slideshow": {
     "slide_type": "slide"
    }
   },
   "source": [
    "<div class=\"alert alert-info\">\n",
    "\n",
    "En el módulo `random` existe una función llamda `randint()`.  Mira su ayuda y ejecuta **con fundamento** dicha función. Si es necesario utiliza el tabulador.\n",
    "\n",
    "</div>"
   ]
  },
  {
   "cell_type": "code",
   "execution_count": 1,
   "metadata": {},
   "outputs": [
    {
     "name": "stdout",
     "output_type": "stream",
     "text": [
      "4\n",
      "1\n",
      "5\n",
      "4\n",
      "6\n",
      "5\n",
      "2\n",
      "6\n",
      "4\n",
      "3\n"
     ]
    }
   ],
   "source": [
    "import random\n",
    "for i in range(10):\n",
    "    print(random.randint(1,6))"
   ]
  },
  {
   "cell_type": "markdown",
   "metadata": {
    "slideshow": {
     "slide_type": "slide"
    }
   },
   "source": [
    "<center><h1>Fin</h1></center>\n",
    "<center><small>github.com/jltabara/PythonBasico</small></center>"
   ]
  },
  {
   "cell_type": "code",
   "execution_count": null,
   "metadata": {
    "slideshow": {
     "slide_type": "slide"
    }
   },
   "outputs": [],
   "source": []
  }
 ],
 "metadata": {
  "celltoolbar": "Slideshow",
  "colab": {
   "collapsed_sections": [],
   "name": "Untitled0.ipynb",
   "provenance": [],
   "version": "0.3.2"
  },
  "kernelspec": {
   "display_name": "Python 3",
   "language": "python",
   "name": "python3"
  },
  "language_info": {
   "codemirror_mode": {
    "name": "ipython",
    "version": 3
   },
   "file_extension": ".py",
   "mimetype": "text/x-python",
   "name": "python",
   "nbconvert_exporter": "python",
   "pygments_lexer": "ipython3",
   "version": "3.7.3"
  }
 },
 "nbformat": 4,
 "nbformat_minor": 1
}
