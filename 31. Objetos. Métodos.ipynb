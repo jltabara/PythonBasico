{
 "cells": [
  {
   "cell_type": "markdown",
   "metadata": {
    "slideshow": {
     "slide_type": "slide"
    }
   },
   "source": [
    "<center><h1>Objetos. Métodos </h1><br /></center>"
   ]
  },
  {
   "cell_type": "markdown",
   "metadata": {
    "slideshow": {
     "slide_type": "slide"
    }
   },
   "source": [
    "Las acciones que puede realizar un objeto se denominan **métodos**. En realidad un método no es más que una función\n",
    "definida dentro de la clase. **El primer parámetro debe ser siempre la palabra `self`** (de nuevo es convención). Para actuar sobre el objeto se utiliza la **notación punto**.\n",
    "\n",
    "Para crear una función o un método que **no haga nada** utilizamos la palabra reservada `pass`."
   ]
  },
  {
   "cell_type": "markdown",
   "metadata": {
    "slideshow": {
     "slide_type": "slide"
    }
   },
   "source": [
    "<div class=\"alert alert-info\">\n",
    "\n",
    "* Crea una clase que no haga nada.\n",
    "\n",
    "* Toma una función que simplemente imprima la palabra `Python` y conviertela en un método. Invoca dicho método de distintas formas.\n",
    "\n",
    "</div>"
   ]
  },
  {
   "cell_type": "code",
   "execution_count": null,
   "metadata": {},
   "outputs": [],
   "source": []
  },
  {
   "cell_type": "markdown",
   "metadata": {
    "slideshow": {
     "slide_type": "slide"
    }
   },
   "source": [
    "<div class=\"alert alert-info\">\n",
    "\n",
    "Toma una función que calcule el área de un rectángulo y transfórmala en un método. Realiza cálculos con ella.\n",
    "\n",
    "</div>"
   ]
  },
  {
   "cell_type": "code",
   "execution_count": null,
   "metadata": {},
   "outputs": [],
   "source": []
  },
  {
   "cell_type": "markdown",
   "metadata": {
    "slideshow": {
     "slide_type": "slide"
    }
   },
   "source": [
    "En general los métodos que definamos tendrán algo que ver con el contenido de la clase, pero no es necesario.\n",
    "\n",
    "**Los atributos contienen datos y los métodos actuan sobre dichos datos**.\n"
   ]
  },
  {
   "cell_type": "markdown",
   "metadata": {
    "slideshow": {
     "slide_type": "slide"
    }
   },
   "source": [
    "<div class=\"alert alert-info\">\n",
    "\n",
    "Crea un método que imprima por pantalla el contenido de los atributos de la clase punto, junto con algo de texto.\n",
    "\n",
    "</div>"
   ]
  },
  {
   "cell_type": "code",
   "execution_count": null,
   "metadata": {},
   "outputs": [],
   "source": []
  },
  {
   "cell_type": "markdown",
   "metadata": {
    "slideshow": {
     "slide_type": "slide"
    }
   },
   "source": [
    "<div class=\"alert alert-info\">\n",
    "\n",
    "Crea un método que calcule la distancia del origen hasta el punto (el módulo del vector).\n",
    "\n",
    "</div>"
   ]
  },
  {
   "cell_type": "code",
   "execution_count": null,
   "metadata": {},
   "outputs": [],
   "source": []
  },
  {
   "cell_type": "markdown",
   "metadata": {
    "slideshow": {
     "slide_type": "slide"
    }
   },
   "source": [
    "De momento ya podemos crear clases con las siguientes características:\n",
    "    \n",
    "* Pueden contener atributos.\n",
    "* Estos atributos se pueden inicializar.\n",
    "* Podemos añadir a la clase algunos métodos especiales.\n",
    "* Podemos crear métodos \"propios\" para nuestra clase."
   ]
  },
  {
   "cell_type": "markdown",
   "metadata": {
    "slideshow": {
     "slide_type": "slide"
    }
   },
   "source": [
    "<div class=\"alert alert-info\">\n",
    "    \n",
    "Construye una clase `Cuadrado` con las siguientes características:\n",
    "\n",
    "* Sus atributos serán `lado` y `color`.\n",
    "* Los atributos se podrán inicializar al crear la instancia.\n",
    "* Por defecto sus atributos serán de lado unidad y de color negro.\n",
    "* Crea un método especial `str()` que muestre la información del cuadrado.\n",
    "* Crea dos métodos `area()` y `perimetro()`.\n",
    "\n",
    "\n",
    "</div>"
   ]
  },
  {
   "cell_type": "code",
   "execution_count": null,
   "metadata": {
    "slideshow": {
     "slide_type": "slide"
    }
   },
   "outputs": [],
   "source": []
  },
  {
   "cell_type": "markdown",
   "metadata": {
    "slideshow": {
     "slide_type": "slide"
    }
   },
   "source": [
    "Un objeto ya creado es un nuevo tipo de dato y como tal ya se puede utilizar para crear nuevas clases. Para acceder a cada uno de los atributos o métodos creados de esta forma **se utiliza repetidamente la notación del punto**."
   ]
  },
  {
   "cell_type": "markdown",
   "metadata": {
    "slideshow": {
     "slide_type": "slide"
    }
   },
   "source": [
    "<div class=\"alert alert-info\">\n",
    "\n",
    "Crea una nueva clase llamada `Segmento`. Dicha clase estará formada por dos puntos, que serán los extremos de dicho segmento. Accede a sus atributos utilizando repetidamente la notación punto.\n",
    "\n",
    "<center>\n",
    "<img src=\"segmento.png\" width = \"350\">\n",
    "</center>\n",
    "\n",
    "</div>"
   ]
  },
  {
   "cell_type": "code",
   "execution_count": null,
   "metadata": {
    "slideshow": {
     "slide_type": "slide"
    }
   },
   "outputs": [],
   "source": []
  },
  {
   "cell_type": "markdown",
   "metadata": {
    "slideshow": {
     "slide_type": "slide"
    }
   },
   "source": [
    "<center><h1>Fin</h1></center>\n",
    "<center><small>github.com/jltabara/PythonBasico</small></center>"
   ]
  },
  {
   "cell_type": "code",
   "execution_count": null,
   "metadata": {
    "slideshow": {
     "slide_type": "slide"
    }
   },
   "outputs": [],
   "source": []
  }
 ],
 "metadata": {
  "celltoolbar": "Slideshow",
  "kernelspec": {
   "display_name": "Python 3",
   "language": "python",
   "name": "python3"
  },
  "language_info": {
   "codemirror_mode": {
    "name": "ipython",
    "version": 3
   },
   "file_extension": ".py",
   "mimetype": "text/x-python",
   "name": "python",
   "nbconvert_exporter": "python",
   "pygments_lexer": "ipython3",
   "version": "3.7.3"
  }
 },
 "nbformat": 4,
 "nbformat_minor": 2
}
