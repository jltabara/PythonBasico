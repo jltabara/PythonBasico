{
 "cells": [
  {
   "cell_type": "markdown",
   "metadata": {
    "slideshow": {
     "slide_type": "slide"
    }
   },
   "source": [
    "<center><h1>Ciclo for</h1><br /></center>"
   ]
  },
  {
   "cell_type": "markdown",
   "metadata": {
    "slideshow": {
     "slide_type": "slide"
    }
   },
   "source": [
    "El ciclo `for` se utiliza al realizar un bucle en el que **se conocen exactamente cuantas iteraciones se van a realizar**. Para ello debemos utilizar un tipo de dato iterable: listas, tuplas, cadenas, rangos...\n",
    "\n",
    "Su estructura es\n",
    "```python\n",
    "for <contador> in <iterable>:\n",
    "    bloque\n",
    "```    "
   ]
  },
  {
   "cell_type": "markdown",
   "metadata": {
    "slideshow": {
     "slide_type": "slide"
    }
   },
   "source": [
    "<div class=\"alert alert-info\">\n",
    "\n",
    "* Dada la lista `[1, 4, 7, 9]` muestra por pantalla, uno a uno, sus elementos.\n",
    "\n",
    "* Haz lo mismo pero con una tupla, con una cadena y con la función `range()`.\n",
    "\n",
    "</div>"
   ]
  },
  {
   "cell_type": "code",
   "execution_count": 15,
   "metadata": {},
   "outputs": [
    {
     "name": "stdout",
     "output_type": "stream",
     "text": [
      "C\n",
      "a\n",
      "d\n",
      "e\n",
      "n\n",
      "a\n"
     ]
    }
   ],
   "source": [
    "for i in \"Cadena\":\n",
    "    print(i)"
   ]
  },
  {
   "cell_type": "markdown",
   "metadata": {
    "slideshow": {
     "slide_type": "slide"
    }
   },
   "source": [
    "Muchos cálculos que hemos realizado con `while`  pueden ser más sencillos de realizar con el bucle `for`."
   ]
  },
  {
   "cell_type": "markdown",
   "metadata": {
    "slideshow": {
     "slide_type": "slide"
    }
   },
   "source": [
    "<div class=\"alert alert-info\">\n",
    "\n",
    "* Imprime 5 veces la frase `Estoy estudiando Python`.\n",
    "\n",
    "* Suma los 100 primeros números (del 1 al 100 incluido).\n",
    "\n",
    "* Dado un número, conviertelo a cadena y suma cada una de sus cifras.\n",
    "\n",
    "</div>"
   ]
  },
  {
   "cell_type": "code",
   "execution_count": 19,
   "metadata": {},
   "outputs": [
    {
     "name": "stdout",
     "output_type": "stream",
     "text": [
      "29\n"
     ]
    }
   ],
   "source": [
    "numero = \"23123123123123\"\n",
    "suma = 0\n",
    "\n",
    "for i in numero:\n",
    "    suma += int(i)\n",
    "print(suma)"
   ]
  },
  {
   "cell_type": "markdown",
   "metadata": {
    "slideshow": {
     "slide_type": "slide"
    }
   },
   "source": [
    "En muchas iteraciones es interesante conocer además del valor también el índice de dicho valor. Esto se puede hacer con un poco de trabajo en un bucle `for`."
   ]
  },
  {
   "cell_type": "markdown",
   "metadata": {
    "slideshow": {
     "slide_type": "slide"
    }
   },
   "source": [
    "<div class=\"alert alert-info\">\n",
    "    \n",
    "Dada la lista `[3, 7, 9, \"hola\"]` imprime cada valor junto con su índice.\n",
    "    \n",
    "</div>"
   ]
  },
  {
   "cell_type": "code",
   "execution_count": 7,
   "metadata": {},
   "outputs": [
    {
     "name": "stdout",
     "output_type": "stream",
     "text": [
      "0 --> 3\n",
      "1 --> 7\n",
      "2 --> 9\n",
      "3 --> hola\n"
     ]
    }
   ],
   "source": [
    "indice = 0\n",
    "lista = [3, 7, 9, \"hola\"]\n",
    "for i in lista:\n",
    "    print(indice,\"-->\", i)\n",
    "    indice = indice + 1"
   ]
  },
  {
   "cell_type": "markdown",
   "metadata": {
    "slideshow": {
     "slide_type": "slide"
    }
   },
   "source": [
    "Sin embargo es más sencillo utilizar la función `enumerate()` que devuelve una \"lista\" formada por pares de valores, donde el primer valor del par es el índice y el segundo el valor. En realidad la función `enumerate()` se puede aplicar a cualquier tipo de iterable.\n",
    "\n",
    "Esto nos permite realizar los bucles anteriores de manera más sencilla."
   ]
  },
  {
   "cell_type": "markdown",
   "metadata": {
    "slideshow": {
     "slide_type": "slide"
    }
   },
   "source": [
    "<div class=\"alert alert-info\">\n",
    "    \n",
    "* Dada la lista `[3, 7, 9, \"hola\"]` emplea la función `enumerate()` para comprobar que devuelve una lista de pares.\n",
    "\n",
    "* Realiza un bucle `for` utilizando la función `enumerate()`.\n",
    "\n",
    "</div>"
   ]
  },
  {
   "cell_type": "code",
   "execution_count": 12,
   "metadata": {},
   "outputs": [
    {
     "name": "stdout",
     "output_type": "stream",
     "text": [
      "0 ---> 3\n",
      "1 ---> 7\n",
      "2 ---> 9\n",
      "3 ---> hola\n"
     ]
    }
   ],
   "source": [
    "for indice, valor in enumerate(lista):\n",
    "    print(indice, \"--->\", valor)\n",
    "    \n",
    "enumerate?"
   ]
  },
  {
   "cell_type": "markdown",
   "metadata": {
    "slideshow": {
     "slide_type": "slide"
    }
   },
   "source": [
    "`break` y `continue` también funcionan para bucles `for`."
   ]
  },
  {
   "cell_type": "code",
   "execution_count": null,
   "metadata": {},
   "outputs": [],
   "source": []
  },
  {
   "cell_type": "markdown",
   "metadata": {
    "slideshow": {
     "slide_type": "slide"
    }
   },
   "source": [
    "<center><h1>Fin</h1></center>\n",
    "<center><small>github.com/jltabara/PythonBasico</small></center>"
   ]
  },
  {
   "cell_type": "code",
   "execution_count": null,
   "metadata": {
    "slideshow": {
     "slide_type": "slide"
    }
   },
   "outputs": [],
   "source": []
  }
 ],
 "metadata": {
  "celltoolbar": "Slideshow",
  "kernelspec": {
   "display_name": "Python 3",
   "language": "python",
   "name": "python3"
  },
  "language_info": {
   "codemirror_mode": {
    "name": "ipython",
    "version": 3
   },
   "file_extension": ".py",
   "mimetype": "text/x-python",
   "name": "python",
   "nbconvert_exporter": "python",
   "pygments_lexer": "ipython3",
   "version": "3.7.3"
  }
 },
 "nbformat": 4,
 "nbformat_minor": 2
}
