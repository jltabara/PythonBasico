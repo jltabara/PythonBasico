{
 "cells": [
  {
   "cell_type": "markdown",
   "metadata": {
    "slideshow": {
     "slide_type": "slide"
    }
   },
   "source": [
    "<center><h1>Estadística básica</h1><br /></center>"
   ]
  },
  {
   "cell_type": "markdown",
   "metadata": {
    "slideshow": {
     "slide_type": "slide"
    }
   },
   "source": [
    "Python tiene algunas funciones implementadas que nos permiten realizar cálculos estadísticos simples: `max()` calcula el máximo de una lista, `min()` calcula el mínimo, `sum()` suma todos los datos de una lista y `len()` nos permite calcular el número total de datos, que se suele denotar por `n`."
   ]
  },
  {
   "cell_type": "markdown",
   "metadata": {
    "slideshow": {
     "slide_type": "slide"
    }
   },
   "source": [
    "<div class=\"alert alert-info\">\n",
    "\n",
    "Dada la lista `datos= [3, 7, 2, 1, 7, 9]`:\n",
    "\n",
    "* Calcular el máximo y el mínimo, así como el rango.\n",
    "* Calcular la suma de todos los datos y el número de datos.\n",
    "* Calcular la media aritmética utilizando la fórmula:\n",
    "$$\n",
    "\\bar x =\\frac{\\sum x}{n}\n",
    "$$\n",
    "* Calcula la suma de todos los cuadrados de los datos.\n",
    "\n",
    "</div>"
   ]
  },
  {
   "cell_type": "code",
   "execution_count": 26,
   "metadata": {
    "slideshow": {
     "slide_type": "slide"
    }
   },
   "outputs": [
    {
     "data": {
      "text/plain": [
       "193"
      ]
     },
     "execution_count": 26,
     "metadata": {},
     "output_type": "execute_result"
    }
   ],
   "source": [
    "datos= [3,7,2,1,7,9]\n",
    "sum( [i ** 2 for i in datos])"
   ]
  },
  {
   "cell_type": "markdown",
   "metadata": {
    "slideshow": {
     "slide_type": "slide"
    }
   },
   "source": [
    "Sin embargo, para avanzar algo más en estadística, debemos utilizar algún módulo. El más sencillo de todos es `statistics` que permite hacer estadística unidimensional. Estudiaremos sus funciones más importantes.\n",
    "\n",
    "La función `mean()` calcula la media aritmética y `harmonic_mean` calcula la media armónica."
   ]
  },
  {
   "cell_type": "markdown",
   "metadata": {
    "slideshow": {
     "slide_type": "slide"
    }
   },
   "source": [
    "<div class=\"alert alert-info\">\n",
    "\n",
    "Dada la lista `datos= [3, 7, 2, 1, 7, 9]`:\n",
    "\n",
    "* Calcula la media aritmética.\n",
    "\n",
    "* Calcula la media armónica. Recordemos que la media armónica se calcula con la fórmula:\n",
    "\n",
    "$$\n",
    "H = \\frac{n}{\\dfrac{1}{x_1} \\dots \\dfrac{1}{x_n}}\n",
    "$$\n",
    "\n",
    "* Comprueba la fórmula de la media armónica.\n",
    "\n",
    "\n",
    "</div>"
   ]
  },
  {
   "cell_type": "code",
   "execution_count": 32,
   "metadata": {
    "slideshow": {
     "slide_type": "slide"
    }
   },
   "outputs": [
    {
     "data": {
      "text/plain": [
       "2.6903914590747333"
      ]
     },
     "execution_count": 32,
     "metadata": {},
     "output_type": "execute_result"
    }
   ],
   "source": [
    "import statistics as sd\n",
    "datos= [3,7,2,1,7,9]\n",
    "x = [1 / i for i in datos]\n",
    "len(x) / sum(x)\n",
    "sd.harmonic_mean(datos)"
   ]
  },
  {
   "cell_type": "markdown",
   "metadata": {
    "slideshow": {
     "slide_type": "slide"
    }
   },
   "source": [
    "Si el número de datos es impar **la mediana es el valor central**, una vez ordenados todos los datos. Se calcula con `median()`. Si hay un número par de datos hay dos valores centrales: elvalor más bajo se calcula con `median_low()`y el mayor con `median_high()`. La mediana es la media aritmética de estos dos últimos valores."
   ]
  },
  {
   "cell_type": "markdown",
   "metadata": {
    "slideshow": {
     "slide_type": "slide"
    }
   },
   "source": [
    "<div class=\"alert alert-info\">\n",
    "\n",
    "Dada la lista `datos= [3, 7, 2, 1, 7, 9]`:\n",
    "\n",
    "* Ordena la lista de menor a mayor.\n",
    "\n",
    "* Calcula la mediana inferior y superior, así como la mediana.\n",
    "\n",
    "* Comprueba que los valores son los mismos sin ordenar la lista.\n",
    "\n",
    "* Añade un elemento a lista (número impar de datos) y calcula nuevamente las medianas.\n",
    "\n",
    "\n",
    "</div>    "
   ]
  },
  {
   "cell_type": "code",
   "execution_count": 46,
   "metadata": {
    "slideshow": {
     "slide_type": "slide"
    }
   },
   "outputs": [
    {
     "data": {
      "text/plain": [
       "4"
      ]
     },
     "execution_count": 46,
     "metadata": {},
     "output_type": "execute_result"
    }
   ],
   "source": [
    "datos= [3,7,2,1,7,9]\n",
    "datos.append(4)\n",
    "sd.median_high(datos)\n"
   ]
  },
  {
   "cell_type": "markdown",
   "metadata": {
    "slideshow": {
     "slide_type": "slide"
    }
   },
   "source": [
    "La moda es el valor que más se repite. Pueden existir muchas modas en el conjunto de datos. La función `mode()` solamente devuelve una moda. En caso de que existan varias modas la función produce un error."
   ]
  },
  {
   "cell_type": "markdown",
   "metadata": {
    "slideshow": {
     "slide_type": "slide"
    }
   },
   "source": [
    "<div class=\"alert alert-info\">\n",
    "\n",
    "Dada la lista `datos= [3, 7, 2, 1, 7, 9]`:\n",
    "\n",
    "* Calcula la moda.\n",
    "\n",
    "* Añade un dato repetido más y comprueba que da error.\n",
    "\n",
    "</div>"
   ]
  },
  {
   "cell_type": "code",
   "execution_count": null,
   "metadata": {},
   "outputs": [],
   "source": []
  },
  {
   "cell_type": "markdown",
   "metadata": {
    "slideshow": {
     "slide_type": "slide"
    }
   },
   "source": [
    "La varianza y la desviación típica tienen distinta fórmula si se aplica a una población total o solamente a una muestra. La varianza poblacional se calcula con `pvariance()` y tiene la fórmula:\n",
    "\n",
    "$$\n",
    "\\sigma^2 = \\frac{\\sum(x-\\mu)^2}{n}\n",
    "$$\n",
    "\n",
    "La de la varianza muestral es muy similar:\n",
    "\n",
    "$$\n",
    "s^2 = \\frac{\\sum(x-\\mu)^2}{n - 1}\n",
    "$$\n"
   ]
  },
  {
   "cell_type": "markdown",
   "metadata": {
    "slideshow": {
     "slide_type": "slide"
    }
   },
   "source": [
    "<div class=\"alert alert-info\">\n",
    "\n",
    "Dada la lista `datos= [3, 7, 2, 1, 7, 9]`:\n",
    "\n",
    "* Calcula la varianza poblacional y la desviación típica. Comprueba que una es la raíz cuadrada de la otra.\n",
    "\n",
    "* Has lo mismo con la varianza muestral.\n",
    "\n",
    "</div>"
   ]
  },
  {
   "cell_type": "code",
   "execution_count": 56,
   "metadata": {
    "slideshow": {
     "slide_type": "slide"
    }
   },
   "outputs": [
    {
     "data": {
      "text/plain": [
       "(10.566666666666665, 10.566666666666666)"
      ]
     },
     "execution_count": 56,
     "metadata": {},
     "output_type": "execute_result"
    }
   ],
   "source": [
    "datos= [3, 7, 2, 1, 7, 9]\n",
    "\n",
    "sd.variance(datos)\n",
    "sd.stdev(datos) ** 2, sd.variance(datos)"
   ]
  },
  {
   "cell_type": "markdown",
   "metadata": {
    "slideshow": {
     "slide_type": "slide"
    }
   },
   "source": [
    "<center><h1>Fin</h1></center>\n",
    "<center><small>github.com/jltabara/PythonBasico</small></center>"
   ]
  },
  {
   "cell_type": "code",
   "execution_count": null,
   "metadata": {
    "slideshow": {
     "slide_type": "slide"
    }
   },
   "outputs": [],
   "source": []
  }
 ],
 "metadata": {
  "celltoolbar": "Slideshow",
  "kernelspec": {
   "display_name": "Python 3",
   "language": "python",
   "name": "python3"
  },
  "language_info": {
   "codemirror_mode": {
    "name": "ipython",
    "version": 3
   },
   "file_extension": ".py",
   "mimetype": "text/x-python",
   "name": "python",
   "nbconvert_exporter": "python",
   "pygments_lexer": "ipython3",
   "version": "3.7.3"
  }
 },
 "nbformat": 4,
 "nbformat_minor": 2
}
