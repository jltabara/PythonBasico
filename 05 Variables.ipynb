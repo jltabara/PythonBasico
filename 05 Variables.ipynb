{
 "cells": [
  {
   "cell_type": "markdown",
   "metadata": {
    "slideshow": {
     "slide_type": "slide"
    }
   },
   "source": [
    "<center><h1>Variables</h1><br /></center>"
   ]
  },
  {
   "cell_type": "markdown",
   "metadata": {
    "slideshow": {
     "slide_type": "slide"
    }
   },
   "source": [
    "Para crear una variable tenemos que escribir el **nombre de la variable, después un signo igual (operador de asignación) y a la derecha el valor** que queremos guardar en dicha variable.\n",
    "\n",
    "Para imprimir el contenido de una variable escribimos el **nombre de la variable, sin comillas**, dentro de la función `print()`."
   ]
  },
  {
   "cell_type": "markdown",
   "metadata": {
    "slideshow": {
     "slide_type": "slide"
    }
   },
   "source": [
    "<div class=\"alert alert-info\">\n",
    "\n",
    "Guarda el número 56 en una variable de nombre `numero` e imprímela por pantalla.\n",
    "\n",
    "</div>"
   ]
  },
  {
   "cell_type": "code",
   "execution_count": null,
   "metadata": {},
   "outputs": [],
   "source": []
  },
  {
   "cell_type": "markdown",
   "metadata": {
    "slideshow": {
     "slide_type": "slide"
    }
   },
   "source": [
    "Con los **nombres de variables** podemos realizar los mismos tipos de operaciones que hacíamos con números."
   ]
  },
  {
   "cell_type": "markdown",
   "metadata": {
    "slideshow": {
     "slide_type": "slide"
    }
   },
   "source": [
    "<div class=\"alert alert-info\">\n",
    "\n",
    "Guarda los valores 56 y 45 en dos variables y realiza operaciones con dichas variables.\n",
    "\n",
    "</div>"
   ]
  },
  {
   "cell_type": "code",
   "execution_count": null,
   "metadata": {},
   "outputs": [],
   "source": []
  },
  {
   "cell_type": "markdown",
   "metadata": {
    "slideshow": {
     "slide_type": "slide"
    }
   },
   "source": [
    "Las variables (como su nombre indica) **pueden cambiar su contenido a lo largo del programa**."
   ]
  },
  {
   "cell_type": "markdown",
   "metadata": {
    "slideshow": {
     "slide_type": "slide"
    }
   },
   "source": [
    "<div class=\"alert alert-info\">\n",
    "    \n",
    "Guarda distintos números en una misma variable e imprímelos por pantalla.\n",
    "\n",
    "</div>"
   ]
  },
  {
   "cell_type": "code",
   "execution_count": null,
   "metadata": {},
   "outputs": [],
   "source": []
  },
  {
   "cell_type": "markdown",
   "metadata": {
    "slideshow": {
     "slide_type": "slide"
    }
   },
   "source": [
    "En una misma línea de código se pueden inicializar varias variables. Para ello escribimos las **variables separadas por comas**, después el operador de asignación (`=`) y a la derecha los valores que queremos almacenar, separados también por comas."
   ]
  },
  {
   "cell_type": "markdown",
   "metadata": {
    "slideshow": {
     "slide_type": "slide"
    }
   },
   "source": [
    "<div class=\"alert alert-info\">\n",
    "    \n",
    "Almacena distintos números en varias variables utilizando una única línea de código.\n",
    "\n",
    "</div>\n",
    "    "
   ]
  },
  {
   "cell_type": "code",
   "execution_count": null,
   "metadata": {},
   "outputs": [],
   "source": []
  },
  {
   "cell_type": "markdown",
   "metadata": {
    "slideshow": {
     "slide_type": "slide"
    }
   },
   "source": [
    "Si queremos borrar una variable usamos la instrucción `del`. Al intentar acceder a una variable que no existe tenemos un error."
   ]
  },
  {
   "cell_type": "markdown",
   "metadata": {
    "slideshow": {
     "slide_type": "slide"
    }
   },
   "source": [
    "<div class=\"alert alert-info\">\n",
    "    \n",
    "Intenta acceder a una variable inexistente. Crea una variable y después bórrala con `del`. Comprueba que ya no es accesible.\n",
    "\n",
    "</div>"
   ]
  },
  {
   "cell_type": "code",
   "execution_count": null,
   "metadata": {},
   "outputs": [],
   "source": []
  },
  {
   "cell_type": "markdown",
   "metadata": {
    "slideshow": {
     "slide_type": "slide"
    }
   },
   "source": [
    "En una misma sentencia `print()` podemos imprimir **a la vez texto y variables**. Para ello debemos escribir el nombre de la variable **entre llaves**. Tenemos que comenzar el texto con la letra f, que proviene del inglés *format* (se conocen en inglés como *f-strings*).\n",
    "\n",
    "También se pueden imprimir separando las diversas partes de la frase con comas, sin utilizar la letra `f`."
   ]
  },
  {
   "cell_type": "markdown",
   "metadata": {
    "slideshow": {
     "slide_type": "slide"
    }
   },
   "source": [
    "<div class=\"alert alert-info\">\n",
    "\n",
    "Crea variables e imprímelas  con algo de texto. Utiliza *f-strings*. Después imprímelas sin usar *f-strings*.\n",
    "\n",
    "</div>"
   ]
  },
  {
   "cell_type": "code",
   "execution_count": null,
   "metadata": {},
   "outputs": [],
   "source": []
  },
  {
   "cell_type": "markdown",
   "metadata": {
    "slideshow": {
     "slide_type": "slide"
    }
   },
   "source": [
    "Las cadenas de texto (*string* en inglés) se escriben siempre entre comillas y también se pueden almacenar en variables.\n",
    "\n",
    "Una variable puede contener en un determinado momento un número y en el mismo programa también una cadena. Esta característica se conoce como **tipado dinámico** y no existe en todos los lenguajes."
   ]
  },
  {
   "cell_type": "markdown",
   "metadata": {
    "slideshow": {
     "slide_type": "slide"
    }
   },
   "source": [
    "<div class=\"alert alert-info\">\n",
    "    \n",
    "\n",
    "Almacena una cadena de texto en una variable e imprímela por pantalla. Almacena después números de distintos tipos.\n",
    "\n",
    "</div>"
   ]
  },
  {
   "cell_type": "code",
   "execution_count": null,
   "metadata": {},
   "outputs": [],
   "source": []
  },
  {
   "cell_type": "markdown",
   "metadata": {
    "slideshow": {
     "slide_type": "slide"
    }
   },
   "source": [
    "Los nombres de las variables pueden ser muy variados, pero están sujetos a una serie de restricciones:\n",
    "\n",
    "* Los nombres no pueden **comenzar** por números\n",
    "\n",
    "* Los nombres no pueden **contener espacios en blanco**.\n",
    "\n",
    "* Recordar que Python diferencia mayúsculas y  minúsculas.\n",
    "\n",
    "* No se pueden usar palabras reservadas."
   ]
  },
  {
   "cell_type": "markdown",
   "metadata": {
    "slideshow": {
     "slide_type": "slide"
    }
   },
   "source": [
    "<div class=\"alert alert-info\">\n",
    "\n",
    "Introduce nombres de variables incorrectos y analiza los errores.\n",
    "\n",
    "</div>"
   ]
  },
  {
   "cell_type": "code",
   "execution_count": null,
   "metadata": {},
   "outputs": [],
   "source": []
  },
  {
   "cell_type": "markdown",
   "metadata": {
    "slideshow": {
     "slide_type": "slide"
    }
   },
   "source": [
    "Recomendaciones para el nombre de variables:\n",
    "    \n",
    "* Siempre se escriben en minúsculas.\n",
    "\n",
    "* Si el nombre está formado por varias palabras se utiliza el guión bajo para simular los espacios en blanco.\n",
    "\n",
    "* El nombre de la variable debe de estar relacionado con su contenido.\n",
    "\n",
    "* No es conveniente usar caracteres acentuados, ni eñes, ni caracteres \"extraños\"."
   ]
  },
  {
   "cell_type": "markdown",
   "metadata": {
    "slideshow": {
     "slide_type": "slide"
    }
   },
   "source": [
    "<div class=\"alert alert-info\">\n",
    "\n",
    "Crea nombres de variables no recomendados y comprueba que no existen errores.\n",
    "\n",
    "</div>"
   ]
  },
  {
   "cell_type": "code",
   "execution_count": null,
   "metadata": {},
   "outputs": [],
   "source": []
  },
  {
   "cell_type": "markdown",
   "metadata": {
    "slideshow": {
     "slide_type": "slide"
    }
   },
   "source": [
    "Todas las variables se **guardan en la memoria (RAM) del ordenador**. La memoria está compuesta por un determinado número de celdas. **Cada celda tiene asociado un número**. Para conocer el lugar de la memoria donde se guarda  el dato almacenado en una variable utilizamos la función `id()`."
   ]
  },
  {
   "cell_type": "markdown",
   "metadata": {
    "slideshow": {
     "slide_type": "slide"
    }
   },
   "source": [
    "<div class=\"alert alert-info\">\n",
    "    \n",
    "Crea una variable y encuentra la posición en memoria del dato que almacena. Guarda otro dato y comprueba que se guarda en otro lugar de la memoria.\n",
    "\n",
    "</div>\n",
    "   "
   ]
  },
  {
   "cell_type": "code",
   "execution_count": null,
   "metadata": {},
   "outputs": [],
   "source": []
  },
  {
   "cell_type": "markdown",
   "metadata": {
    "slideshow": {
     "slide_type": "slide"
    }
   },
   "source": [
    "<center><h1>Fin</h1></center>\n",
    "<center><small>github.com/jltabara/PythonBasico</small></center>"
   ]
  },
  {
   "cell_type": "code",
   "execution_count": null,
   "metadata": {
    "slideshow": {
     "slide_type": "slide"
    }
   },
   "outputs": [],
   "source": []
  }
 ],
 "metadata": {
  "celltoolbar": "Slideshow",
  "kernelspec": {
   "display_name": "Python 3",
   "language": "python",
   "name": "python3"
  },
  "language_info": {
   "codemirror_mode": {
    "name": "ipython",
    "version": 3
   },
   "file_extension": ".py",
   "mimetype": "text/x-python",
   "name": "python",
   "nbconvert_exporter": "python",
   "pygments_lexer": "ipython3",
   "version": "3.7.3"
  }
 },
 "nbformat": 4,
 "nbformat_minor": 2
}
