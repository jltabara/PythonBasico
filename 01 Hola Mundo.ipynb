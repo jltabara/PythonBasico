{
 "cells": [
  {
   "cell_type": "markdown",
   "metadata": {
    "slideshow": {
     "slide_type": "slide"
    }
   },
   "source": [
    "<center><h1>Hola mundo</h1><br /></center>"
   ]
  },
  {
   "cell_type": "markdown",
   "metadata": {
    "slideshow": {
     "slide_type": "slide"
    }
   },
   "source": [
    "\n",
    "Para imprimir por pantalla cualquier texto utilizamos la función **`print()`**. El texto que queramos mostrar debe estar **entre comillas**. Las comillas pueden ser **dobles** o **simples**."
   ]
  },
  {
   "cell_type": "markdown",
   "metadata": {
    "slideshow": {
     "slide_type": "slide"
    }
   },
   "source": [
    "<div class=\"alert alert-info\">\n",
    "\n",
    "Imprime por pantalla la frase:\n",
    "\n",
    "```python\n",
    "Hola mundo\n",
    "```\n",
    "\n",
    "</div>"
   ]
  },
  {
   "cell_type": "code",
   "execution_count": 1,
   "metadata": {},
   "outputs": [
    {
     "name": "stdout",
     "output_type": "stream",
     "text": [
      "Hola mundo\n"
     ]
    }
   ],
   "source": [
    "print(\"Hola mundo\")"
   ]
  },
  {
   "cell_type": "markdown",
   "metadata": {
    "slideshow": {
     "slide_type": "slide"
    }
   },
   "source": [
    "<div class=\"alert alert-info\">\n",
    "    \n",
    "Imprime la misma frase pero utilizando el otro tipo de comillas.\n",
    "\n",
    "</div>"
   ]
  },
  {
   "cell_type": "code",
   "execution_count": 15,
   "metadata": {},
   "outputs": [
    {
     "name": "stdout",
     "output_type": "stream",
     "text": [
      "Hola mundo\n"
     ]
    }
   ],
   "source": [
    "print('Hola mundo')"
   ]
  },
  {
   "cell_type": "markdown",
   "metadata": {
    "slideshow": {
     "slide_type": "slide"
    }
   },
   "source": [
    "Algunas veces cometemos errores al teclear la función **`print()`**. Los errores más comunes son:\n",
    "\n",
    "* Olvidar escribir las comillas.\n",
    "\n",
    "* Escribir la palabra **`print()`** con mayúsculas.\n",
    "\n",
    "* Dejar algún espacio en blanco antes de escribir la función.\n"
   ]
  },
  {
   "cell_type": "markdown",
   "metadata": {
    "slideshow": {
     "slide_type": "slide"
    }
   },
   "source": [
    "<div class=\"alert alert-info\">\n",
    "\n",
    "Escribe sin comillas y con mayúsculas. Analiza el tipo de errores.\n",
    "\n",
    "</div>"
   ]
  },
  {
   "cell_type": "code",
   "execution_count": 14,
   "metadata": {},
   "outputs": [
    {
     "name": "stdout",
     "output_type": "stream",
     "text": [
      "Hola\n"
     ]
    }
   ],
   "source": [
    "print(\"Hola\")"
   ]
  },
  {
   "cell_type": "markdown",
   "metadata": {
    "slideshow": {
     "slide_type": "slide"
    }
   },
   "source": [
    "Para escribir varias líneas podemos utilizar varias veces la función **`print()`** o también utilizar el caracter nueva línea **`\\n`**. Los carácteres que empiezan con la contrabarra se llaman **caracteres de escape**."
   ]
  },
  {
   "cell_type": "markdown",
   "metadata": {
    "slideshow": {
     "slide_type": "slide"
    }
   },
   "source": [
    "<div class=\"alert alert-info\">\n",
    "\n",
    "Imprime por pantalla, utilizando dos `print()`, las frases:\n",
    "\n",
    "```python\n",
    "Hola mundo\n",
    "Adiós mundo\n",
    "```\n",
    "    \n",
    "Comprueba que un fallo en la indentación da lugar a un error.\n",
    "\n",
    "</div>"
   ]
  },
  {
   "cell_type": "code",
   "execution_count": 2,
   "metadata": {},
   "outputs": [
    {
     "name": "stdout",
     "output_type": "stream",
     "text": [
      "Hola mundo\n",
      "Adiós mundo\n"
     ]
    }
   ],
   "source": [
    "print(\"Hola mundo\")\n",
    "print(\"Adiós mundo\")"
   ]
  },
  {
   "cell_type": "markdown",
   "metadata": {
    "slideshow": {
     "slide_type": "slide"
    }
   },
   "source": [
    "<div class=\"alert alert-info\">\n",
    "    \n",
    "Imprime las dos frases anteriores, pero utilizando una única vez la función `print()`.\n",
    "\n",
    "</div>"
   ]
  },
  {
   "cell_type": "code",
   "execution_count": 6,
   "metadata": {},
   "outputs": [
    {
     "name": "stdout",
     "output_type": "stream",
     "text": [
      "Hola Mundo\n",
      "Adiós Mundo\n"
     ]
    }
   ],
   "source": [
    "print(\"Hola Mundo\\nAdiós Mundo\")"
   ]
  },
  {
   "cell_type": "markdown",
   "metadata": {
    "slideshow": {
     "slide_type": "slide"
    }
   },
   "source": [
    "Para escribir comillas dentro de las frases se utiliza **`\\\"`**. En el texto presentado por pantalla solamente se imprimen las comillas.\n",
    "\n",
    "También se pueden **escribir comillas simples dentro de comillas dobles y a la inversa**.\n"
   ]
  },
  {
   "cell_type": "markdown",
   "metadata": {
    "slideshow": {
     "slide_type": "slide"
    }
   },
   "source": [
    "<div class=\"alert alert-info\">\n",
    "\n",
    "Imprime la frase, utilizando comillas simples como delimitadores del texto y también utilizando caracteres de escape:\n",
    "\n",
    "```\n",
    "\"Python\" es un lenguaje\n",
    "```\n",
    "\n",
    "</div>"
   ]
  },
  {
   "cell_type": "code",
   "execution_count": 9,
   "metadata": {},
   "outputs": [
    {
     "name": "stdout",
     "output_type": "stream",
     "text": [
      "\"Python\" es un lenguaje\n"
     ]
    }
   ],
   "source": [
    "print(\"\\\"Python\\\" es un lenguaje\")"
   ]
  },
  {
   "cell_type": "markdown",
   "metadata": {
    "slideshow": {
     "slide_type": "slide"
    }
   },
   "source": [
    "Además de **`\\'`**, **`\\\"`** y **`\\n`** existen otros caracteres de escape. El primero es **`\\\\`**  que imprime una única barra invertida. Solo es necesario usarlo algunas veces. El tabulador se consigue con **`\\t`**."
   ]
  },
  {
   "cell_type": "markdown",
   "metadata": {
    "slideshow": {
     "slide_type": "slide"
    }
   },
   "source": [
    "<div class=\"alert alert-info\">\n",
    "\n",
    "* Imprime una cadena donde no sea necesario usar el caracter de escape de la barra invertida y otra en la que si.\n",
    "    \n",
    "* Escribe con una única sentencia `print()`:\n",
    "    \n",
    "```python\n",
    "nombre:\n",
    "    Armando\n",
    "    Jaleo\n",
    "```\n",
    "\n",
    "\n",
    "</div>"
   ]
  },
  {
   "cell_type": "code",
   "execution_count": null,
   "metadata": {},
   "outputs": [],
   "source": []
  },
  {
   "cell_type": "markdown",
   "metadata": {
    "slideshow": {
     "slide_type": "slide"
    }
   },
   "source": [
    "Otra forma de solucionar el problema de las comillas es **utilizar comillas triples** para delimitar el texto y escribir las comillas normales dentro del texto."
   ]
  },
  {
   "cell_type": "markdown",
   "metadata": {
    "slideshow": {
     "slide_type": "slide"
    }
   },
   "source": [
    "<div class=\"alert alert-info\">\n",
    "\n",
    "Imprime la frase, utilizando comillas triples:\n",
    "\n",
    "```\n",
    "\"Python\" es un lenguaje\n",
    "```\n",
    "\n",
    "</div>"
   ]
  },
  {
   "cell_type": "code",
   "execution_count": 8,
   "metadata": {},
   "outputs": [
    {
     "name": "stdout",
     "output_type": "stream",
     "text": [
      "\"Python\" es un lenguaje\n"
     ]
    }
   ],
   "source": [
    "print(\"\"\"\"Python\" es un lenguaje\"\"\")"
   ]
  },
  {
   "cell_type": "markdown",
   "metadata": {
    "slideshow": {
     "slide_type": "slide"
    }
   },
   "source": [
    "A veces nos puede interesar escribir una cadena que tenga caracteres de escape pero deseamos escribirlos tal cual, y no queremos que la función **`print()`** los interprete. Para esto basta colocar una **`r`** delante de la primera cadena que encierra la cadena."
   ]
  },
  {
   "cell_type": "markdown",
   "metadata": {
    "slideshow": {
     "slide_type": "slide"
    }
   },
   "source": [
    "<div class=\"alert alert-info\">\n",
    "\n",
    "Utiliza `print()` para escribir el siguiente texto por pantalla:\n",
    "    \n",
    "```\n",
    "\\\\\\\\ otro \\' y \\2\n",
    "```\n",
    "\n",
    "</div>"
   ]
  },
  {
   "cell_type": "code",
   "execution_count": 2,
   "metadata": {},
   "outputs": [
    {
     "data": {
      "text/plain": [
       "str"
      ]
     },
     "execution_count": 2,
     "metadata": {},
     "output_type": "execute_result"
    }
   ],
   "source": []
  },
  {
   "cell_type": "markdown",
   "metadata": {},
   "source": [
    "<center><h1>Contenido extra</h1></center>"
   ]
  },
  {
   "cell_type": "markdown",
   "metadata": {
    "slideshow": {
     "slide_type": "slide"
    }
   },
   "source": [
    "Muchos caracteres los podemos escribir por teclado, pero existen miles de caracteres de otros idiomas que no podemos. El proyecto **Unicode** asocia a cada carácter del mundo un número. En general dicho número se expresa en notación hexadecimal y se pueden encontrar dichos número fácilmente en Internet.\n",
    "\n",
    "En Python para escribir un caracter Unicode escribimos **`\\u`** y después las cuatro cifras correspondientes al caracter. \n",
    "\n",
    "El código ASCII  está formado por los 256 primeros caracteres. Para ellos basta escribir **`\\x`** seguido de dos cifras hexadecimales."
   ]
  },
  {
   "cell_type": "markdown",
   "metadata": {
    "slideshow": {
     "slide_type": "slide"
    }
   },
   "source": [
    "<center>\n",
    "<img src = \"imagenes/unicode.png\" width = \"900\">\n",
    "    \n",
    "   \n",
    "</center>"
   ]
  },
  {
   "cell_type": "markdown",
   "metadata": {
    "slideshow": {
     "slide_type": "slide"
    }
   },
   "source": [
    "<div class=\"alert alert-info\">\n",
    "\n",
    "* Escribe alguno de los símbolos de la imagen de la\n",
    "página anterior.\n",
    "    \n",
    "* Escribe algunos caracteres ASCIII y compáralos con los Unicode.\n",
    "    \n",
    "</div>"
   ]
  },
  {
   "cell_type": "code",
   "execution_count": null,
   "metadata": {},
   "outputs": [],
   "source": []
  },
  {
   "cell_type": "markdown",
   "metadata": {
    "slideshow": {
     "slide_type": "slide"
    }
   },
   "source": [
    "<center><h1>Fin</h1></center>\n",
    "<center><small>github.com/jltabara/PythonBasico</small></center>\n"
   ]
  },
  {
   "cell_type": "markdown",
   "metadata": {
    "slideshow": {
     "slide_type": "slide"
    }
   },
   "source": [
    "<center><h1>Ejercicios</h1><br /></center>"
   ]
  },
  {
   "cell_type": "markdown",
   "metadata": {},
   "source": [
    " ### Comillas dobles y simples\n",
    "\n",
    "Imprime tu nombre utilizando la función `print()`. Lo tienes que escribir con comillas dobles  y con comillas simples."
   ]
  },
  {
   "cell_type": "markdown",
   "metadata": {},
   "source": [
    "### Dos líneas con dos sentencias\n",
    "\n",
    "Imprime tu nombre y tus apellidos en dos líneas, utilizando dos sentencias `print()`."
   ]
  },
  {
   "cell_type": "markdown",
   "metadata": {},
   "source": [
    "### Dos líneas con una única sentencia\n",
    "\n",
    "Imprime tu nombre y tus apellidos en dos líneas, utilizando una única sentencia `print()` y el caracter de escape `\\n`."
   ]
  },
  {
   "cell_type": "markdown",
   "metadata": {},
   "source": [
    "### Comillas dentro del texto\n",
    "\n",
    "¿Cómo se puede escribir una comilla simple dentro de un texto? Decir al menos dos formas de hacerlo."
   ]
  },
  {
   "cell_type": "markdown",
   "metadata": {},
   "source": [
    "### Tabulador y salto de línea\n",
    "\n",
    "El caracter `\\t` produce una tabulación al escribirlo dentro de una función `print()`. Utiliza una única sentencia `print()` para conseguir imprimir lo siguiente:\n",
    "\n",
    "```python\n",
    "Matemáticos:\n",
    "    Riemann\n",
    "    Gauss\n",
    "    Hilbert\n",
    "```"
   ]
  },
  {
   "cell_type": "markdown",
   "metadata": {},
   "source": [
    "### &#9650; El modificador `end` de la función `print()`\n",
    "\n",
    "En principio la función `print()` crea un salto de línea después de escribir una cadena. Sin embargo esto puede ser cambiado y en vez de escribir un salto de línea (`\\n`) podemos escribir cualquier cadena.\n",
    "\n",
    "La siguiente sentencia escribe `Matématicas` después de escribir la cadena. Para conseguir esto debemos añadir `end = 'Matemáticas'`  como segundo argumento de la función `print()`.\n",
    "\n",
    "\n",
    "```python\n",
    "print('Hola', end = 'Matemáticas')\n",
    "```\n",
    "\n",
    "Esto no suele utilizar mucho, salvo en un caso. Si ponemos `end = ''` (cadena vacía) entonces no hace ni salto de línea ni ninguna otra cosa. El siguiente código escribe todo en una línea.\n",
    "\n",
    "```python\n",
    "print(\"hola\", end = '')\n",
    "print(\"adios\", end = '')\n",
    "print(\"y hasta siempre\")\n",
    "```"
   ]
  },
  {
   "cell_type": "code",
   "execution_count": null,
   "metadata": {},
   "outputs": [],
   "source": [
    "h"
   ]
  }
 ],
 "metadata": {
  "celltoolbar": "Slideshow",
  "kernelspec": {
   "display_name": "Python 3",
   "language": "python",
   "name": "python3"
  },
  "language_info": {
   "codemirror_mode": {
    "name": "ipython",
    "version": 3
   },
   "file_extension": ".py",
   "mimetype": "text/x-python",
   "name": "python",
   "nbconvert_exporter": "python",
   "pygments_lexer": "ipython3",
   "version": "3.7.3"
  },
  "varInspector": {
   "cols": {
    "lenName": 16,
    "lenType": 16,
    "lenVar": 40
   },
   "kernels_config": {
    "python": {
     "delete_cmd_postfix": "",
     "delete_cmd_prefix": "del ",
     "library": "var_list.py",
     "varRefreshCmd": "print(var_dic_list())"
    },
    "r": {
     "delete_cmd_postfix": ") ",
     "delete_cmd_prefix": "rm(",
     "library": "var_list.r",
     "varRefreshCmd": "cat(var_dic_list()) "
    }
   },
   "types_to_exclude": [
    "module",
    "function",
    "builtin_function_or_method",
    "instance",
    "_Feature"
   ],
   "window_display": false
  }
 },
 "nbformat": 4,
 "nbformat_minor": 4
}
