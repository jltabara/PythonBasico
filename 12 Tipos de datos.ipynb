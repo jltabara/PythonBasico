{
 "cells": [
  {
   "cell_type": "markdown",
   "metadata": {
    "slideshow": {
     "slide_type": "slide"
    }
   },
   "source": [
    "<center><h1>Tipos de datos</h1><br /></center>"
   ]
  },
  {
   "cell_type": "markdown",
   "metadata": {
    "slideshow": {
     "slide_type": "slide"
    }
   },
   "source": [
    "Todo valor que se puede guardar en una variable tiene asociado un tipo de dato. Por ejemplo, `8` es un **número entero**, `7.9` es un **valor decimal** y `\"Hola mundo\"` es una **cadena**. Para conocer el tipo de dato que asigna Python a cada variable podemos utilizar la función `type()`."
   ]
  },
  {
   "cell_type": "markdown",
   "metadata": {
    "slideshow": {
     "slide_type": "slide"
    }
   },
   "source": [
    "<div class=\"alert alert-info\">\n",
    "\n",
    "Encuentra el tipo de dato de los siguientes valores:\n",
    "$$\n",
    "a)\\, 890 \\qquad b)\\, 45.78 \\qquad c)\\, \\text{'Hola mundo'} \\qquad d)\\, \\text{True}\n",
    "$$\n",
    "\n",
    "</div>"
   ]
  },
  {
   "cell_type": "code",
   "execution_count": null,
   "metadata": {},
   "outputs": [],
   "source": []
  },
  {
   "cell_type": "markdown",
   "metadata": {
    "slideshow": {
     "slide_type": "slide"
    }
   },
   "source": [
    "Como vemos en Python tenemos los siguientes tipos de datos:\n",
    "\n",
    "* `int`. Número entero.\n",
    "\n",
    "* `float`. Número decimal.\n",
    "\n",
    "* `str`. Cadena de texto.\n",
    "\n",
    "* `bool`. Booleano."
   ]
  },
  {
   "cell_type": "markdown",
   "metadata": {
    "slideshow": {
     "slide_type": "slide"
    }
   },
   "source": [
    "<div class=\"alert alert-info\">\n",
    "\n",
    "Comprueba que para Python la división de dos números es siempre un dato de tipo `float`, a pesar de que matemáticamente algunas veces el resultado es un entero.\n",
    "\n",
    "</div>"
   ]
  },
  {
   "cell_type": "code",
   "execution_count": null,
   "metadata": {},
   "outputs": [],
   "source": []
  },
  {
   "cell_type": "markdown",
   "metadata": {
    "slideshow": {
     "slide_type": "slide"
    }
   },
   "source": [
    "Una variable puede contener un tipo de dato en una parte del programa y en otra parte del programa la misma variable puede contener otro tipo de dato. Los lenguajes que poseen esta característica se dice que tienen **tipado dinámico**."
   ]
  },
  {
   "cell_type": "markdown",
   "metadata": {
    "slideshow": {
     "slide_type": "slide"
    }
   },
   "source": [
    "<div class=\"alert alert-info\">\n",
    "\n",
    "Guarda en una misma variable varios tipos de datos y observa que no se produce ningún error.\n",
    "\n",
    "</div>"
   ]
  },
  {
   "cell_type": "code",
   "execution_count": null,
   "metadata": {},
   "outputs": [],
   "source": []
  },
  {
   "cell_type": "markdown",
   "metadata": {
    "slideshow": {
     "slide_type": "slide"
    }
   },
   "source": [
    "Podemos cambiar el tipo de dato de una variable utilizando las funciones `int()`, `float()` y `str()`. El resultado se debe guardar en una nueva variable o muchas veces es conveniente guardarla en la misma variable.\n",
    "\n",
    "Si Python no puede convertir la variable entonces se produce un error.\n"
   ]
  },
  {
   "cell_type": "markdown",
   "metadata": {
    "slideshow": {
     "slide_type": "slide"
    }
   },
   "source": [
    "<div class=\"alert alert-info\">\n",
    "\n",
    "* Convierte la cadena `'8'` en un número entero o flotante.\n",
    "\n",
    "* Convierte `7.89` a entero.\n",
    "\n",
    "* Convierte $2^{2000}$ a cadena y calcula su longitud.\n",
    "\n",
    "</div>"
   ]
  },
  {
   "cell_type": "code",
   "execution_count": null,
   "metadata": {},
   "outputs": [],
   "source": []
  },
  {
   "cell_type": "markdown",
   "metadata": {
    "slideshow": {
     "slide_type": "slide"
    }
   },
   "source": [
    "La función `bool()` **convierte a tipo booleano el resto de los tipos**. En general convierte los datos nulos o vacíos a `False` y el resto a `True`."
   ]
  },
  {
   "cell_type": "markdown",
   "metadata": {
    "slideshow": {
     "slide_type": "slide"
    }
   },
   "source": [
    "<div class=\"alert alert-info\">\n",
    "\n",
    "Convierte en booleano los siguientes datos:\n",
    "\n",
    "$$\n",
    "a)\\, 0 \\qquad b)\\, 23 \\qquad c)\\, \\text{'Hola mundo'} \\qquad d)\\, \\text{La cadena vacía}\n",
    "$$\n",
    "\n",
    "</div>"
   ]
  },
  {
   "cell_type": "code",
   "execution_count": null,
   "metadata": {},
   "outputs": [],
   "source": []
  },
  {
   "cell_type": "markdown",
   "metadata": {
    "slideshow": {
     "slide_type": "slide"
    }
   },
   "source": [
    "<center><h1>Fin</h1></center>\n",
    "<center><small>github.com/jltabara/PythonBasico</small></center>"
   ]
  },
  {
   "cell_type": "code",
   "execution_count": null,
   "metadata": {
    "slideshow": {
     "slide_type": "slide"
    }
   },
   "outputs": [],
   "source": []
  }
 ],
 "metadata": {
  "celltoolbar": "Slideshow",
  "kernelspec": {
   "display_name": "Python 3",
   "language": "python",
   "name": "python3"
  },
  "language_info": {
   "codemirror_mode": {
    "name": "ipython",
    "version": 3
   },
   "file_extension": ".py",
   "mimetype": "text/x-python",
   "name": "python",
   "nbconvert_exporter": "python",
   "pygments_lexer": "ipython3",
   "version": "3.7.3"
  }
 },
 "nbformat": 4,
 "nbformat_minor": 2
}
