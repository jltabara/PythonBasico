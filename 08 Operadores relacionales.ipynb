{
 "cells": [
  {
   "cell_type": "markdown",
   "metadata": {
    "slideshow": {
     "slide_type": "slide"
    }
   },
   "source": [
    "<center><h1>Operadores relacionales</h1><br /></center>"
   ]
  },
  {
   "cell_type": "markdown",
   "metadata": {
    "slideshow": {
     "slide_type": "slide"
    }
   },
   "source": [
    "Los operadores de comparación nos sirven para saber si dos números son iguales y \n",
    "también para saber cuando un número es mayor que otro. **El resultado siempre es** **`True`** o **`False`**. En la siguiente diapositiva se presentan \n",
    "todos los operadores de comparación."
   ]
  },
  {
   "cell_type": "markdown",
   "metadata": {
    "slideshow": {
     "slide_type": "slide"
    }
   },
   "source": [
    "\n",
    "\n",
    "<table class=\"tg\">\n",
    "  <tr>\n",
    "      <th class=\"tg-0pky\"><font size=\"7\">Definición</font></th>\n",
    "      <th class=\"tg-c3ow\"><font size=\"7\">Operador</font></th>\n",
    "  </tr>\n",
    "  <tr>\n",
    "      <td class=\"tg-0pky\"><font size=\"6\">Mayor que</font></td>\n",
    "      <td class=\"tg-c3ow\"><font size=\"6\">&gt;</font></td>\n",
    "  </tr>\n",
    "  <tr>\n",
    "      <td class=\"tg-0pky\"><font size=\"6\">Menor que</font><br></td>\n",
    "      <td class=\"tg-c3ow\"><font size=\"6\">&lt;</font></td>\n",
    "  </tr>\n",
    "  <tr>\n",
    "      <td class=\"tg-0pky\"><font size=\"6\">Igual a</font> <br></td>\n",
    "      <td class=\"tg-c3ow\"><font size=\"6\">==</font></td>\n",
    "  </tr>\n",
    "  <tr>\n",
    "      <td class=\"tg-0pky\"><font size=\"6\">Mayor o igual que</font></td>\n",
    "      <td class=\"tg-c3ow\"><font size=\"6\">&gt;=</font></td>\n",
    "  </tr>\n",
    "  <tr>\n",
    "      <td class=\"tg-0pky\"><font size=\"6\">Menor o igual que</font></td>\n",
    "      <td class=\"tg-c3ow\"><font size=\"6\">&lt;=</font></td>\n",
    "  </tr>\n",
    "  <tr>\n",
    "      <td class=\"tg-0pky\"><font size=\"6\">Distinto a</font></td>\n",
    "      <td class=\"tg-c3ow\"><font size=\"6\">!=</font></td>\n",
    "  </tr>\n",
    "</table>\n"
   ]
  },
  {
   "cell_type": "markdown",
   "metadata": {
    "slideshow": {
     "slide_type": "slide"
    }
   },
   "source": [
    "<div class=\"alert alert-info\">\n",
    "\n",
    "Guarda en dos variables los números 50 y 4 y realiza diversas comparaciones entre ellos.\n",
    "\n",
    "</div>"
   ]
  },
  {
   "cell_type": "code",
   "execution_count": null,
   "metadata": {},
   "outputs": [],
   "source": []
  },
  {
   "cell_type": "markdown",
   "metadata": {
    "slideshow": {
     "slide_type": "slide"
    }
   },
   "source": [
    "Los operadores relacionales tienen **menor prioridad que los operadores aritméticos**. Esto es: si hay operadores aritméticos y relacionales en una misma expresión, las operaciones aritméticas se realizan antes."
   ]
  },
  {
   "cell_type": "markdown",
   "metadata": {
    "slideshow": {
     "slide_type": "slide"
    }
   },
   "source": [
    "<div class=\"alert alert-info\">\n",
    "\n",
    "Realiza las siguientes comparaciones:\n",
    "$$\n",
    "a)\\, 4+6 < 4\\cdot 7 \\qquad   b)\\, 45 >= 3 + 6 \\cdot 7\n",
    "$$\n",
    "\n",
    "</div>"
   ]
  },
  {
   "cell_type": "code",
   "execution_count": null,
   "metadata": {},
   "outputs": [],
   "source": []
  },
  {
   "cell_type": "markdown",
   "metadata": {
    "slideshow": {
     "slide_type": "slide"
    }
   },
   "source": [
    "Las cadenas de texto, siempre que estén escritas en letras minúsculas, se pueden comparar y el orden es el alfabético."
   ]
  },
  {
   "cell_type": "markdown",
   "metadata": {
    "slideshow": {
     "slide_type": "slide"
    }
   },
   "source": [
    "<div class=\"alert alert-info\">\n",
    "\n",
    "Compara las siguientes cadenas:\n",
    "$$\n",
    "a)\\, \\textrm{'a'} < \\textrm{'d'} \\qquad b)\\, \\textrm{'casa'} < \\textrm{'cama'} \n",
    "$$\n",
    "\n",
    "</div>"
   ]
  },
  {
   "cell_type": "code",
   "execution_count": null,
   "metadata": {},
   "outputs": [],
   "source": []
  },
  {
   "cell_type": "markdown",
   "metadata": {
    "slideshow": {
     "slide_type": "slide"
    }
   },
   "source": [
    "<center><h1>Fin</h1></center>\n",
    "<center><small>github.com/jltabara/PythonBasico</small></center>"
   ]
  },
  {
   "cell_type": "markdown",
   "metadata": {
    "colab_type": "text",
    "id": "m8Wp5KrT1BgR"
   },
   "source": [
    "<center><h1>Ejercicios</h1><br /></center>"
   ]
  },
  {
   "cell_type": "markdown",
   "metadata": {
    "colab_type": "text",
    "id": "q8iwGKq61FaO"
   },
   "source": [
    "### Operadores relacionales y variables\n",
    "\n",
    "Supongamos a lo largo del ejercicio que hemos declarado las siguientes variables:\n",
    "\n",
    "```python\n",
    "a = 1\n",
    "b = 5\n",
    "c = 2\n",
    "d = 1\n",
    "```\n",
    "\n",
    "Realiza, una a una, las siguientes comparaciones, intentado adivinar el resultado antes que Python:\n",
    "\n",
    "```python\n",
    "a == b\n",
    "b > a\n",
    "a < b\n",
    "a == d\n",
    "b >= a\n",
    "c <= b\n",
    "d != a\n",
    "d != b\n",
    "```\n"
   ]
  },
  {
   "cell_type": "markdown",
   "metadata": {
    "colab_type": "text",
    "id": "9nVtuarX13Un"
   },
   "source": [
    "### Guardar resultados de comparaciones en variables\n",
    "\n",
    "Adivinar el valor guardado en la variable `aprobado` después de ejecutar el código:\n",
    "\n",
    "```python\n",
    "nota = 8\n",
    "media = 7\n",
    "aprobado = nota > media\n",
    "```\n"
   ]
  },
  {
   "cell_type": "markdown",
   "metadata": {
    "colab_type": "text",
    "id": "Hx0hPCt82PB1"
   },
   "source": [
    "### Prioridad de los operadores aritméticos\n",
    "\n",
    "Adivinar el resultado de la siguiente comparación y comprobar resultados en Python.\n",
    "\n",
    "```python\n",
    "6 + 7 * 8 >= 5 / 3\n",
    "```"
   ]
  },
  {
   "cell_type": "markdown",
   "metadata": {
    "colab_type": "text",
    "id": "gthdSZl1704I"
   },
   "source": [
    "### Un resultado inesperado\n",
    "\n",
    "Adivinar el resultado de la siguiente comparación. Comprueba con Python. Si el resultado no es el esperado intenta ver la razón.\n",
    "\n",
    "```python\n",
    "3 * 0.1 == 0.3\n",
    "```\n",
    "\n",
    "**No es buena idea utilizar el operador `==` cuando se trabaja con números reales.**"
   ]
  },
  {
   "cell_type": "markdown",
   "metadata": {
    "colab_type": "text",
    "id": "1PapVGQs29RA"
   },
   "source": [
    "### El orden alfabético\n",
    "\n",
    "Adivinar el resultado de las siguientes comparaciones y comprobar resultados en Python.\n",
    "\n",
    "```python\n",
    "\"hola\" > \"adios\"\n",
    "\"benito\" > \"aratnxa\"\n",
    "\"javier\" >= \"raquel\"\n",
    "\"Hola\" == \"hola\"\n",
    "```"
   ]
  },
  {
   "cell_type": "markdown",
   "metadata": {
    "colab_type": "text",
    "id": "xVpnUp8SFkJC"
   },
   "source": [
    "### &#9650; El número asociado a cada letra o caracter\n",
    "\n",
    " Todo caracter tiene asociado un número. En particular todas las letras tienen asociado un número. Para conocer el número asociado se utiliza la función `ord()`. Prueba los siguientes códigos:\n",
    "\n",
    "```python\n",
    "ord(a)\n",
    "ord(b)\n",
    "ord(z)\n",
    "ord(A)\n",
    "ord(B)\n",
    "ord(ñ)\n",
    "```"
   ]
  },
  {
   "cell_type": "markdown",
   "metadata": {
    "colab_type": "text",
    "id": "MzNSPjuqFwHm"
   },
   "source": [
    "### &#9650;  El caracter asociado a un número\n",
    "\n",
    "A la inversa, muchos números enteros tienen asociado un caracter. Para obtener dicho caracter utilizamos la función `chr()`. Prueba los siguientes códigos:\n",
    "\n",
    "```python\n",
    "chr(97)\n",
    "chr(241)\n",
    "chr(4456)\n",
    "print(chr(4456))\n",
    "```\n",
    "\n",
    "Para entender completamente estos ejercicios se debe conocer a fondo la codificación de los caracteres, en particular es conveniente conocer la codificación ASCII y Unicode.\n"
   ]
  },
  {
   "cell_type": "markdown",
   "metadata": {
    "colab_type": "text",
    "id": "HKdBkN80GALD"
   },
   "source": [
    "###  &#9650; El orden en las letras\n",
    "\n",
    "En realidad Python compara números y no caracteres. Para saber si un caracter es menor que otro en realidad debemos fijarnos en su número asociado. Con lo visto en los ejercicios anteriores intenta predecir el resultado de la comparaciones:\n",
    "\n",
    "```python\n",
    "'a' < 'A'\n",
    "'z' < 'ñ'\n",
    "'B' < 'a'\n",
    "```"
   ]
  },
  {
   "cell_type": "markdown",
   "metadata": {
    "colab_type": "text",
    "id": "JIto7QzuGNfm"
   },
   "source": [
    "### &#9650; Comparación de cadenas\n",
    "\n",
    " Para comparar palabras Python compara la primera letra. Si la primera letra coincide, pasa a la segunda, etc. Comprueba los códigos:\n",
    "\n",
    "\n",
    "\n",
    "```python\n",
    "\"casa\" < \"cama\"\n",
    "\"jamon\" < \"jabones\"\n",
    "```"
   ]
  }
 ],
 "metadata": {
  "celltoolbar": "Slideshow",
  "kernelspec": {
   "display_name": "Python 3",
   "language": "python",
   "name": "python3"
  },
  "language_info": {
   "codemirror_mode": {
    "name": "ipython",
    "version": 3
   },
   "file_extension": ".py",
   "mimetype": "text/x-python",
   "name": "python",
   "nbconvert_exporter": "python",
   "pygments_lexer": "ipython3",
   "version": "3.7.3"
  }
 },
 "nbformat": 4,
 "nbformat_minor": 4
}
