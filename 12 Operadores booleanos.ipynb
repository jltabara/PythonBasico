{
 "cells": [
  {
   "cell_type": "markdown",
   "metadata": {
    "slideshow": {
     "slide_type": "slide"
    }
   },
   "source": [
    "<center><h1>Operadores booleanos</h1><br /></center>"
   ]
  },
  {
   "cell_type": "markdown",
   "metadata": {
    "slideshow": {
     "slide_type": "slide"
    }
   },
   "source": [
    "Con los datos booleanos se pueden hacer varias operaciones. Las más importantes son **and**, **or** y **not**. Al realizar las operaciones se devuelve un nuevo valor booleano. Las reglas para efectuar dichas operaciones se suelen denominar **tablas de verdad**, pues dichas operaciones se estudian también en Lógica."
   ]
  },
  {
   "cell_type": "markdown",
   "metadata": {
    "slideshow": {
     "slide_type": "slide"
    }
   },
   "source": [
    "<div class=\"alert alert-info\">\n",
    "\n",
    "* Calcula la tabla de verdad del operador **and**. Ver la analogía con la multiplicación.\n",
    "\n",
    "* Calcula la tabla de verdad del operador **or**. Analogía con la suma.\n",
    "\n",
    "* Calcula la tabla de verdad del operador **not**.\n",
    "\n",
    "</div>"
   ]
  },
  {
   "cell_type": "code",
   "execution_count": null,
   "metadata": {},
   "outputs": [],
   "source": []
  },
  {
   "cell_type": "markdown",
   "metadata": {
    "slideshow": {
     "slide_type": "slide"
    }
   },
   "source": [
    "**Los operadores relacionales tienen mayor prioridad que los operadores booleanos**. Si tenemos dudas sobre la prioridad siempre podemos utilizar paréntesis."
   ]
  },
  {
   "cell_type": "markdown",
   "metadata": {
    "slideshow": {
     "slide_type": "slide"
    }
   },
   "source": [
    "<div class=\"alert alert-info\">\n",
    "\n",
    "Analiza la siguiente instrucción paso a paso:\n",
    "\n",
    "```python\n",
    "3 < 5 or 5 == 3\n",
    "```\n",
    "\n",
    "</div>"
   ]
  },
  {
   "cell_type": "code",
   "execution_count": null,
   "metadata": {},
   "outputs": [],
   "source": []
  },
  {
   "cell_type": "markdown",
   "metadata": {
    "slideshow": {
     "slide_type": "slide"
    }
   },
   "source": [
    "Si en una misma operación existen varios operadores booleanos, se sigue el siguiente **orden de prioridad**.\n",
    " * `not`\n",
    " * `and` \n",
    " * `or`."
   ]
  },
  {
   "cell_type": "markdown",
   "metadata": {
    "slideshow": {
     "slide_type": "slide"
    }
   },
   "source": [
    "<div class=\"alert alert-info\">\n",
    "\n",
    "Analiza paso a paso las expresiones:\n",
    "```python\n",
    "True and False or not True\n",
    "False or True and not False or True\n",
    "```\n",
    "\n",
    "</div>"
   ]
  },
  {
   "cell_type": "code",
   "execution_count": null,
   "metadata": {},
   "outputs": [],
   "source": []
  },
  {
   "cell_type": "markdown",
   "metadata": {
    "slideshow": {
     "slide_type": "slide"
    }
   },
   "source": [
    "<div class=\"alert alert-info\">\n",
    "\n",
    "Un programa que calcule el máximo de tres números.\n",
    "\n",
    "</div>"
   ]
  },
  {
   "cell_type": "code",
   "execution_count": null,
   "metadata": {},
   "outputs": [],
   "source": []
  },
  {
   "cell_type": "markdown",
   "metadata": {
    "slideshow": {
     "slide_type": "slide"
    }
   },
   "source": [
    "<div class=\"alert alert-info\">\n",
    "\n",
    "\n",
    "Simplificar el siguiente código:\n",
    "```python\n",
    "x = 6\n",
    "if x > 0:\n",
    "    if x < 10:\n",
    "        print(\"El número está entre 0 y 10\")\n",
    "```\n",
    "\n",
    "</div>"
   ]
  },
  {
   "cell_type": "code",
   "execution_count": null,
   "metadata": {
    "slideshow": {
     "slide_type": "-"
    }
   },
   "outputs": [],
   "source": [
    "    "
   ]
  },
  {
   "cell_type": "markdown",
   "metadata": {
    "slideshow": {
     "slide_type": "slide"
    }
   },
   "source": [
    "<div class=\"alert alert-info\">\n",
    "\n",
    "\n",
    "Simplificar el siguiente código:\n",
    "```python\n",
    "x = 6\n",
    "if x == 6:\n",
    "    print(\"Has acertado\")\n",
    "if x == 5:\n",
    "    print(\"Has acertado\")\n",
    "if x == 4:\n",
    "    print(\"Has acertado\")\n",
    "```\n",
    "\n",
    "</div>"
   ]
  },
  {
   "cell_type": "code",
   "execution_count": null,
   "metadata": {},
   "outputs": [],
   "source": []
  },
  {
   "cell_type": "markdown",
   "metadata": {
    "slideshow": {
     "slide_type": "slide"
    }
   },
   "source": [
    "<div class=\"alert alert-info\">\n",
    "\n",
    "Un programa que diga si la ecuación de segundo grado\n",
    "$$\n",
    "ax^2+bx+c=0\n",
    "$$\n",
    "tiene 2 soluciones, 1 solución o ninguna solución. Recordamos la fórmula:\n",
    "    $$\n",
    "    x = \\frac{-b \\pm \\sqrt{b^2-4ac}}{2a}\n",
    "    $$\n",
    "\n",
    "</div>"
   ]
  },
  {
   "cell_type": "code",
   "execution_count": null,
   "metadata": {},
   "outputs": [],
   "source": []
  },
  {
   "cell_type": "markdown",
   "metadata": {
    "slideshow": {
     "slide_type": "slide"
    }
   },
   "source": [
    "Python tiene la característica de poder utilizar **varios operadores relacionales en una misma expresión** (esto no suele ser cierto en otros lenguajes de programación). Esto nos permite muchas veces ahorrar código y utilizar menos operadores booleanos."
   ]
  },
  {
   "cell_type": "markdown",
   "metadata": {
    "slideshow": {
     "slide_type": "slide"
    }
   },
   "source": [
    "<div class=\"alert alert-info\">\n",
    "\n",
    "El precio de la entrada es:\n",
    "\n",
    "* Hasta 15 años, gratis.\n",
    "\n",
    "* De 15 a 65 años, 10 euros.\n",
    "\n",
    "* Más de 65 años, 3 euros.\n",
    "\n",
    "</div>"
   ]
  },
  {
   "cell_type": "code",
   "execution_count": 2,
   "metadata": {},
   "outputs": [
    {
     "name": "stdout",
     "output_type": "stream",
     "text": [
      "10 euros\n"
     ]
    }
   ],
   "source": [
    "edad = 49\n",
    "\n",
    "if 0 < edad <= 15:\n",
    "    print(\"Cero euros\")\n",
    "elif 15 < edad < 65:\n",
    "    print(\"10 euros\")\n",
    "elif edad >= 65:\n",
    "    print(\"3 euros\")\n",
    "else:\n",
    "    print(\"Has introducido una edad negativa.\")"
   ]
  },
  {
   "cell_type": "markdown",
   "metadata": {
    "slideshow": {
     "slide_type": "slide"
    }
   },
   "source": [
    "<center><h1>Fin</h1></center>\n",
    "<center><small>github.com/jltabara/PythonBasico</small></center>"
   ]
  },
  {
   "cell_type": "markdown",
   "metadata": {
    "colab_type": "text",
    "id": "QLnPpfvEvc3g"
   },
   "source": [
    "<center><h1>Ejercicios</h1><br /></center>"
   ]
  },
  {
   "cell_type": "markdown",
   "metadata": {
    "colab_type": "text",
    "id": "HwbElmzlvflq"
   },
   "source": [
    "### Tabla de verdad del operador `and`\n",
    "\n",
    "\n",
    "Calcula la tabla de verdad del operador `and`."
   ]
  },
  {
   "cell_type": "code",
   "execution_count": null,
   "metadata": {
    "colab": {
     "base_uri": "https://localhost:8080/",
     "height": 35
    },
    "colab_type": "code",
    "executionInfo": {
     "elapsed": 577,
     "status": "ok",
     "timestamp": 1563264490820,
     "user": {
      "displayName": "Jose Luis Tabara Carbajo",
      "photoUrl": "https://lh3.googleusercontent.com/-C_ZMVpiKR_c/AAAAAAAAAAI/AAAAAAAAICI/he5fzFV_8iI/s64/photo.jpg",
      "userId": "04839663227084200405"
     },
     "user_tz": -120
    },
    "id": "SZkQpbLKvZ7a",
    "outputId": "4e4804cb-0992-4302-b700-a444825b2646"
   },
   "outputs": [
    {
     "data": {
      "text/plain": [
       "False"
      ]
     },
     "execution_count": 4,
     "metadata": {
      "tags": []
     },
     "output_type": "execute_result"
    }
   ],
   "source": [
    "False and False"
   ]
  },
  {
   "cell_type": "code",
   "execution_count": null,
   "metadata": {
    "colab": {},
    "colab_type": "code",
    "id": "-99iWfg50ice"
   },
   "outputs": [],
   "source": []
  },
  {
   "cell_type": "markdown",
   "metadata": {
    "colab_type": "text",
    "id": "4kaG2BbGvpyv"
   },
   "source": [
    "### Traducir al lenguaje Python\n",
    "\n",
    "Traducir la siguiente frase a Python:\n",
    "\n",
    "> 4 es menor que 5 y 8 es menor que 13\n"
   ]
  },
  {
   "cell_type": "code",
   "execution_count": null,
   "metadata": {
    "colab": {
     "base_uri": "https://localhost:8080/",
     "height": 35
    },
    "colab_type": "code",
    "executionInfo": {
     "elapsed": 379,
     "status": "ok",
     "timestamp": 1563264526417,
     "user": {
      "displayName": "Jose Luis Tabara Carbajo",
      "photoUrl": "https://lh3.googleusercontent.com/-C_ZMVpiKR_c/AAAAAAAAAAI/AAAAAAAAICI/he5fzFV_8iI/s64/photo.jpg",
      "userId": "04839663227084200405"
     },
     "user_tz": -120
    },
    "id": "Rkrv55RtwFAw",
    "outputId": "d364191c-0c2f-4c6b-e261-db7a0889f2b5"
   },
   "outputs": [
    {
     "data": {
      "text/plain": [
       "True"
      ]
     },
     "execution_count": 5,
     "metadata": {
      "tags": []
     },
     "output_type": "execute_result"
    }
   ],
   "source": [
    "4 < 5 and 8 < 13"
   ]
  },
  {
   "cell_type": "markdown",
   "metadata": {
    "colab_type": "text",
    "id": "17TAdiufwF4I"
   },
   "source": [
    "### Traducir\n",
    "\n",
    "Sea `p` la variable que contiene la frase \"El sol es una estrella\", y `q` la variable que contiene `La tierra es un planeta`. Traduce al lenguaje español las siguientes expresiones:\n",
    "\n",
    "```python\n",
    "p and q\n",
    "p or q\n",
    "not q\n",
    "p and not q\n",
    "```\n"
   ]
  },
  {
   "cell_type": "code",
   "execution_count": null,
   "metadata": {
    "colab": {},
    "colab_type": "code",
    "id": "ggmkNoKJw4pV"
   },
   "outputs": [],
   "source": []
  },
  {
   "cell_type": "markdown",
   "metadata": {
    "colab_type": "text",
    "id": "Fbow61ckxCD7"
   },
   "source": [
    "### Traducir\n",
    "\n",
    "Sea `x` una variable. Traduce a Python las frases:\n",
    "\n",
    "> `x` es menor que 5 y x es mayor que 0\n",
    "\n",
    "> `x` es mayor que 20 y ademas es menor que 50\n",
    "\n",
    "> `x` es igual a 20 o x es menor que 100\n",
    "\n",
    "Comprueba dichas traducciones dando distintos valores a la variable `x`."
   ]
  },
  {
   "cell_type": "code",
   "execution_count": null,
   "metadata": {
    "colab": {
     "base_uri": "https://localhost:8080/",
     "height": 35
    },
    "colab_type": "code",
    "executionInfo": {
     "elapsed": 518,
     "status": "ok",
     "timestamp": 1563264745220,
     "user": {
      "displayName": "Jose Luis Tabara Carbajo",
      "photoUrl": "https://lh3.googleusercontent.com/-C_ZMVpiKR_c/AAAAAAAAAAI/AAAAAAAAICI/he5fzFV_8iI/s64/photo.jpg",
      "userId": "04839663227084200405"
     },
     "user_tz": -120
    },
    "id": "A7I3UUP_xkjc",
    "outputId": "54d662a1-3f62-4f80-e109-d1ac01edd0b7"
   },
   "outputs": [
    {
     "data": {
      "text/plain": [
       "True"
      ]
     },
     "execution_count": 11,
     "metadata": {
      "tags": []
     },
     "output_type": "execute_result"
    }
   ],
   "source": [
    "x =  23\n",
    "\n",
    "x == 20 or x < 100"
   ]
  },
  {
   "cell_type": "markdown",
   "metadata": {
    "colab_type": "text",
    "id": "1KwO9OufxmQn"
   },
   "source": [
    "### Traducir\n",
    "\n",
    "Una persona es adolescente si tiene entre 12 y 18 años. Utiliza una variable `edad` y crea una expresión que sea verdadera únicamente para los adolescentes."
   ]
  },
  {
   "cell_type": "code",
   "execution_count": null,
   "metadata": {
    "colab": {
     "base_uri": "https://localhost:8080/",
     "height": 35
    },
    "colab_type": "code",
    "executionInfo": {
     "elapsed": 585,
     "status": "ok",
     "timestamp": 1563264850924,
     "user": {
      "displayName": "Jose Luis Tabara Carbajo",
      "photoUrl": "https://lh3.googleusercontent.com/-C_ZMVpiKR_c/AAAAAAAAAAI/AAAAAAAAICI/he5fzFV_8iI/s64/photo.jpg",
      "userId": "04839663227084200405"
     },
     "user_tz": -120
    },
    "id": "j4m4bUVjx2Nl",
    "outputId": "c117e22f-7102-45d8-d475-76b883762b17"
   },
   "outputs": [
    {
     "data": {
      "text/plain": [
       "True"
      ]
     },
     "execution_count": 13,
     "metadata": {
      "tags": []
     },
     "output_type": "execute_result"
    }
   ],
   "source": [
    "edad = 13\n",
    "\n",
    "edad >= 12 and edad <= 18"
   ]
  },
  {
   "cell_type": "markdown",
   "metadata": {
    "colab_type": "text",
    "id": "sUsRcWkux2-I"
   },
   "source": [
    "### Operación combinada\n",
    "\n",
    "Realiza paso a paso la operación lógica combinada:\n",
    "\n",
    "```python\n",
    "True and False or not True\n",
    "```\n"
   ]
  },
  {
   "cell_type": "code",
   "execution_count": null,
   "metadata": {
    "colab": {
     "base_uri": "https://localhost:8080/",
     "height": 35
    },
    "colab_type": "code",
    "executionInfo": {
     "elapsed": 610,
     "status": "ok",
     "timestamp": 1563264918821,
     "user": {
      "displayName": "Jose Luis Tabara Carbajo",
      "photoUrl": "https://lh3.googleusercontent.com/-C_ZMVpiKR_c/AAAAAAAAAAI/AAAAAAAAICI/he5fzFV_8iI/s64/photo.jpg",
      "userId": "04839663227084200405"
     },
     "user_tz": -120
    },
    "id": "xkp1pVfgyDw-",
    "outputId": "d0b26720-fead-4f45-e1dd-7be789201317"
   },
   "outputs": [
    {
     "data": {
      "text/plain": [
       "False"
      ]
     },
     "execution_count": 15,
     "metadata": {
      "tags": []
     },
     "output_type": "execute_result"
    }
   ],
   "source": [
    " False or False"
   ]
  },
  {
   "cell_type": "markdown",
   "metadata": {
    "colab_type": "text",
    "id": "33k8Tv1owYkr"
   },
   "source": [
    "### &#9650; Otra forma de realizar los operadores booleanos\n",
    "\n",
    "Aunque la forma normal de realizar los operadores booleanos es utilizar las palabras clave `and` y `or` también se pueden realizar con otros operadores. Para hacer la operación `and` podemos usar `&`  y para el `or` el caracter `|`.\n",
    "\n",
    "Calcula todas las tablas de verdad de estas operaciones. Como ejemplo tenemos el código:\n",
    "\n",
    "```python\n",
    "True & False   # Equivale a True and False\n",
    "True | False   # Equivale a True or False\n",
    "```\n"
   ]
  },
  {
   "cell_type": "markdown",
   "metadata": {
    "colab_type": "text",
    "id": "Bw4Z17ZmxfVs"
   },
   "source": [
    "### &#9650; El operador `xor`\n",
    "\n",
    "La operación `xor` es otra operación entre valores lógicos. Se suele denominar **o exclusiva**   pues cuando los dos valores son ciertos entonces devuelve `False`. El operador para realizarla es el circunfleno `^`.\n",
    "\n",
    "```Python\n",
    "True ^ False  # Se lee: True xor False\n",
    "```\n",
    "\n",
    "Calcula la tabla de verdad de este operador."
   ]
  },
  {
   "cell_type": "markdown",
   "metadata": {
    "colab_type": "text",
    "id": "zVJCqvpBT8sG"
   },
   "source": [
    "### &#9650; Un atajo para los condicionales\n",
    "\n",
    "Dadas tres variables es muy común, tanto en matemáticas como en Python hacer el siguiente tipo de comparaciones:\n",
    "\n",
    "```python\n",
    "x < y and y < z\n",
    "```\n",
    "\n",
    "Estamos comprobando si la variable `y` está entre las otras dos variables. Esto se suele escribir en matemáticas y también en Python con la siguiente notación, más compacta:\n",
    "\n",
    "```python\n",
    "x < y < z\n",
    "```\n",
    "\n",
    "Además de con el operador `<` existe otros atajos con el resto de operadores relacionales.\n",
    "\n",
    "Encontrar todos los valores enteros de la variable `y` que hacen que el siguiente programa tenga `True` como resultado:\n",
    "\n",
    "```python\n",
    "x = 5\n",
    "y = ???\n",
    "z = 10\n",
    "\n",
    "x <= y <= z\n",
    "```"
   ]
  },
  {
   "cell_type": "markdown",
   "metadata": {
    "colab_type": "text",
    "id": "gVHY6yhqTTeD"
   },
   "source": [
    "### Problema\n",
    "\n",
    "Para ser directivo de una empresa debes tener más de 25 años y además más de 30000 euros. Haz un programa que pida la edad y el dinero y que responda si puedes ser directivo de esa empresa."
   ]
  },
  {
   "cell_type": "markdown",
   "metadata": {
    "colab_type": "text",
    "id": "IMu1HkDETXpv"
   },
   "source": [
    "### Problema\n",
    "\n",
    "Para ir a un viaje a Canarias tienes que tener más de 65 años o tener más de 1000 euros. El programa pregunta la edad y el dinero y debe responder si puedes ir o no a Canarias."
   ]
  }
 ],
 "metadata": {
  "celltoolbar": "Slideshow",
  "kernelspec": {
   "display_name": "Python 3",
   "language": "python",
   "name": "python3"
  },
  "language_info": {
   "codemirror_mode": {
    "name": "ipython",
    "version": 3
   },
   "file_extension": ".py",
   "mimetype": "text/x-python",
   "name": "python",
   "nbconvert_exporter": "python",
   "pygments_lexer": "ipython3",
   "version": "3.7.3"
  }
 },
 "nbformat": 4,
 "nbformat_minor": 4
}
