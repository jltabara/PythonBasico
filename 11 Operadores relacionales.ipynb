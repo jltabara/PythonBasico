{
 "cells": [
  {
   "cell_type": "markdown",
   "metadata": {
    "slideshow": {
     "slide_type": "slide"
    }
   },
   "source": [
    "<center><h1>Operadores relacionales</h1><br /></center>"
   ]
  },
  {
   "cell_type": "markdown",
   "metadata": {
    "slideshow": {
     "slide_type": "slide"
    }
   },
   "source": [
    "Los operadores de comparación nos sirven para saber si dos números son iguales y \n",
    "también para saber cuando un número es mayor que otro. **El resultado siempre es** `True` o `False`. En la siguiente diapositiva se presentan \n",
    "todos los operadores de comparación."
   ]
  },
  {
   "cell_type": "markdown",
   "metadata": {
    "slideshow": {
     "slide_type": "slide"
    }
   },
   "source": [
    "\n",
    "\n",
    "<table class=\"tg\">\n",
    "  <tr>\n",
    "      <th class=\"tg-0pky\"><font size=\"7\">Definición</font></th>\n",
    "      <th class=\"tg-c3ow\"><font size=\"7\">Operador</font></th>\n",
    "  </tr>\n",
    "  <tr>\n",
    "      <td class=\"tg-0pky\"><font size=\"6\">Mayor que</font></td>\n",
    "      <td class=\"tg-c3ow\"><font size=\"6\">&gt;</font></td>\n",
    "  </tr>\n",
    "  <tr>\n",
    "      <td class=\"tg-0pky\"><font size=\"6\">Menor que</font><br></td>\n",
    "      <td class=\"tg-c3ow\"><font size=\"6\">&lt;</font></td>\n",
    "  </tr>\n",
    "  <tr>\n",
    "      <td class=\"tg-0pky\"><font size=\"6\">Igual a</font> <br></td>\n",
    "      <td class=\"tg-c3ow\"><font size=\"6\">==</font></td>\n",
    "  </tr>\n",
    "  <tr>\n",
    "      <td class=\"tg-0pky\"><font size=\"6\">Mayor o igual que</font></td>\n",
    "      <td class=\"tg-c3ow\"><font size=\"6\">&gt;=</font></td>\n",
    "  </tr>\n",
    "  <tr>\n",
    "      <td class=\"tg-0pky\"><font size=\"6\">Menor o igual que</font></td>\n",
    "      <td class=\"tg-c3ow\"><font size=\"6\">&lt;=</font></td>\n",
    "  </tr>\n",
    "  <tr>\n",
    "      <td class=\"tg-0pky\"><font size=\"6\">Distinto a</font></td>\n",
    "      <td class=\"tg-c3ow\"><font size=\"6\">!=</font></td>\n",
    "  </tr>\n",
    "</table>\n"
   ]
  },
  {
   "cell_type": "markdown",
   "metadata": {
    "slideshow": {
     "slide_type": "slide"
    }
   },
   "source": [
    "<div class=\"alert alert-info\">\n",
    "\n",
    "Guarda en dos variables los números 50 y 4 y realiza diversas comparaciones entre ellos.\n",
    "\n",
    "</div>"
   ]
  },
  {
   "cell_type": "code",
   "execution_count": null,
   "metadata": {},
   "outputs": [],
   "source": []
  },
  {
   "cell_type": "markdown",
   "metadata": {
    "slideshow": {
     "slide_type": "slide"
    }
   },
   "source": [
    "Los operadores relacionales tienen **menor prioridad que los operadores aritméticos**. Esto es: si hay operadores aritméticos y relacionales en una misma expresión, las operaciones aritméticas se realizan antes."
   ]
  },
  {
   "cell_type": "markdown",
   "metadata": {
    "slideshow": {
     "slide_type": "slide"
    }
   },
   "source": [
    "<div class=\"alert alert-info\">\n",
    "\n",
    "Realiza las siguientes comparaciones:\n",
    "$$\n",
    "a)\\, 4+6 < 4\\cdot 7 \\qquad   b)\\, 45 >= 3 + 6 \\cdot 7\n",
    "$$\n",
    "\n",
    "</div>"
   ]
  },
  {
   "cell_type": "code",
   "execution_count": null,
   "metadata": {},
   "outputs": [],
   "source": []
  },
  {
   "cell_type": "markdown",
   "metadata": {
    "slideshow": {
     "slide_type": "slide"
    }
   },
   "source": [
    "Las cadenas de texto, siempre que estén escritas en letras minúsculas, se pueden comparar y el orden es el alfabético."
   ]
  },
  {
   "cell_type": "markdown",
   "metadata": {
    "slideshow": {
     "slide_type": "slide"
    }
   },
   "source": [
    "<div class=\"alert alert-info\">\n",
    "\n",
    "Compara las siguientes cadenas:\n",
    "$$\n",
    "a)\\, \\textrm{'a'} < \\textrm{'d'} \\qquad b)\\, \\textrm{'casa'} < \\textrm{'cama'} \n",
    "$$\n",
    "\n",
    "</div>"
   ]
  },
  {
   "cell_type": "code",
   "execution_count": null,
   "metadata": {},
   "outputs": [],
   "source": []
  },
  {
   "cell_type": "markdown",
   "metadata": {
    "slideshow": {
     "slide_type": "slide"
    }
   },
   "source": [
    "<center><h1>Fin</h1></center>\n",
    "<center><small>github.com/jltabara/PythonBasico</small></center>"
   ]
  },
  {
   "cell_type": "code",
   "execution_count": null,
   "metadata": {
    "slideshow": {
     "slide_type": "slide"
    }
   },
   "outputs": [],
   "source": []
  }
 ],
 "metadata": {
  "celltoolbar": "Slideshow",
  "kernelspec": {
   "display_name": "Python 3",
   "language": "python",
   "name": "python3"
  },
  "language_info": {
   "codemirror_mode": {
    "name": "ipython",
    "version": 3
   },
   "file_extension": ".py",
   "mimetype": "text/x-python",
   "name": "python",
   "nbconvert_exporter": "python",
   "pygments_lexer": "ipython3",
   "version": "3.7.3"
  }
 },
 "nbformat": 4,
 "nbformat_minor": 2
}
