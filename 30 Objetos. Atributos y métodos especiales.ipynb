{
 "cells": [
  {
   "cell_type": "markdown",
   "metadata": {
    "slideshow": {
     "slide_type": "slide"
    }
   },
   "source": [
    "<center><h1>Objetos. Atributos y métodos especiales </h1><br /></center>"
   ]
  },
  {
   "cell_type": "markdown",
   "metadata": {
    "slideshow": {
     "slide_type": "slide"
    }
   },
   "source": [
    "Como primera aproximación podemos considerar una clase como un **nuevo tipo de dato**. Una instancia es una variable que contiene dicho tipo de dato. Las instancias también son llamadas **objetos**, aunque nosotros no emplearemos dicho nombre de momento.\n",
    "\n",
    "Las clases se crean con la palabra reservada `class`. Por convenio **se nombran con la primera letra en mayúscula** y utilizando *camel case*."
   ]
  },
  {
   "cell_type": "markdown",
   "metadata": {
    "slideshow": {
     "slide_type": "slide"
    }
   },
   "source": [
    "<div class=\"alert alert-info\">\n",
    "\n",
    "Crea una clase `Punto` y dos atributos llamados `x` e `y`.\n",
    "\n",
    "* Crea una instancia de tipo `Punto`.\n",
    "* Comprueba su tipo con la función `type()`.\n",
    "* Accede a cada uno de sus atributos (utiliza tabulador).\n",
    "* Modifica cada uno de los atributos.\n",
    "* Añade un nuevo atributo a la instancia llamado `color`.\n",
    "\n",
    "<center>\n",
    "<img src=\"punto.png\" width = \"350\">\n",
    "</center>\n",
    "\n",
    "</div>"
   ]
  },
  {
   "cell_type": "code",
   "execution_count": 4,
   "metadata": {
    "slideshow": {
     "slide_type": "slide"
    }
   },
   "outputs": [
    {
     "data": {
      "text/plain": [
       "{'color': 45}"
      ]
     },
     "execution_count": 4,
     "metadata": {},
     "output_type": "execute_result"
    }
   ],
   "source": [
    "class Punto:\n",
    "    x = 90\n",
    "    y = 21\n",
    "p = Punto()\n",
    "p.color = 45\n"
   ]
  },
  {
   "cell_type": "markdown",
   "metadata": {
    "slideshow": {
     "slide_type": "slide"
    }
   },
   "source": [
    "De momento todos los `Puntos` que creamos tienen, por defecto, los mismos valores de los atributos. Lo ideal sería que a la hora de definir el nuevo objeto le pudiesemos decir cuales son los atributos del nuevo objeto. \n",
    "\n",
    "Eso se consigue con el **método especial `init()`** que suele usarse con la **palabra `self`** (no es una palabra reservada, es una convención).\n",
    "\n",
    "A partir de ahora los atributos llevarán el prefijo `self`."
   ]
  },
  {
   "cell_type": "markdown",
   "metadata": {
    "slideshow": {
     "slide_type": "slide"
    }
   },
   "source": [
    "<div class=\"alert alert-info\">\n",
    "    \n",
    "* Crea una nueva clase `Punto` con el método `init()` e inicializa varias instancias con distintos valores de los atributos.\n",
    "\n",
    "* Modifica alguno de los atributos creados con `init()`.\n",
    "    \n",
    "</div>"
   ]
  },
  {
   "cell_type": "code",
   "execution_count": 79,
   "metadata": {},
   "outputs": [
    {
     "data": {
      "text/plain": [
       "0"
      ]
     },
     "execution_count": 79,
     "metadata": {},
     "output_type": "execute_result"
    }
   ],
   "source": [
    "class Punto:\n",
    "    def __init__(self, x, y):\n",
    "        self.x = x\n",
    "        self.y = y\n",
    "        \n",
    "p = Punto(12, 56)\n",
    "q = Punto(0,100)\n",
    "q.x"
   ]
  },
  {
   "cell_type": "markdown",
   "metadata": {
    "slideshow": {
     "slide_type": "slide"
    }
   },
   "source": [
    "El método `init()` se ejecuta nada más crear la instancia. Lo normal es inicializar los atributos, pero podemos realizar cualquier acción además de inicializar los atributos."
   ]
  },
  {
   "cell_type": "markdown",
   "metadata": {
    "slideshow": {
     "slide_type": "slide"
    }
   },
   "source": [
    "<div class=\"alert alert-info\">\n",
    "    \n",
    "Modifica la clase `Punto` para que al crear una nueva instancia, además de inicializar los atributos, imprima una frase.\n",
    "\n",
    "</div>\n"
   ]
  },
  {
   "cell_type": "code",
   "execution_count": 80,
   "metadata": {},
   "outputs": [
    {
     "name": "stdout",
     "output_type": "stream",
     "text": [
      "Ahora estoy creando una instancia\n"
     ]
    }
   ],
   "source": [
    "class Punto:\n",
    "    def __init__(self, x, y):\n",
    "        print(\"Ahora estoy creando una instancia\")\n",
    "        self.x = x\n",
    "        self.y = y\n",
    "\n",
    "p = Punto(3,6)\n"
   ]
  },
  {
   "cell_type": "markdown",
   "metadata": {
    "slideshow": {
     "slide_type": "slide"
    }
   },
   "source": [
    "Hasta ahora para dar valor a los atributos debemos pasar dichos valores al construir la instancia. También podemos pasar unos **parámetros por defecto al método** `init()` y si no se especifican los valores de los atributos se tomarán los valores por defecto."
   ]
  },
  {
   "cell_type": "markdown",
   "metadata": {
    "slideshow": {
     "slide_type": "slide"
    }
   },
   "source": [
    "<div class=\"alert alert-info\">\n",
    "\n",
    "Modifica la clase punto de tal forma que los parámetros por defecto sean el 3 para la `x ` y el 14 para la `y`.\n",
    "\n",
    "</div>"
   ]
  },
  {
   "cell_type": "code",
   "execution_count": 81,
   "metadata": {},
   "outputs": [
    {
     "data": {
      "text/plain": [
       "14"
      ]
     },
     "execution_count": 81,
     "metadata": {},
     "output_type": "execute_result"
    }
   ],
   "source": [
    "class Punto:\n",
    "    def __init__(self, x = 3, y = 14):\n",
    "        self.x = x\n",
    "        self.y = y\n",
    "        \n",
    "p = Punto(100) \n",
    "p.x\n",
    "p.y\n",
    "        "
   ]
  },
  {
   "cell_type": "markdown",
   "metadata": {
    "slideshow": {
     "slide_type": "slide"
    }
   },
   "source": [
    "También sería interesante que al hacer actuar la función `print()` sobre una instancia nos la imprimiese de manera adecuada. Si ejecutamos la función `print()` sobre una instancia nos dará un resultado inesperado.\n",
    "\n",
    "Para imprimir por pantalla de la manera adecuada utilizamos el **método especial `str()`**. Como primer argumento debemos escribir `self`."
   ]
  },
  {
   "cell_type": "markdown",
   "metadata": {
    "slideshow": {
     "slide_type": "slide"
    }
   },
   "source": [
    "<div class=\"alert alert-info\">\n",
    "\n",
    "Añade un método `str()` para imprimir los puntos a nuestro gusto.\n",
    "\n",
    "</div>\n"
   ]
  },
  {
   "cell_type": "code",
   "execution_count": null,
   "metadata": {},
   "outputs": [],
   "source": []
  },
  {
   "cell_type": "markdown",
   "metadata": {
    "slideshow": {
     "slide_type": "slide"
    }
   },
   "source": [
    "También nos gustaría utilizar el operador `+` para poder sumar dos puntos y obtener como resultado otro punto. Para poder hacer esto necesitamos el método especial `add()`."
   ]
  },
  {
   "cell_type": "markdown",
   "metadata": {
    "slideshow": {
     "slide_type": "slide"
    }
   },
   "source": [
    "<div class=\"alert alert-info\">\n",
    "\n",
    "Crea un método especial `add()` para poder sumar dos puntos.\n",
    "\n",
    "</div>"
   ]
  },
  {
   "cell_type": "code",
   "execution_count": null,
   "metadata": {},
   "outputs": [],
   "source": []
  },
  {
   "cell_type": "markdown",
   "metadata": {
    "slideshow": {
     "slide_type": "slide"
    }
   },
   "source": [
    "Los métodos especiales empiezan y terminan con doble guión bajo. Algunos, como `add()` los podemos crear nosotros. Otros ya vienen por defecto al construir la instancia. Para ver todos los métodos y atributos que tiene definida una instancia utilizamos la función `dir()`.  Dichos métodos se pueden sobreescribir."
   ]
  },
  {
   "cell_type": "markdown",
   "metadata": {
    "slideshow": {
     "slide_type": "slide"
    }
   },
   "source": [
    "<div class=\"alert alert-info\">\n",
    "\n",
    "* Visualiza todos los métodos y atributos de la clase `Punto`.\n",
    "\n",
    "* Obtén ayuda sobre el método `sizeof()`.\n",
    "\n",
    "</div>"
   ]
  },
  {
   "cell_type": "code",
   "execution_count": null,
   "metadata": {},
   "outputs": [],
   "source": []
  },
  {
   "cell_type": "markdown",
   "metadata": {
    "slideshow": {
     "slide_type": "slide"
    }
   },
   "source": [
    "<center><h1>Fin</h1></center>\n",
    "<center><small>github.com/jltabara/PythonBasico</small></center>"
   ]
  },
  {
   "cell_type": "code",
   "execution_count": null,
   "metadata": {
    "slideshow": {
     "slide_type": "slide"
    }
   },
   "outputs": [],
   "source": []
  }
 ],
 "metadata": {
  "celltoolbar": "Slideshow",
  "kernelspec": {
   "display_name": "Python 3",
   "language": "python",
   "name": "python3"
  },
  "language_info": {
   "codemirror_mode": {
    "name": "ipython",
    "version": 3
   },
   "file_extension": ".py",
   "mimetype": "text/x-python",
   "name": "python",
   "nbconvert_exporter": "python",
   "pygments_lexer": "ipython3",
   "version": "3.7.3"
  }
 },
 "nbformat": 4,
 "nbformat_minor": 2
}
