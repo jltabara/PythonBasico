{
 "cells": [
  {
   "cell_type": "markdown",
   "metadata": {
    "slideshow": {
     "slide_type": "slide"
    }
   },
   "source": [
    "<center><h1>Pedir datos al usuario</h1><br /></center>"
   ]
  },
  {
   "cell_type": "markdown",
   "metadata": {
    "slideshow": {
     "slide_type": "slide"
    }
   },
   "source": [
    "Hasta ahora para asignar un valor a una variable lo hacíamos dentro del programa. Ahora veremos como pedir datos al usuario. Dichos datos los podemos guardar en una variable. Para ello utilizaremos la función `input()`. La variable que se guarda con la función input es **siempre de tipo cadena**."
   ]
  },
  {
   "cell_type": "markdown",
   "metadata": {
    "slideshow": {
     "slide_type": "slide"
    }
   },
   "source": [
    "<div class=\"alert alert-info\">\n",
    "\n",
    "Crea un programa que pida el nombre del usuario y lo guarde en una variable. Comprueba que efectivamente la variable contiene lo tecleado por el usuario y que dicha variable es de tipo cadena.\n",
    "\n",
    "</div>"
   ]
  },
  {
   "cell_type": "code",
   "execution_count": null,
   "metadata": {},
   "outputs": [],
   "source": []
  },
  {
   "cell_type": "markdown",
   "metadata": {
    "slideshow": {
     "slide_type": "slide"
    }
   },
   "source": [
    "<div class=\"alert alert-info\">\n",
    "\n",
    "Pide la edad del usuario. Comprueba que es de tipo cadena. Intenta operar con dicha variable para observar los errores a los que da lugar.\n",
    "\n",
    "</div>"
   ]
  },
  {
   "cell_type": "code",
   "execution_count": null,
   "metadata": {},
   "outputs": [],
   "source": []
  },
  {
   "cell_type": "markdown",
   "metadata": {
    "slideshow": {
     "slide_type": "slide"
    }
   },
   "source": [
    "<div class=\"alert alert-info\">\n",
    "\n",
    "Pide la edad del usuario. Transforma dicha variable en tipo `int` y comprueba que se puede operar con ella.\n",
    "\n",
    "</div>"
   ]
  },
  {
   "cell_type": "code",
   "execution_count": null,
   "metadata": {},
   "outputs": [],
   "source": []
  },
  {
   "cell_type": "markdown",
   "metadata": {
    "slideshow": {
     "slide_type": "slide"
    }
   },
   "source": [
    "<div class=\"alert alert-info\">\n",
    "\n",
    "Crea un programa que pida la edad de un usuario y transforme lo tecleado por el usuario en un tipo entero. Realiza todo esto en una única línea.\n",
    "\n",
    "</div>"
   ]
  },
  {
   "cell_type": "code",
   "execution_count": null,
   "metadata": {},
   "outputs": [],
   "source": []
  },
  {
   "cell_type": "markdown",
   "metadata": {
    "slideshow": {
     "slide_type": "slide"
    }
   },
   "source": [
    "<div class=\"alert alert-info\">\n",
    "\n",
    "Crea un programa que calcule el área de un rectángulo, pidiendo los datos al usuario.\n",
    "\n",
    "</div>"
   ]
  },
  {
   "cell_type": "code",
   "execution_count": null,
   "metadata": {},
   "outputs": [],
   "source": []
  },
  {
   "cell_type": "markdown",
   "metadata": {
    "slideshow": {
     "slide_type": "slide"
    }
   },
   "source": [
    "<center><h1>Fin</h1></center>\n",
    "<center><small>github.com/jltabara/PythonBasico</small></center>"
   ]
  },
  {
   "cell_type": "markdown",
   "metadata": {
    "colab_type": "text",
    "id": "fHEoCCtiQHcz"
   },
   "source": [
    "### Pedir el nombre y la edad\n",
    "\n",
    "Un programa que pida el nombre y la edad del usuario y que dé una respuesta similar a:\n",
    "\n",
    "```\n",
    "Me llamo Joaquín y tengo 34 años.\n",
    "```"
   ]
  },
  {
   "cell_type": "markdown",
   "metadata": {
    "colab_type": "text",
    "id": "xV5_wQtKV4fE"
   },
   "source": [
    "### Pedir dos números y realizar cuatro operaciones\n",
    "\n",
    "El programa debe de pedir dos números (en principio valen números decimales) y el programa debe calcular su suma, su resta, su multiplicación y su división y devolverlas por pantalla."
   ]
  },
  {
   "cell_type": "markdown",
   "metadata": {
    "colab_type": "text",
    "id": "rOUjMcGeQbqC"
   },
   "source": [
    "### Área  y perímetro de un rectángulo\n",
    "\n",
    "El programa debe de pedir la base y la altura de un rectángulo y calcular el área y el perímetro del rectángulo."
   ]
  },
  {
   "cell_type": "markdown",
   "metadata": {
    "colab_type": "text",
    "id": "1PcxrYPjSUel"
   },
   "source": [
    "### Usar variables dentro de la función `input()`\n",
    "\n",
    "Podemos usar variables dentro de la función `input()` usando *f-strings*. Analiza el siguiente código, que pide dos números distintos al usuario:\n",
    "\n",
    "```python\n",
    "num1 = int(input(f\"Dime un número entero: )\")\n",
    "num2 = int(input(f\"Dime un número distinto a {num1}. \"))\n",
    "```\n"
   ]
  }
 ],
 "metadata": {
  "celltoolbar": "Slideshow",
  "kernelspec": {
   "display_name": "Python 3",
   "language": "python",
   "name": "python3"
  },
  "language_info": {
   "codemirror_mode": {
    "name": "ipython",
    "version": 3
   },
   "file_extension": ".py",
   "mimetype": "text/x-python",
   "name": "python",
   "nbconvert_exporter": "python",
   "pygments_lexer": "ipython3",
   "version": "3.7.3"
  }
 },
 "nbformat": 4,
 "nbformat_minor": 4
}
