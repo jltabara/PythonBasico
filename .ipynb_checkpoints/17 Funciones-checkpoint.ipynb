{
 "cells": [
  {
   "cell_type": "markdown",
   "metadata": {
    "slideshow": {
     "slide_type": "slide"
    }
   },
   "source": [
    "<center><h1>Funciones I</h1><br /></center>"
   ]
  },
  {
   "cell_type": "markdown",
   "metadata": {
    "slideshow": {
     "slide_type": "slide"
    }
   },
   "source": [
    "Una función es un **fragmento de código** al que se le da un nombre, y que podemos ejecutar varias veces. Sirve, entre otras cosas, para **reutilizar el código**.\n",
    "\n",
    "Forman un nuevo tipo de dato denominado `function`."
   ]
  },
  {
   "cell_type": "markdown",
   "metadata": {
    "slideshow": {
     "slide_type": "slide"
    }
   },
   "source": [
    "<div class=\"alert alert-info\">\n",
    "\n",
    "* Convierte el siguiente código en una función e invócala para ejecutarla:\n",
    "\n",
    "```\n",
    "print('*' * 50)\n",
    "print('Programa')\n",
    "print('*' * 50)\n",
    "```\n",
    "* Comprueba su tipo de dato.\n",
    "\n",
    "</div>\n",
    "\n"
   ]
  },
  {
   "cell_type": "code",
   "execution_count": null,
   "metadata": {
    "slideshow": {
     "slide_type": "slide"
    }
   },
   "outputs": [],
   "source": []
  },
  {
   "cell_type": "markdown",
   "metadata": {
    "slideshow": {
     "slide_type": "slide"
    }
   },
   "source": [
    "<div class=\"alert alert-info\">\n",
    "\n",
    "Crea una función que escriba 50 asteriscos, en otra línea, `Me gusta Python` y finalmente que escriba otros 50 asteriscos.\n",
    "\n",
    "</div>"
   ]
  },
  {
   "cell_type": "code",
   "execution_count": null,
   "metadata": {},
   "outputs": [],
   "source": []
  },
  {
   "cell_type": "markdown",
   "metadata": {
    "slideshow": {
     "slide_type": "slide"
    }
   },
   "source": [
    "La función anterior siempre ejecuta la misma acción. Podemos pasar algún parámetro a la función y hacer que la acción dependa de dicho parámetro. Los parámetros se pasan entre paréntesis."
   ]
  },
  {
   "cell_type": "markdown",
   "metadata": {
    "slideshow": {
     "slide_type": "slide"
    }
   },
   "source": [
    "<div class=\"alert alert-info\">\n",
    "\n",
    "Cra una función, con un parámetro, que sea equivalente  al siguiente código:\n",
    "\n",
    "```python\n",
    "n = 30\n",
    "print('*' * n)\n",
    "```\n",
    "\n",
    "</div>"
   ]
  },
  {
   "cell_type": "code",
   "execution_count": null,
   "metadata": {},
   "outputs": [],
   "source": []
  },
  {
   "cell_type": "markdown",
   "metadata": {
    "slideshow": {
     "slide_type": "slide"
    }
   },
   "source": [
    "<div class=\"alert alert-info\">\n",
    "\n",
    "Convierte el siguiente código en una función:\n",
    "\n",
    "```python\n",
    "base = 90\n",
    "altura = 23\n",
    "area = base * altura\n",
    "print('El área es', area)\n",
    "```\n",
    "\n",
    "</div>"
   ]
  },
  {
   "cell_type": "code",
   "execution_count": null,
   "metadata": {
    "slideshow": {
     "slide_type": "-"
    }
   },
   "outputs": [],
   "source": []
  },
  {
   "cell_type": "markdown",
   "metadata": {
    "slideshow": {
     "slide_type": "slide"
    }
   },
   "source": [
    "Muchas funciones devuelven un valor. Normalmente dicho valor depende de los argumentos (o parámetros) que le pasamos. El valor que queremos devolver irá precedido de la palabra reservada `return`."
   ]
  },
  {
   "cell_type": "markdown",
   "metadata": {
    "slideshow": {
     "slide_type": "slide"
    }
   },
   "source": [
    "<div class=\"alert alert-info\">\n",
    "\n",
    "Crea una función que reciba dos números como parámetros y que devuelva la suma de dichos números.\n",
    "\n",
    "</div>"
   ]
  },
  {
   "cell_type": "code",
   "execution_count": null,
   "metadata": {},
   "outputs": [],
   "source": []
  },
  {
   "cell_type": "markdown",
   "metadata": {
    "slideshow": {
     "slide_type": "slide"
    }
   },
   "source": [
    "<div class=\"alert alert-info\">\n",
    "\n",
    "Crea una función `area()` que reciba la base y la altura de un rectángulo y que devuelva el área.\n",
    "\n",
    "</div>"
   ]
  },
  {
   "cell_type": "code",
   "execution_count": null,
   "metadata": {},
   "outputs": [],
   "source": []
  },
  {
   "cell_type": "markdown",
   "metadata": {
    "slideshow": {
     "slide_type": "slide"
    }
   },
   "source": [
    "\n",
    "\n",
    "<div class=\"alert alert-info\">\n",
    "\n",
    "Crea una función que reciba dos números y que devuelva el mayor de ellos. La función termina al ejecutarse cualquier return.\n",
    "\n",
    "</div>"
   ]
  },
  {
   "cell_type": "code",
   "execution_count": 1,
   "metadata": {},
   "outputs": [],
   "source": [
    "\n",
    "    "
   ]
  },
  {
   "cell_type": "markdown",
   "metadata": {
    "slideshow": {
     "slide_type": "slide"
    }
   },
   "source": [
    "En principio una función devuelve un valor, pero también **puede devolver varios valores**, que podemos capturar en varias variables. Para ello ponemos  los distintos valores a devolver tras la sentencia `return` separados por comas."
   ]
  },
  {
   "cell_type": "markdown",
   "metadata": {
    "slideshow": {
     "slide_type": "slide"
    }
   },
   "source": [
    "<div class=\"alert alert-info\">\n",
    "\n",
    "Crea una función que calcule perímetro y el área de un rectángulo y devuelva ambos. Captura dichos valores en variables. Captura también dichos valores en una única variable.\n",
    "\n",
    "</div>"
   ]
  },
  {
   "cell_type": "code",
   "execution_count": null,
   "metadata": {},
   "outputs": [],
   "source": []
  },
  {
   "cell_type": "markdown",
   "metadata": {
    "slideshow": {
     "slide_type": "slide"
    }
   },
   "source": [
    "Si una función necesita `n` parámetros y la invocamos con más o con menos parámetros se produce un error. Sin embargo podemos poner **paramétros por defecto** que se ejecutarán cuando se invoque con **menos parámetros**.\n",
    "\n",
    "Los parámetros por defecto **siempre van al final**."
   ]
  },
  {
   "cell_type": "markdown",
   "metadata": {
    "slideshow": {
     "slide_type": "slide"
    }
   },
   "source": [
    "<div class=\"alert alert-info\">\n",
    "\n",
    "Crea parámetros por defecto en la función y ejecútala con distinto número de parámetros.\n",
    "\n",
    "```python\n",
    "def area(base, altura):\n",
    "    return base * altura\n",
    "```\n",
    "\n",
    "</div>"
   ]
  },
  {
   "cell_type": "code",
   "execution_count": null,
   "metadata": {},
   "outputs": [],
   "source": []
  },
  {
   "cell_type": "markdown",
   "metadata": {
    "slideshow": {
     "slide_type": "slide"
    }
   },
   "source": [
    "Es posible introducir los parámetros a una función utilizando directamente los nombres de dichos parámetros. De esta forma podemos variar el orden de los parámetros que introducimos."
   ]
  },
  {
   "cell_type": "markdown",
   "metadata": {
    "slideshow": {
     "slide_type": "slide"
    }
   },
   "source": [
    "<div class=\"alert alert-info\">\n",
    "\n",
    "Dada la función, invócala usando los nombres de los parámetros. Ver que podemos cambiar el orden.\n",
    "\n",
    "```python\n",
    "def funcion(x, y):\n",
    "    return x * (y ** 2)\n",
    "```\n",
    "\n",
    "</div>"
   ]
  },
  {
   "cell_type": "code",
   "execution_count": null,
   "metadata": {},
   "outputs": [],
   "source": []
  },
  {
   "cell_type": "markdown",
   "metadata": {
    "slideshow": {
     "slide_type": "slide"
    }
   },
   "source": [
    "Para **documentar una función debemos escribir entre comillas triples** lo que queramos que aparezca al solicitar ayuda sobre la función. Debe estar situado **inmediatamente después de la cabecera de la función**."
   ]
  },
  {
   "cell_type": "markdown",
   "metadata": {
    "slideshow": {
     "slide_type": "slide"
    }
   },
   "source": [
    "<div class=\"alert alert-info\">\n",
    "    \n",
    "* Crea una función `suma()` y documéntala.\n",
    "* Comprueba que se puede acceder a la ayuda con la función `help()`.\n",
    "* Si la documentación no es la primera instrucción de la función entonces no funciona.\n",
    "\n",
    "</div>"
   ]
  },
  {
   "cell_type": "code",
   "execution_count": null,
   "metadata": {},
   "outputs": [],
   "source": []
  },
  {
   "cell_type": "markdown",
   "metadata": {
    "slideshow": {
     "slide_type": "slide"
    }
   },
   "source": [
    "Una variable definida dentro de una función se llama **variable local**. Se puede usar dentro de la función, pero fuera de la función dicha función no existe.\n",
    "\n",
    "Decimos que el **ámbito de la variable** es la función. Cada variable existe únicamente dentro de su ámbito."
   ]
  },
  {
   "cell_type": "markdown",
   "metadata": {
    "slideshow": {
     "slide_type": "slide"
    }
   },
   "source": [
    "<div class=\"alert alert-info\">\n",
    "\n",
    "Crea una función con una variable local y comprueba que fuera de la función dicha variable no existe.\n",
    "\n",
    "</div>"
   ]
  },
  {
   "cell_type": "code",
   "execution_count": null,
   "metadata": {},
   "outputs": [],
   "source": []
  },
  {
   "cell_type": "markdown",
   "metadata": {
    "slideshow": {
     "slide_type": "slide"
    }
   },
   "source": [
    "Si existe una variable global y un parámetro con el mismo nombre, entonces en realidad son dos variables distintas.\n",
    "Dentro de la función el nombre se refiere al parámetro y fuera de la función se refiere a la variable global. **La modificación de la variable local no afecta a la variable global**.\n"
   ]
  },
  {
   "cell_type": "markdown",
   "metadata": {
    "slideshow": {
     "slide_type": "slide"
    }
   },
   "source": [
    "<div class=\"alert alert-info\">\n",
    "\n",
    "Prueba el siguiente código:\n",
    "    \n",
    "```\n",
    "n = 56\n",
    "def funcion(n):\n",
    "    n = n + 90 # Aqui n se refiere al parametro\n",
    "    print(n)\n",
    "\n",
    "funcion(56)\n",
    "print(n)  # Aquí n se refiere a la variable global\n",
    "```\n",
    "\n",
    "</div>"
   ]
  },
  {
   "cell_type": "code",
   "execution_count": 9,
   "metadata": {},
   "outputs": [
    {
     "name": "stdout",
     "output_type": "stream",
     "text": [
      "146\n",
      "56\n"
     ]
    }
   ],
   "source": [
    "n = 56\n",
    "def funcion(n):\n",
    "    n = n + 90 # Aqui n se refiere al parametro\n",
    "    print(n)\n",
    "\n",
    "funcion(56)\n",
    "print(n)  # Aquí n se refiere a la variable global"
   ]
  },
  {
   "cell_type": "markdown",
   "metadata": {
    "slideshow": {
     "slide_type": "slide"
    }
   },
   "source": [
    "Si introducimos un tipo de **dato mutable** (por ejemplo listas) como parámetros de una función, todas las modificaciones que le hagamos dentro de la función quedan guardadas en la variable global. Para los más avanzados, esto significa que los argumentos se pasan por referencia en Python.\n",
    "\n",
    "**Esto no ocurre cuando el argumento es un tipo de dato inmutable.**"
   ]
  },
  {
   "cell_type": "markdown",
   "metadata": {
    "slideshow": {
     "slide_type": "slide"
    }
   },
   "source": [
    "<div class=\"alert alert-info\">\n",
    "\n",
    "Crea una función que modifique una lista y comprueba que su ejecución modifica la variable global sobre la que actúa.\n",
    "\n",
    "</div>\n",
    "\n",
    "\n",
    "\n",
    "\n"
   ]
  },
  {
   "cell_type": "code",
   "execution_count": 13,
   "metadata": {},
   "outputs": [
    {
     "data": {
      "text/plain": [
       "['hola']"
      ]
     },
     "execution_count": 13,
     "metadata": {},
     "output_type": "execute_result"
    }
   ],
   "source": [
    "l = []\n",
    "def modificar(a):\n",
    "    a.append(\"hola\")\n",
    "    \n",
    "modificar(l)\n",
    "l"
   ]
  },
  {
   "cell_type": "markdown",
   "metadata": {
    "slideshow": {
     "slide_type": "slide"
    }
   },
   "source": [
    "<div class=\"alert alert-info\">\n",
    "\n",
    "Crea una función que modifique un entero (tipo de dato inmutable) y comprueba que es lo que sucede.\n",
    "\n",
    "</div>"
   ]
  },
  {
   "cell_type": "code",
   "execution_count": 16,
   "metadata": {},
   "outputs": [
    {
     "data": {
      "text/plain": [
       "89"
      ]
     },
     "execution_count": 16,
     "metadata": {},
     "output_type": "execute_result"
    }
   ],
   "source": [
    "n = 89\n",
    "def modificar(a):\n",
    "    a = a + 90\n",
    "    \n",
    "modificar(n) \n",
    "n "
   ]
  },
  {
   "cell_type": "markdown",
   "metadata": {
    "slideshow": {
     "slide_type": "slide"
    }
   },
   "source": [
    "<center><h1>Fin</h1></center>\n",
    "<center><small>github.com/jltabara/PythonBasico</small></center>"
   ]
  },
  {
   "cell_type": "code",
   "execution_count": null,
   "metadata": {
    "slideshow": {
     "slide_type": "slide"
    }
   },
   "outputs": [],
   "source": []
  },
  {
   "cell_type": "code",
   "execution_count": null,
   "metadata": {
    "slideshow": {
     "slide_type": "slide"
    }
   },
   "outputs": [],
   "source": []
  }
 ],
 "metadata": {
  "celltoolbar": "Slideshow",
  "kernelspec": {
   "display_name": "Python 3",
   "language": "python",
   "name": "python3"
  },
  "language_info": {
   "codemirror_mode": {
    "name": "ipython",
    "version": 3
   },
   "file_extension": ".py",
   "mimetype": "text/x-python",
   "name": "python",
   "nbconvert_exporter": "python",
   "pygments_lexer": "ipython3",
   "version": "3.7.3"
  }
 },
 "nbformat": 4,
 "nbformat_minor": 4
}
