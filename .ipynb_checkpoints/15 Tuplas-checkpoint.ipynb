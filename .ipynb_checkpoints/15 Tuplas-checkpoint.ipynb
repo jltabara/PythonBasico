{
 "cells": [
  {
   "cell_type": "markdown",
   "metadata": {
    "slideshow": {
     "slide_type": "slide"
    }
   },
   "source": [
    "<center><h1>Tuplas</h1><br /></center>"
   ]
  },
  {
   "cell_type": "markdown",
   "metadata": {
    "slideshow": {
     "slide_type": "slide"
    }
   },
   "source": [
    "Una tupla es similar a una lista, pero con dos diferencias importantes:\n",
    "\n",
    "* Los elementos se escriben entre paréntesis.\n",
    "\n",
    "* Las tuplas son **inmutables**.\n",
    "\n",
    "* En general su funcionamiento es más rápido que el de las listas.\n",
    "\n",
    "En realidad, aunque por convención siempre se escriben  entre paréntesis, se pueden también escribir sin paréntesis."
   ]
  },
  {
   "cell_type": "markdown",
   "metadata": {
    "slideshow": {
     "slide_type": "slide"
    }
   },
   "source": [
    "<div class=\"alert alert-info\">\n",
    "\n",
    "* Crea una tupla con los datos ` 1, 7, \"hola\", True`. \n",
    "\n",
    "* Comprueba su tipo.\n",
    "\n",
    "* Comprueba que se pueden definir tuplas sin usar paréntesis.\n",
    "\n",
    "* Concatena dos tuplas y multiplica una tupla por un número.\n",
    "\n",
    "</div>\n",
    "\n"
   ]
  },
  {
   "cell_type": "code",
   "execution_count": null,
   "metadata": {
    "slideshow": {
     "slide_type": "-"
    }
   },
   "outputs": [],
   "source": []
  },
  {
   "cell_type": "markdown",
   "metadata": {
    "slideshow": {
     "slide_type": "slide"
    }
   },
   "source": [
    "<div class=\"alert alert-info\">\n",
    "\n",
    "Consideremos la tupla con elementos ` 1, 7, \"hola\", True`. \n",
    "\n",
    "* Calcula su longitud.\n",
    "\n",
    "* Accede a sus elementos\n",
    "\n",
    "* Realiza slicing.\n",
    "\n",
    "* Realiza algún test de pertenencia.\n",
    "\n",
    "</div>"
   ]
  },
  {
   "cell_type": "code",
   "execution_count": null,
   "metadata": {},
   "outputs": [],
   "source": []
  },
  {
   "cell_type": "markdown",
   "metadata": {
    "slideshow": {
     "slide_type": "slide"
    }
   },
   "source": [
    "Una tupla es **inmutable**. Si queremos cambiar algún item por otro nos dará error. Todos los métodos que cambiaban a las listas no son válidos para tuplas.\n",
    "\n",
    "Para crear una **tupla vacía** utilizamos paréntesis pero sin contenido dentro de ellos. Sin embargo para crear una **tupla con un único elemento** debemos escribir una coma después del elemento."
   ]
  },
  {
   "cell_type": "markdown",
   "metadata": {
    "slideshow": {
     "slide_type": "slide"
    }
   },
   "source": [
    "<div class=\"alert alert-info\">\n",
    "\n",
    "\n",
    "\n",
    "* Intenta cambiar algún elemento. Intenta añadir elementos. Intenta ordenar la tupla.\n",
    "\n",
    "* Crea una tupla con cero elementos.\n",
    "\n",
    "* Crea una tupla con un elemento.\n",
    "\n",
    "* Visualiza todos los métodos aplicables a tuplas y a listas para ver las diferencias.\n",
    "\n",
    "\n",
    "</div>"
   ]
  },
  {
   "cell_type": "code",
   "execution_count": null,
   "metadata": {
    "slideshow": {
     "slide_type": "-"
    }
   },
   "outputs": [],
   "source": []
  },
  {
   "cell_type": "markdown",
   "metadata": {
    "slideshow": {
     "slide_type": "slide"
    }
   },
   "source": [
    "Si las listas contienen solamente números entonces podemos aplicar sobre ellas algunas funciones: **`max()`** y **`min()`** que calculan el máximo y el mínimo y **`sum()`** que suma todos los elementos. La función **`sorted()`** ordena todos los elementos y devuelve una lista."
   ]
  },
  {
   "cell_type": "markdown",
   "metadata": {
    "slideshow": {
     "slide_type": "slide"
    }
   },
   "source": [
    "<div class=\"alert alert-info\">\n",
    "\n",
    "Dada la lista `(3, 7, 8, 1, -2)` aplica sobre ella las funciones `max()`, `min()`, `sum()` y `sorted()`.\n",
    "\n",
    "\n",
    "</div>"
   ]
  },
  {
   "cell_type": "code",
   "execution_count": null,
   "metadata": {},
   "outputs": [],
   "source": []
  },
  {
   "cell_type": "markdown",
   "metadata": {
    "slideshow": {
     "slide_type": "slide"
    }
   },
   "source": [
    "Podemos construir tuplas a partir de listas con la función **`tuple()`**. A la inversa, para crear una lista a partir de una tupla empleamos la función **`list()`**. Del mismo modo se pueden construir tuplas a partir de cadenas, rangos y en general a partir de cualquier elemento iterable."
   ]
  },
  {
   "cell_type": "markdown",
   "metadata": {
    "slideshow": {
     "slide_type": "slide"
    }
   },
   "source": [
    "<div class=\"alert alert-info\">\n",
    "\n",
    "* Convierte listas, rangos y cadenas a tuplas.\n",
    "    \n",
    "* Consulta la ayuda de la función `tuple()`.\n",
    "\n",
    "* Crea una tupla y una lista a partir de ella.\n",
    "\n",
    "\n",
    "</div>"
   ]
  },
  {
   "cell_type": "code",
   "execution_count": null,
   "metadata": {},
   "outputs": [],
   "source": []
  },
  {
   "cell_type": "markdown",
   "metadata": {
    "slideshow": {
     "slide_type": "slide"
    }
   },
   "source": [
    "Las tuplas se pueden **desempaquetar** en varias variables. Esto consiste en asignar cada elemento de una tupla a una variable.\n",
    "\n",
    "Escribiendo, de manera adecuada, **un asterisco delante de algunas  variables** se pueden  desempaquetar tuplas, asignado a una de las variables una lista con los elementos restantes."
   ]
  },
  {
   "cell_type": "markdown",
   "metadata": {
    "slideshow": {
     "slide_type": "slide"
    }
   },
   "source": [
    "<div class=\"alert alert-info\">\n",
    "\n",
    "* Crea una tupla con tres elementos y desempaquétala.\n",
    "\n",
    "* Crea la tupla `(1, 2, 3, 4)` y desempaquétala de distintas formas.\n",
    "\n",
    "\n",
    "</div>"
   ]
  },
  {
   "cell_type": "code",
   "execution_count": null,
   "metadata": {},
   "outputs": [],
   "source": []
  },
  {
   "cell_type": "markdown",
   "metadata": {
    "slideshow": {
     "slide_type": "slide"
    }
   },
   "source": [
    "Aunque una tupla es inmutable, si sus elementos son mutables, en realidad podemos cambiar su contenido. **En general tiene más sentido una tupla como contenedor de elementos inmutables**."
   ]
  },
  {
   "cell_type": "markdown",
   "metadata": {
    "slideshow": {
     "slide_type": "slide"
    }
   },
   "source": [
    "<div class=\"alert alert-info\">\n",
    "\n",
    "Crea una lista dentro de una tupla. Modifica la lista y observa que el contenido de la tupla se ha modificado.\n",
    "\n",
    "</div>"
   ]
  },
  {
   "cell_type": "code",
   "execution_count": 7,
   "metadata": {},
   "outputs": [
    {
     "name": "stdout",
     "output_type": "stream",
     "text": [
      "(1, [1, 2])\n",
      "(1, [1, 2, 9999999])\n"
     ]
    }
   ],
   "source": [
    "lista = [1, 2]\n",
    "tupla = (1, lista)\n",
    "print(tupla)\n",
    "lista.append(9999999)\n",
    "print(tupla)"
   ]
  },
  {
   "cell_type": "markdown",
   "metadata": {
    "slideshow": {
     "slide_type": "slide"
    }
   },
   "source": [
    "<center><h1>Fin</h1></center>\n",
    "<center><small>github.com/jltabara/PythonBasico</small></center>"
   ]
  },
  {
   "cell_type": "code",
   "execution_count": null,
   "metadata": {
    "slideshow": {
     "slide_type": "slide"
    }
   },
   "outputs": [],
   "source": []
  }
 ],
 "metadata": {
  "celltoolbar": "Slideshow",
  "kernelspec": {
   "display_name": "Python 3",
   "language": "python",
   "name": "python3"
  },
  "language_info": {
   "codemirror_mode": {
    "name": "ipython",
    "version": 3
   },
   "file_extension": ".py",
   "mimetype": "text/x-python",
   "name": "python",
   "nbconvert_exporter": "python",
   "pygments_lexer": "ipython3",
   "version": "3.7.3"
  }
 },
 "nbformat": 4,
 "nbformat_minor": 4
}
