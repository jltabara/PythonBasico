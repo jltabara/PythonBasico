{
 "cells": [
  {
   "cell_type": "markdown",
   "metadata": {
    "slideshow": {
     "slide_type": "slide"
    }
   },
   "source": [
    "<center><h1>Diccionarios</h1><br /></center>"
   ]
  },
  {
   "cell_type": "markdown",
   "metadata": {
    "slideshow": {
     "slide_type": "slide"
    }
   },
   "source": [
    "Los diccionarios son una especie de lista en el a cada item se le asocia un **índice único**, que no es necesariamente un número entero. El índice se llama clave **clave** y el contenido almacenado **valor**. \n",
    "\n",
    "Por lo tanto un diccionario es un conjunto de pares **clave:valor**, similar a un diccionario de lengua, pero donde cada palabra tiene un único significado."
   ]
  },
  {
   "cell_type": "markdown",
   "metadata": {
    "slideshow": {
     "slide_type": "slide"
    }
   },
   "source": [
    "Los diccionarios se contruyen **utilizando llaves** y separando la clave y el valor con **dos puntos**.\n",
    "\n",
    "También se pueden construir a partir de diversos tipos de datos utilizando la función **`dict()`**."
   ]
  },
  {
   "cell_type": "markdown",
   "metadata": {
    "slideshow": {
     "slide_type": "slide"
    }
   },
   "source": [
    "<div class=\"alert alert-info\">\n",
    "\n",
    "Crea, de varias formas distintas, un diccionario que simule la tabla siguiente. Comprueba su tipo y la igualdad entre las distintas formas de construcción.\n",
    "\n",
    "<table class=\"tg\">\n",
    "  <tr>\n",
    "      <th class=\"tg-0pky\"><font size=\"6\">Clave</font></th>\n",
    "      <th class=\"tg-c3ow\"><font size=\"6\">Valor</font></th>\n",
    "  </tr>\n",
    "  <tr>\n",
    "      <td class=\"tg-0pky\"><font size=\"6\">pi</font></td>\n",
    "      <td class=\"tg-c3ow\"><font size=\"6\">3.14</font></td>\n",
    "  </tr>\n",
    "  <tr>\n",
    "      <td class=\"tg-0pky\"><font size=\"6\">e</font><br></td>\n",
    "      <td class=\"tg-c3ow\"><font size=\"6\">2.71</font></td>\n",
    "  </tr>\n",
    "  <tr>\n",
    "      <td class=\"tg-0pky\"><font size=\"6\">phi</font> <br></td>\n",
    "      <td class=\"tg-c3ow\"><font size=\"6\">1.61</font></td>\n",
    "  </tr>\n",
    "  </table>\n",
    "\n",
    "</div>"
   ]
  },
  {
   "cell_type": "code",
   "execution_count": 11,
   "metadata": {
    "slideshow": {
     "slide_type": "slide"
    }
   },
   "outputs": [
    {
     "name": "stdout",
     "output_type": "stream",
     "text": [
      "{'pi': 3.14, 'e': 2.71, 'phi': 1.61}\n"
     ]
    }
   ],
   "source": [
    "d = {'pi' : 3.14, 'e' : 2.71, 'phi' : 1.61}\n",
    "d1 = [('pi', 3.14), ('e', 2.71), ('phi', 1.61)]\n",
    "d1 = dict(d1)\n",
    "d2 = dict(pi = 3.14, e = 2.71, phi = 1.61)\n",
    "print(d)"
   ]
  },
  {
   "cell_type": "markdown",
   "metadata": {
    "slideshow": {
     "slide_type": "slide"
    }
   },
   "source": [
    "La **clave debe de ser única**. Sin embargo el valor si se puede repetir."
   ]
  },
  {
   "cell_type": "markdown",
   "metadata": {
    "slideshow": {
     "slide_type": "slide"
    }
   },
   "source": [
    "<div class=\"alert alert-info\">\n",
    "\n",
    "* Crea un diccionario con dos claves iguales. Comprueba que solamente se guarda uno de los pares. ¿Cual?\n",
    "\n",
    "* Comprueba que el valor si se puede repetir.\n",
    "\n",
    "</div>"
   ]
  },
  {
   "cell_type": "code",
   "execution_count": 14,
   "metadata": {
    "slideshow": {
     "slide_type": "slide"
    }
   },
   "outputs": [
    {
     "data": {
      "text/plain": [
       "{'pi': 3.14, 'e': 2.71, 'phi': 3.14}"
      ]
     },
     "execution_count": 14,
     "metadata": {},
     "output_type": "execute_result"
    }
   ],
   "source": [
    "d = {'pi' : 3.14, 'e' : 2.71, 'phi' : 3.14}\n",
    "d\n"
   ]
  },
  {
   "cell_type": "markdown",
   "metadata": {
    "slideshow": {
     "slide_type": "slide"
    }
   },
   "source": [
    "Para acceder a un valor debemos escribir su clave o índice entre corchetes, de modo similar a las listas. \n",
    "\n",
    "Si intentamos acceder a una clave que no existe se produce un error.\n",
    "\n",
    "También podemos utilizar el método **`.get()`** que no genera errores y admite un segundo parámetro para el caso de que la clave no exista."
   ]
  },
  {
   "cell_type": "markdown",
   "metadata": {
    "slideshow": {
     "slide_type": "slide"
    }
   },
   "source": [
    "<div class=\"alert alert-info\">\n",
    "\n",
    "Crea un diccionario y accede a alguno de sus elementos. Utiliza el método `.get()` e intenta acceder a claves inexistentes.\n",
    "\n",
    "</div>"
   ]
  },
  {
   "cell_type": "code",
   "execution_count": 22,
   "metadata": {},
   "outputs": [
    {
     "data": {
      "text/plain": [
       "3.14"
      ]
     },
     "execution_count": 22,
     "metadata": {},
     "output_type": "execute_result"
    }
   ],
   "source": [
    "d = {'pi' : 3.14, 'e' : 2.71, 'phi' : 1.61}\n",
    "d.get('pi', \"Esta clave no existe\")"
   ]
  },
  {
   "cell_type": "markdown",
   "metadata": {
    "slideshow": {
     "slide_type": "slide"
    }
   },
   "source": [
    "La parte del valor puede ser cualquier tipo de dato. Sin embargo **la clave debe ser de un tipo inmutable**. Los tipos inmutables más habituales son: **`int`**, **`float`**, **`bool`**, **`str`** y **`tuple`**."
   ]
  },
  {
   "cell_type": "markdown",
   "metadata": {
    "slideshow": {
     "slide_type": "slide"
    }
   },
   "source": [
    "<div class=\"alert alert-info\">\n",
    "\n",
    "* Crea un diccionario donde el valor sea cualquier tipo de dato, incluido otro diccionario.\n",
    "\n",
    "* Prueba distintos tipos de claves y comprueba que da error con tipos mutables.\n",
    "\n",
    "</div>"
   ]
  },
  {
   "cell_type": "code",
   "execution_count": 34,
   "metadata": {
    "slideshow": {
     "slide_type": "slide"
    }
   },
   "outputs": [
    {
     "data": {
      "text/plain": [
       "{'pi': 3.14, 'e': 2.71, 'phi': 1.61}"
      ]
     },
     "execution_count": 34,
     "metadata": {},
     "output_type": "execute_result"
    }
   ],
   "source": [
    "d = {'pi' : 3.14, 'e' : 2.71, 'phi' : 1.61}\n",
    "d\n"
   ]
  },
  {
   "cell_type": "markdown",
   "metadata": {
    "slideshow": {
     "slide_type": "slide"
    }
   },
   "source": [
    "Para agregar un elemento al diccionario debemos facilitar la clave y el valor. Se realiza de modo similar a la consulta del valor. Si se introduce una clave que **ya existe lo que se hace es modificar el valor** asociado a dicha clave.\n",
    "\n",
    "También se pueden añadir parejas con el método **`.update()`**."
   ]
  },
  {
   "cell_type": "markdown",
   "metadata": {
    "slideshow": {
     "slide_type": "slide"
    }
   },
   "source": [
    "<div class=\"alert alert-info\">\n",
    "\n",
    "* Añade elementos nuevos a un dicccionario utilizando varios métodos.\n",
    "\n",
    "* Modifica algún elemento del diccionario.\n",
    "\n",
    "</div>"
   ]
  },
  {
   "cell_type": "code",
   "execution_count": 17,
   "metadata": {},
   "outputs": [],
   "source": [
    "d = {4: 89}"
   ]
  },
  {
   "cell_type": "markdown",
   "metadata": {
    "slideshow": {
     "slide_type": "slide"
    }
   },
   "source": [
    "Para borrar elementos de un diccionario utilizamos **`del`**. Debemos indicar el par que queremos borrar. También se pueden borrar elementos con el método **`.pop()`**.\n",
    "\n",
    "El método **`.clear()`** borra todo el diccionario."
   ]
  },
  {
   "cell_type": "markdown",
   "metadata": {
    "slideshow": {
     "slide_type": "slide"
    }
   },
   "source": [
    "<div class=\"alert alert-info\">\n",
    "\n",
    "* Borra elementos de un diccionario. \n",
    "\n",
    "* Borra todos los elementos de un diccionario.\n",
    "\n",
    "</div>"
   ]
  },
  {
   "cell_type": "code",
   "execution_count": 42,
   "metadata": {},
   "outputs": [
    {
     "data": {
      "text/plain": [
       "{'e': 2.71, 'phi': 1.61}"
      ]
     },
     "execution_count": 42,
     "metadata": {},
     "output_type": "execute_result"
    }
   ],
   "source": [
    "d"
   ]
  },
  {
   "cell_type": "markdown",
   "metadata": {
    "slideshow": {
     "slide_type": "slide"
    }
   },
   "source": [
    "Los diccionarios son objetos iterables y se pueden extraer listas a partir de ellos. Para ello empleamos los métodos **`.keys()`**, **`.values()`** e **`.items()`**.  Estos iterables se convierten en lista con la función **`list()`**."
   ]
  },
  {
   "cell_type": "markdown",
   "metadata": {
    "slideshow": {
     "slide_type": "slide"
    }
   },
   "source": [
    "<div class=\"alert alert-info\">\n",
    "    \n",
    "Crea listas con las claves, con los valores y con las parejas clave-valor.\n",
    "\n",
    "</div>"
   ]
  },
  {
   "cell_type": "code",
   "execution_count": 47,
   "metadata": {},
   "outputs": [
    {
     "data": {
      "text/plain": [
       "('phi', 1.61)"
      ]
     },
     "execution_count": 47,
     "metadata": {},
     "output_type": "execute_result"
    }
   ],
   "source": [
    "d.popitem()"
   ]
  },
  {
   "cell_type": "markdown",
   "metadata": {
    "slideshow": {
     "slide_type": "slide"
    }
   },
   "source": [
    "También podemos utilizar sobre diccionarios la función **`len()`** y comprobar inclusiones con **`in`**. No es necesario convertirlos en listas.\n",
    "\n",
    "Si queremos iterar con un bucle **`for`** tampoco es necesario transformarlos en listas."
   ]
  },
  {
   "cell_type": "markdown",
   "metadata": {
    "slideshow": {
     "slide_type": "slide"
    }
   },
   "source": [
    "<div class=\"alert alert-info\">\n",
    "    \n",
    "* Calcula la longitud de un diccionario y comprueba inclusiones de diversos datos.\n",
    "\n",
    "* Utiliza diccionarios en bucles `for`.\n",
    "\n",
    "</div>"
   ]
  },
  {
   "cell_type": "code",
   "execution_count": 49,
   "metadata": {},
   "outputs": [],
   "source": [
    "\n"
   ]
  },
  {
   "cell_type": "markdown",
   "metadata": {
    "slideshow": {
     "slide_type": "slide"
    }
   },
   "source": [
    "# Funcion zip"
   ]
  },
  {
   "cell_type": "markdown",
   "metadata": {
    "slideshow": {
     "slide_type": "slide"
    }
   },
   "source": []
  },
  {
   "cell_type": "code",
   "execution_count": null,
   "metadata": {},
   "outputs": [],
   "source": []
  },
  {
   "cell_type": "markdown",
   "metadata": {
    "slideshow": {
     "slide_type": "slide"
    }
   },
   "source": [
    "<center><h1>Fin</h1></center>\n",
    "<center><small>github.com/jltabara/PythonBasico</small></center>"
   ]
  },
  {
   "cell_type": "code",
   "execution_count": null,
   "metadata": {
    "slideshow": {
     "slide_type": "slide"
    }
   },
   "outputs": [],
   "source": []
  }
 ],
 "metadata": {
  "celltoolbar": "Slideshow",
  "kernelspec": {
   "display_name": "Python 3",
   "language": "python",
   "name": "python3"
  },
  "language_info": {
   "codemirror_mode": {
    "name": "ipython",
    "version": 3
   },
   "file_extension": ".py",
   "mimetype": "text/x-python",
   "name": "python",
   "nbconvert_exporter": "python",
   "pygments_lexer": "ipython3",
   "version": "3.7.3"
  }
 },
 "nbformat": 4,
 "nbformat_minor": 2
}
