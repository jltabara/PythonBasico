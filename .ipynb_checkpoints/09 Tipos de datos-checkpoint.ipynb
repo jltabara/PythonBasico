{
 "cells": [
  {
   "cell_type": "markdown",
   "metadata": {
    "slideshow": {
     "slide_type": "slide"
    }
   },
   "source": [
    "<center><h1>Tipos de datos</h1><br /></center>"
   ]
  },
  {
   "cell_type": "markdown",
   "metadata": {
    "slideshow": {
     "slide_type": "slide"
    }
   },
   "source": [
    "Todo valor que se puede guardar en una variable tiene asociado un tipo de dato. Por ejemplo, **`8`** es un **número entero**, **`7.9`** es un **valor decimal** y **`\"Hola mundo\"`** es una **cadena**. Para conocer el tipo de dato que asigna Python a cada variable podemos utilizar la función **`type()`**."
   ]
  },
  {
   "cell_type": "markdown",
   "metadata": {
    "slideshow": {
     "slide_type": "slide"
    }
   },
   "source": [
    "<div class=\"alert alert-info\">\n",
    "\n",
    "Encuentra el tipo de dato de los siguientes valores:\n",
    "$$\n",
    "a)\\, 890 \\qquad b)\\, 45.78 \\qquad c)\\, \\text{'Hola mundo'} \\qquad d)\\, \\text{True}\n",
    "$$\n",
    "\n",
    "</div>"
   ]
  },
  {
   "cell_type": "code",
   "execution_count": null,
   "metadata": {},
   "outputs": [],
   "source": []
  },
  {
   "cell_type": "markdown",
   "metadata": {
    "slideshow": {
     "slide_type": "slide"
    }
   },
   "source": [
    "Como vemos en Python tenemos los siguientes tipos de datos:\n",
    "\n",
    "* **`int`**. Número entero.\n",
    "\n",
    "* **`float`**. Número decimal.\n",
    "\n",
    "* **`str`**. Cadena de texto.\n",
    "\n",
    "* **`bool`**. Booleano."
   ]
  },
  {
   "cell_type": "markdown",
   "metadata": {
    "slideshow": {
     "slide_type": "slide"
    }
   },
   "source": [
    "Una variable puede contener un tipo de dato en una parte del programa y en otra parte del programa la misma variable puede contener otro tipo de dato. Los lenguajes que poseen esta característica se dice que tienen **tipado dinámico**."
   ]
  },
  {
   "cell_type": "markdown",
   "metadata": {
    "slideshow": {
     "slide_type": "slide"
    }
   },
   "source": [
    "<div class=\"alert alert-info\">\n",
    "\n",
    "Guarda en una misma variable varios tipos de datos y observa que no se produce ningún error.\n",
    "\n",
    "</div>"
   ]
  },
  {
   "cell_type": "code",
   "execution_count": null,
   "metadata": {},
   "outputs": [],
   "source": []
  },
  {
   "cell_type": "markdown",
   "metadata": {
    "slideshow": {
     "slide_type": "slide"
    }
   },
   "source": [
    "Podemos cambiar el tipo de dato de un valor utilizando las funciones **`int()`**, **`float()`**, **`str()`** y **`bool`**. Si Python no puede convertir la variable entonces se produce un error.\n",
    "\n",
    "Si aplicamos una de estas funciones a una variable, la variable en sí no cambia de tipo de dato. Sin embargo podemos guardar el cambio de tipo en la misma variable.\n",
    "\n",
    "En inglés cambiar el tipo de dato se denomina *casting*. Algunas veces oiremos la palabra *castear* como traducción al español de este concepto.\n"
   ]
  },
  {
   "cell_type": "markdown",
   "metadata": {
    "slideshow": {
     "slide_type": "slide"
    }
   },
   "source": [
    "<div class=\"alert alert-info\">\n",
    "\n",
    "* Convierte la cadena `'8'` a los otros tipos de dato.\n",
    "\n",
    "* Convierte `7.89` a los otros tipos de dato.\n",
    "    \n",
    "* Convierte `True` a los otros tipos de dato.\n",
    "    \n",
    "* Convierte `2 ** 500` a los otros tipos de dato.\n",
    "    \n",
    "* Convierte `0`, `0.0` y la cadena vacía a tipo `bool`.\n",
    "\n",
    "</div>"
   ]
  },
  {
   "cell_type": "code",
   "execution_count": 13,
   "metadata": {},
   "outputs": [
    {
     "data": {
      "text/plain": [
       "3.273390607896142e+150"
      ]
     },
     "execution_count": 13,
     "metadata": {},
     "output_type": "execute_result"
    }
   ],
   "source": [
    "c = 2 ** 500\n",
    "float(c)"
   ]
  },
  {
   "cell_type": "markdown",
   "metadata": {
    "slideshow": {
     "slide_type": "slide"
    }
   },
   "source": [
    "En realidad existen muchos más tipos de datos en Python y los iremos viendo posteriormente. Sin embargo los que conozcan los números complejos deben saber que también se pueden utilizar en Python. La raíz cuadrada de -1 se escribe como `j` en Python. Forman un nuevo tipo de dato denominado **`complex`**."
   ]
  },
  {
   "cell_type": "markdown",
   "metadata": {
    "slideshow": {
     "slide_type": "slide"
    }
   },
   "source": [
    "<div class=\"alert alert-info\">\n",
    "\n",
    "* Escribe un número complejo y comprueba su tipo.\n",
    "    \n",
    "* Utiliza la función `complex()` para convertir los otros tipos de dato en un número complejo.\n",
    "\n",
    "</div>"
   ]
  },
  {
   "cell_type": "code",
   "execution_count": null,
   "metadata": {},
   "outputs": [],
   "source": []
  },
  {
   "cell_type": "markdown",
   "metadata": {
    "slideshow": {
     "slide_type": "slide"
    }
   },
   "source": [
    "<center><h1>Fin</h1></center>\n",
    "<center><small>github.com/jltabara/PythonBasico</small></center>"
   ]
  },
  {
   "cell_type": "markdown",
   "metadata": {
    "colab_type": "text",
    "id": "SX0Eama2JN5q"
   },
   "source": [
    "### Guardar y comprobar el tipo\n",
    "\n",
    "Guarda tu nombre en una variable llamada `nombre`. Pregunta por el tipo de dato de la variable."
   ]
  },
  {
   "cell_type": "markdown",
   "metadata": {
    "colab_type": "text",
    "id": "WGXtoBkeJaMc"
   },
   "source": [
    "### El tipo de una división\n",
    "\n",
    "Guarda en una variable el resultado de la división de 4 entre 2. Comprueba que el de tipo `float`. El resultado de una división es siempre un número de tipo `float`"
   ]
  },
  {
   "cell_type": "markdown",
   "metadata": {
    "colab_type": "text",
    "id": "6k10VV06Jj7k"
   },
   "source": [
    "### El tipo del cociente de enteros\n",
    "\n",
    "Calcula el cociente de la división de 4 entre 2. Comprueba su tipo."
   ]
  },
  {
   "cell_type": "markdown",
   "metadata": {
    "colab_type": "text",
    "id": "E6h30nyAJzk8"
   },
   "source": [
    "### El tipo de `True` y `False`\n",
    "\n",
    "Calcula el tipo de `True`."
   ]
  },
  {
   "cell_type": "markdown",
   "metadata": {
    "colab_type": "text",
    "id": "AcAsZH5yJ4MR"
   },
   "source": [
    "### El tipo de las comparaciones\n",
    "\n",
    "Guarda en una variable el resultado de la comparación `3 < 5`.  Comprueba qué contiene dicha variable (con `print()`)  y mira que tipo de dato contiene."
   ]
  },
  {
   "cell_type": "markdown",
   "metadata": {
    "colab_type": "text",
    "id": "tHToWY7kThGS"
   },
   "source": [
    "### Python es un lenguaje de tipado dinámico\n",
    "\n",
    "Guarda en un variable un tipo entero. Comprueba su tipo. Después guarda en la variable un tipo `float` y comprueba su tipo. Por último guarda una cadena y comprueba su tipo."
   ]
  },
  {
   "cell_type": "markdown",
   "metadata": {
    "colab_type": "text",
    "id": "VipIHgbfKKe_"
   },
   "source": [
    "### El tipo complejo\n",
    "\n",
    " Guarda en una variable llamada `complejo` el valor `1j`. Comprueba cual es su tipo de dato.\n",
    "\n",
    "Calcula el cuadrado de dicha variable."
   ]
  }
 ],
 "metadata": {
  "celltoolbar": "Slideshow",
  "kernelspec": {
   "display_name": "Python 3",
   "language": "python",
   "name": "python3"
  },
  "language_info": {
   "codemirror_mode": {
    "name": "ipython",
    "version": 3
   },
   "file_extension": ".py",
   "mimetype": "text/x-python",
   "name": "python",
   "nbconvert_exporter": "python",
   "pygments_lexer": "ipython3",
   "version": "3.7.3"
  }
 },
 "nbformat": 4,
 "nbformat_minor": 4
}
