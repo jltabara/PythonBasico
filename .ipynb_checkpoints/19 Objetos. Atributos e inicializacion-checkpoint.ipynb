{
 "cells": [
  {
   "cell_type": "markdown",
   "metadata": {
    "slideshow": {
     "slide_type": "slide"
    }
   },
   "source": [
    "<center><h1>Objetos. Atributos e inicialización</h1><br /></center>"
   ]
  },
  {
   "cell_type": "markdown",
   "metadata": {
    "slideshow": {
     "slide_type": "slide"
    }
   },
   "source": [
    "Como primera aproximación podemos considerar una clase como un **nuevo tipo de dato**. Una **instancia** es una variable que almacena dicho tipo de dato. Las instancias también son llamadas **objetos**.\n",
    "\n",
    "Las clases se crean con la palabra reservada **`class`**. Por convenio **se nombran con la primera letra en mayúscula** y utilizando *camel case*. Las clases forman un nuevo tipo de dato llamado **`type`**. \n"
   ]
  },
  {
   "cell_type": "markdown",
   "metadata": {
    "slideshow": {
     "slide_type": "slide"
    }
   },
   "source": [
    "<div class=\"alert alert-info\">\n",
    "\n",
    "* Crea una clase `Punto` con dos atributos llamados `x` e `y`. Dale valores a dichos atributos.\n",
    "    \n",
    "* Comprueba el tipo de dato de la clase y de algún tipo de dato predefinido.\n",
    "\n",
    "* Crea dos instancias u objetos de tipo `Punto`.\n",
    "\n",
    "* Comprueba el tipo del objeto con la función `type()`. También con la función `isinstance()`.\n",
    "\n",
    "</div>"
   ]
  },
  {
   "cell_type": "code",
   "execution_count": 10,
   "metadata": {
    "slideshow": {
     "slide_type": "-"
    }
   },
   "outputs": [
    {
     "data": {
      "text/plain": [
       "True"
      ]
     },
     "execution_count": 10,
     "metadata": {},
     "output_type": "execute_result"
    }
   ],
   "source": [
    "class Punto:\n",
    "    x = 3\n",
    "    y = 14\n",
    "    \n",
    "p = Punto()\n",
    "q = Punto()\n",
    "isinstance(p, Punto)"
   ]
  },
  {
   "cell_type": "markdown",
   "metadata": {
    "slideshow": {
     "slide_type": "slide"
    }
   },
   "source": [
    "Cualquier objeto creado a partir de una clase forma un nuevo tipo de dato y **\"hereda\"** todos los atributos de la clase. Para acceder a cada uno de los atributos del objeto se utiliza la **notación punto**. Los atributos creados **se pueden modificar**. \n",
    "\n",
    "También se pueden **añadir más atributos** durante la ejecución del programa, tanto a la clase como al objeto. Si añadimos un atributo a un objeto, ese nuevo atributo lo tiene **únicamente dicho objeto**. Si añadimos un atributo a la clase entonces **todos los objetos** (los ya creados y los nuevos) tendrán dicho atributo."
   ]
  },
  {
   "cell_type": "markdown",
   "metadata": {
    "slideshow": {
     "slide_type": "slide"
    }
   },
   "source": [
    "<div class=\"alert alert-info\">\n",
    "\n",
    "* Accede a  los atributos del objeto con la notación punto.\n",
    "\n",
    "* Modifica  los atributos del objeto. La clase no cambia.\n",
    "\n",
    "* Añade atributos al objeto. La clase no cambia\n",
    "\n",
    "* Añade atributos a la clase. La clase si cambia y todos los objetos creados \"heredan\" el nuevo atributo.\n",
    "\n",
    "</div>"
   ]
  },
  {
   "cell_type": "code",
   "execution_count": 17,
   "metadata": {},
   "outputs": [],
   "source": [
    "Punto.z = 78\n"
   ]
  },
  {
   "cell_type": "markdown",
   "metadata": {
    "slideshow": {
     "slide_type": "slide"
    }
   },
   "source": [
    "De momento todos los `Puntos` que creamos tienen, por defecto, los mismos valores de los atributos. Lo ideal sería que a la hora de definir el nuevo objeto le pudiesemos decir cuales son los atributos del nuevo objeto. \n",
    "\n",
    "Eso se consigue con el **método especial `.__init__()`** que suele usarse con la **palabra `self`** (no es una palabra reservada, es una convención).\n",
    "\n",
    "**A partir de ahora los atributos llevarán el prefijo `self`**."
   ]
  },
  {
   "cell_type": "markdown",
   "metadata": {
    "slideshow": {
     "slide_type": "slide"
    }
   },
   "source": [
    "<div class=\"alert alert-info\">\n",
    "    \n",
    "* Crea una nueva clase `Punto` con el método `.__init__()` y varios objetos con distintos valores de los atributos.\n",
    "\n",
    "* Comprueba que se sigue accediendo a los atributos con la notación punto.\n",
    "   \n",
    "</div>"
   ]
  },
  {
   "cell_type": "code",
   "execution_count": 21,
   "metadata": {},
   "outputs": [
    {
     "data": {
      "text/plain": [
       "71"
      ]
     },
     "execution_count": 21,
     "metadata": {},
     "output_type": "execute_result"
    }
   ],
   "source": [
    "class Punto:\n",
    "    def __init__(self, x, y):\n",
    "        self.x = x\n",
    "        self.y = y\n",
    "p = Punto(2, 71)\n",
    "q = Punto(3, 14)\n",
    "p.y\n"
   ]
  },
  {
   "cell_type": "markdown",
   "metadata": {
    "slideshow": {
     "slide_type": "slide"
    }
   },
   "source": [
    "El método **`.__init__()`** **se ejecuta nada más crear la instancia**. Lo normal es inicializar los atributos, pero podemos realizar cualquier acción además de inicializar los atributos."
   ]
  },
  {
   "cell_type": "markdown",
   "metadata": {
    "slideshow": {
     "slide_type": "slide"
    }
   },
   "source": [
    "<div class=\"alert alert-info\">\n",
    "    \n",
    "Modifica la clase `Punto` para que al crear un nuevo objeto, además de inicializar los atributos, imprima una frase.\n",
    "\n",
    "</div>\n"
   ]
  },
  {
   "cell_type": "code",
   "execution_count": 22,
   "metadata": {},
   "outputs": [
    {
     "name": "stdout",
     "output_type": "stream",
     "text": [
      "Ahora estoy creando una instancia\n",
      "Ahora estoy creando una instancia\n"
     ]
    }
   ],
   "source": [
    "class Punto:\n",
    "    def __init__(self, x, y):\n",
    "        print(\"Ahora estoy creando una instancia\")\n",
    "        self.x = x\n",
    "        self.y = y\n",
    "\n",
    "p = Punto(3,6)\n",
    "q = Punto(2,6)\n"
   ]
  },
  {
   "cell_type": "markdown",
   "metadata": {
    "slideshow": {
     "slide_type": "slide"
    }
   },
   "source": [
    "Hasta ahora para dar valores a los atributos debemos pasar dichos valores al construir la instancia. También podemos añadir unos **parámetros por defecto al método** **`.__init__()`** y si no se especifican los valores de los atributos se tomarán los valores por defecto."
   ]
  },
  {
   "cell_type": "markdown",
   "metadata": {
    "slideshow": {
     "slide_type": "slide"
    }
   },
   "source": [
    "<div class=\"alert alert-info\">\n",
    "\n",
    "* Modifica la clase punto de tal forma que los parámetros por defecto sean el 3 para la `x ` y el 14 para la `y`.\n",
    "\n",
    "* Crea objetos con distinto número de parámetros.\n",
    "\n",
    "</div>"
   ]
  },
  {
   "cell_type": "code",
   "execution_count": 26,
   "metadata": {},
   "outputs": [
    {
     "name": "stdout",
     "output_type": "stream",
     "text": [
      "100 300\n"
     ]
    }
   ],
   "source": [
    "class Punto:\n",
    "    def __init__(self, x = 3, y = 14):\n",
    "        self.x = x\n",
    "        self.y = y\n",
    "        \n",
    "p = Punto(100, 300) \n",
    "\n",
    "print(p.x, p.y)\n",
    "        "
   ]
  },
  {
   "cell_type": "markdown",
   "metadata": {
    "slideshow": {
     "slide_type": "slide"
    }
   },
   "source": [
    "De momento podemos acceder a todos los atributos de un objeto con la notación punto. A veces necesitamos definir atributos que estén en el objeto pero que sea imposible modificarlos utilizando la notación punto. Son los llamados **atributos privados**. En Python para hacer que un atributo sea privado es suficiente que su **nombre empiece por dos guiones bajos**."
   ]
  },
  {
   "cell_type": "markdown",
   "metadata": {
    "slideshow": {
     "slide_type": "slide"
    }
   },
   "source": [
    "<div class=\"alert alert-info\">\n",
    "\n",
    "Crea una clase y un objeto con un atributo público y otro privado. Confirma que es imposible acceder al atributo privado con la notación punto.\n",
    "\n",
    "</div>"
   ]
  },
  {
   "cell_type": "code",
   "execution_count": 31,
   "metadata": {},
   "outputs": [],
   "source": [
    "class Ejemplo:\n",
    "    def __init__(self):\n",
    "        self.__privado = 100\n",
    "        \n",
    "a = Ejemplo()\n"
   ]
  },
  {
   "cell_type": "markdown",
   "metadata": {
    "slideshow": {
     "slide_type": "slide"
    }
   },
   "source": [
    "Las nuevas clases se pueden **documentar del mismo modo que las funciones**. Dicha documentación aparece al solicitar la ayuda sobre dicha clase."
   ]
  },
  {
   "cell_type": "markdown",
   "metadata": {
    "slideshow": {
     "slide_type": "slide"
    }
   },
   "source": [
    "<div class=\"alert alert-info\">\n",
    "\n",
    "Documenta la clase `Punto` y accede a su documentación con la función `help()`.\n",
    "\n",
    "</div>"
   ]
  },
  {
   "cell_type": "code",
   "execution_count": 38,
   "metadata": {},
   "outputs": [],
   "source": [
    "class Punto:\n",
    "    \"\"\"La clase punto tiene dos atributos:\n",
    "    x indica la coordenada horizontal e\n",
    "    y indica la coordanada vertical\"\"\"\n",
    "    def __init__(self, x = 3, y = 14):\n",
    "        self.x = x\n",
    "        self.y = y\n"
   ]
  },
  {
   "cell_type": "markdown",
   "metadata": {
    "slideshow": {
     "slide_type": "slide"
    }
   },
   "source": [
    "Las nuevas clases que contruyamos son a todos los efectos como los tipos de datos que vienen implementados en Python. Por lo tanto se pueden incluir en nuevas clases.\n",
    "\n",
    "Para acceder a los atributos se utiliza **repetidamente la notación del punto**."
   ]
  },
  {
   "cell_type": "markdown",
   "metadata": {
    "slideshow": {
     "slide_type": "slide"
    }
   },
   "source": [
    "<div class=\"alert alert-info\">\n",
    "\n",
    "* Crea una nueva clase `Segmento`. Los atributos de dichas clase serán dos `Puntos`. \n",
    "\n",
    "* Crea un objeto de clase `Segmento` y accede a sus atributos.\n",
    "\n",
    "</div>"
   ]
  },
  {
   "cell_type": "code",
   "execution_count": 43,
   "metadata": {},
   "outputs": [],
   "source": [
    "class Segmento:\n",
    "    def __init__(self, x1, y1, x2, y2):\n",
    "        self.p1 = Punto(x1, y1)\n",
    "        self.p2 = Punto(x2, y2)\n",
    "      \n",
    "  \n",
    "s = Segmento(2,3, 5,8)"
   ]
  },
  {
   "cell_type": "markdown",
   "metadata": {
    "slideshow": {
     "slide_type": "slide"
    }
   },
   "source": [
    "<center><h1>Fin</h1></center>\n",
    "<center><small>github.com/jltabara/PythonBasico</small></center>"
   ]
  },
  {
   "cell_type": "code",
   "execution_count": null,
   "metadata": {
    "slideshow": {
     "slide_type": "slide"
    }
   },
   "outputs": [],
   "source": []
  }
 ],
 "metadata": {
  "celltoolbar": "Slideshow",
  "kernelspec": {
   "display_name": "Python 3",
   "language": "python",
   "name": "python3"
  },
  "language_info": {
   "codemirror_mode": {
    "name": "ipython",
    "version": 3
   },
   "file_extension": ".py",
   "mimetype": "text/x-python",
   "name": "python",
   "nbconvert_exporter": "python",
   "pygments_lexer": "ipython3",
   "version": "3.7.3"
  }
 },
 "nbformat": 4,
 "nbformat_minor": 4
}
