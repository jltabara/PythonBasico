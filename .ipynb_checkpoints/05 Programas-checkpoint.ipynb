{
 "cells": [
  {
   "cell_type": "markdown",
   "metadata": {
    "slideshow": {
     "slide_type": "slide"
    }
   },
   "source": [
    "<center><h1>Programas</h1><br /></center>"
   ]
  },
  {
   "cell_type": "markdown",
   "metadata": {
    "slideshow": {
     "slide_type": "slide"
    }
   },
   "source": [
    "Con ayuda de las variables, las operaciones aritméticas y la función **`print()`** ya podemos crear nuestros primeros programas.\n",
    "\n",
    "Normalmente, cuando el programa es de cierto tamaño, se acostumbra a incluir comentarios para explicar su funcionamiento. Para crear comentarios se utiliza el signo **`#`**."
   ]
  },
  {
   "cell_type": "markdown",
   "metadata": {
    "slideshow": {
     "slide_type": "slide"
    }
   },
   "source": [
    "<div class=\"alert alert-info\">\n",
    "\n",
    "Crea un programa que calcule el área de un rectángulo. \n",
    "\n",
    "</div>"
   ]
  },
  {
   "cell_type": "code",
   "execution_count": null,
   "metadata": {},
   "outputs": [],
   "source": []
  },
  {
   "cell_type": "markdown",
   "metadata": {
    "slideshow": {
     "slide_type": "slide"
    }
   },
   "source": [
    "\n",
    "<div class=\"alert alert-info\">\n",
    "\n",
    "Crea un programa que calcule el área y el perímetro de un cuadrado.\n",
    "\n",
    "</div>"
   ]
  },
  {
   "cell_type": "code",
   "execution_count": null,
   "metadata": {},
   "outputs": [],
   "source": []
  },
  {
   "cell_type": "markdown",
   "metadata": {
    "slideshow": {
     "slide_type": "slide"
    }
   },
   "source": [
    "<div class=\"alert alert-info\">\n",
    "\n",
    "Crea un programa que calcule el área de un círculo.\n",
    "\n",
    "</div>"
   ]
  },
  {
   "cell_type": "code",
   "execution_count": null,
   "metadata": {},
   "outputs": [],
   "source": []
  },
  {
   "cell_type": "markdown",
   "metadata": {
    "slideshow": {
     "slide_type": "slide"
    }
   },
   "source": [
    "<div class=\"alert alert-info\">\n",
    "\n",
    "Crea un programa que calcule el precio final de un artículo al que se le aplica un 15\\% de descuento.\n",
    "\n",
    "</div>"
   ]
  },
  {
   "cell_type": "code",
   "execution_count": null,
   "metadata": {},
   "outputs": [],
   "source": []
  },
  {
   "cell_type": "markdown",
   "metadata": {
    "slideshow": {
     "slide_type": "subslide"
    }
   },
   "source": [
    "<div class=\"alert alert-info\">\n",
    "\n",
    "Crea un programa que pase kilogramos a gramos.\n",
    "\n",
    "</div>"
   ]
  },
  {
   "cell_type": "code",
   "execution_count": null,
   "metadata": {},
   "outputs": [],
   "source": []
  },
  {
   "cell_type": "markdown",
   "metadata": {
    "slideshow": {
     "slide_type": "slide"
    }
   },
   "source": [
    "<div class=\"alert alert-info\">\n",
    "\n",
    "Crea un programa que calcule la nota media de tres notas.\n",
    "\n",
    "</div>"
   ]
  },
  {
   "cell_type": "code",
   "execution_count": null,
   "metadata": {},
   "outputs": [],
   "source": []
  },
  {
   "cell_type": "markdown",
   "metadata": {},
   "source": [
    "<center><h1>Fin</h1></center>\n",
    "<center><small>github.com/jltabara/PythonBasico</small></center>"
   ]
  },
  {
   "cell_type": "markdown",
   "metadata": {
    "colab_type": "text",
    "id": "Vb3PIBU6tb5G"
   },
   "source": [
    "<center><h1>Ejercicios</h1><br /></center>"
   ]
  },
  {
   "cell_type": "markdown",
   "metadata": {
    "colab_type": "text",
    "id": "qtoQdeu0uH-k"
   },
   "source": [
    "### La suma de dos variables\n",
    "\n",
    "El programa guarda dos números en variables y calcula su suma. \n"
   ]
  },
  {
   "cell_type": "markdown",
   "metadata": {
    "colab_type": "text",
    "id": "XFHmoa60uV2H"
   },
   "source": [
    "## El doble y el triple\n",
    "\n",
    "Se introduce un número en una variable  y el programa calcula el doble y el triple del número.\n"
   ]
  },
  {
   "cell_type": "markdown",
   "metadata": {
    "colab_type": "text",
    "id": "k8S6Tf6huZ9n"
   },
   "source": [
    "### El área de un rectángulo\n",
    "\n",
    "Un programa que calcule el área de un rectángulo."
   ]
  },
  {
   "cell_type": "markdown",
   "metadata": {
    "colab_type": "text",
    "id": "9nWwPsoLqCEe"
   },
   "source": [
    "### De kilómetros a metros\n",
    "\n",
    "Un programa que pase de kilómetros a metros."
   ]
  },
  {
   "cell_type": "markdown",
   "metadata": {
    "colab_type": "text",
    "id": "Jhb3dycbqKEN"
   },
   "source": [
    "### De pulgadas a centímetros\n",
    "\n",
    "Un programa que pida una distancia en pulgadas y devuelva el resultado en centímetros. Debemos recordar que una pulgada son 2.54 cm."
   ]
  },
  {
   "cell_type": "markdown",
   "metadata": {
    "colab_type": "text",
    "id": "ZqnCIP9AqOSL"
   },
   "source": [
    "### Cociente y resto\n",
    "\n",
    "Un programa donde se introduce el dividendo y el divisor y devuelva el cociente y el resto."
   ]
  },
  {
   "cell_type": "markdown",
   "metadata": {
    "colab_type": "text",
    "id": "RElw1gl1qRi3"
   },
   "source": [
    "### De grados centígrados a Farenheit\n",
    "\n",
    "Un programa que pida la temperatura en grados centigrados y los transforme en grados Farenheit. Para convertir  grados centigrados en Farenheit debemos multiplicar por 9 y dividir en 5. A este resultado se le debe sumar 32.\n"
   ]
  },
  {
   "cell_type": "markdown",
   "metadata": {
    "colab_type": "text",
    "id": "AjhbzaeVuilj"
   },
   "source": [
    "### Área y perímetro de un círculo\n",
    "\n",
    "Calcula el área y el perímetro de un círculo. La fórmula del área es $\\pi r^2$ y la del perímetro es  $ 2\\pi r$."
   ]
  },
  {
   "cell_type": "code",
   "execution_count": null,
   "metadata": {
    "slideshow": {
     "slide_type": "slide"
    }
   },
   "outputs": [],
   "source": []
  }
 ],
 "metadata": {
  "celltoolbar": "Slideshow",
  "kernelspec": {
   "display_name": "Python 3",
   "language": "python",
   "name": "python3"
  },
  "language_info": {
   "codemirror_mode": {
    "name": "ipython",
    "version": 3
   },
   "file_extension": ".py",
   "mimetype": "text/x-python",
   "name": "python",
   "nbconvert_exporter": "python",
   "pygments_lexer": "ipython3",
   "version": "3.7.3"
  }
 },
 "nbformat": 4,
 "nbformat_minor": 4
}
