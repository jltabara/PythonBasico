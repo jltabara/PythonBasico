{
 "cells": [
  {
   "cell_type": "markdown",
   "metadata": {
    "slideshow": {
     "slide_type": "slide"
    }
   },
   "source": [
    "<center><h1>Variables</h1><br /></center>"
   ]
  },
  {
   "cell_type": "markdown",
   "metadata": {
    "slideshow": {
     "slide_type": "slide"
    }
   },
   "source": [
    "Para crear una variable tenemos que escribir el **nombre de la variable, después un signo igual (operador de asignación) y a la derecha el valor** que queremos guardar en dicha variable.\n",
    "\n",
    "Para imprimir el contenido de una variable escribimos el **nombre de la variable, sin comillas**, dentro de la función **`print()`**."
   ]
  },
  {
   "cell_type": "markdown",
   "metadata": {
    "slideshow": {
     "slide_type": "slide"
    }
   },
   "source": [
    "<div class=\"alert alert-info\">\n",
    "\n",
    "Guarda el número 56 en una variable de nombre `numero` e imprímela por pantalla.\n",
    "\n",
    "</div>"
   ]
  },
  {
   "cell_type": "code",
   "execution_count": null,
   "metadata": {},
   "outputs": [],
   "source": []
  },
  {
   "cell_type": "markdown",
   "metadata": {
    "slideshow": {
     "slide_type": "slide"
    }
   },
   "source": [
    "Con los **nombres de variables** podemos realizar los mismos tipos de operaciones que hacíamos con números.\n",
    "\n",
    "Los resultados de una operación se pueden guardar en una variable. **Siempre se realiza antes la operación de la parte derecha del `=`** y el resultado se almacena en la variable."
   ]
  },
  {
   "cell_type": "markdown",
   "metadata": {
    "slideshow": {
     "slide_type": "slide"
    }
   },
   "source": [
    "<div class=\"alert alert-info\">\n",
    "\n",
    "* Guarda los valores 56 y 45 en dos variables y realiza operaciones con dichas variables. \n",
    "\n",
    "* Guarda los resultados en nuevas variables e imprime los resultados.\n",
    "\n",
    "</div>"
   ]
  },
  {
   "cell_type": "code",
   "execution_count": null,
   "metadata": {},
   "outputs": [],
   "source": []
  },
  {
   "cell_type": "markdown",
   "metadata": {
    "slideshow": {
     "slide_type": "slide"
    }
   },
   "source": [
    "Las variables (como su nombre indica) **pueden cambiar su contenido a lo largo del programa**."
   ]
  },
  {
   "cell_type": "markdown",
   "metadata": {
    "slideshow": {
     "slide_type": "slide"
    }
   },
   "source": [
    "<div class=\"alert alert-info\">\n",
    "    \n",
    "Guarda distintos números en una misma variable e imprímelos por pantalla.\n",
    "\n",
    "</div>"
   ]
  },
  {
   "cell_type": "code",
   "execution_count": null,
   "metadata": {},
   "outputs": [],
   "source": []
  },
  {
   "cell_type": "markdown",
   "metadata": {
    "slideshow": {
     "slide_type": "slide"
    }
   },
   "source": [
    "<div class=\"alert alert-info\">\n",
    "\n",
    "Analiza el siguiente código e intenta predecir el resultado:\n",
    "\n",
    "```python\n",
    "a = 20\n",
    "a = a * 2 + 5\n",
    "print(a)\n",
    "```\n",
    "\n",
    "</div>"
   ]
  },
  {
   "cell_type": "code",
   "execution_count": null,
   "metadata": {},
   "outputs": [],
   "source": []
  },
  {
   "cell_type": "markdown",
   "metadata": {
    "slideshow": {
     "slide_type": "slide"
    }
   },
   "source": [
    "En una misma línea de código se pueden inicializar varias variables. Para ello escribimos las **variables separadas por comas**, después el operador de asignación (**`=`**) y a la derecha los valores que queremos almacenar, separados también por comas.\n",
    "\n",
    "Utilizando el mismo concepto podemos intercambiar de valores dos o más variables."
   ]
  },
  {
   "cell_type": "markdown",
   "metadata": {
    "slideshow": {
     "slide_type": "slide"
    }
   },
   "source": [
    "<div class=\"alert alert-info\">\n",
    "    \n",
    "* Almacena distintos números en varias variables utilizando una única línea de código.\n",
    "    \n",
    "* Intercambia el valor de dos variables.\n",
    "\n",
    "</div>\n",
    "    "
   ]
  },
  {
   "cell_type": "code",
   "execution_count": null,
   "metadata": {},
   "outputs": [],
   "source": []
  },
  {
   "cell_type": "markdown",
   "metadata": {
    "slideshow": {
     "slide_type": "slide"
    }
   },
   "source": [
    "Si queremos borrar una variable usamos la instrucción **`del`**. Al intentar acceder a una variable que no existe tenemos un error."
   ]
  },
  {
   "cell_type": "markdown",
   "metadata": {
    "slideshow": {
     "slide_type": "slide"
    }
   },
   "source": [
    "<div class=\"alert alert-info\">\n",
    "    \n",
    "Intenta acceder a una variable inexistente. Crea una variable y después bórrala con `del`. Comprueba que ya no es accesible.\n",
    "\n",
    "</div>"
   ]
  },
  {
   "cell_type": "code",
   "execution_count": null,
   "metadata": {},
   "outputs": [],
   "source": []
  },
  {
   "cell_type": "markdown",
   "metadata": {
    "slideshow": {
     "slide_type": "slide"
    }
   },
   "source": [
    "En una misma sentencia **`print()`** podemos imprimir **a la vez texto y variables**. Para ello debemos escribir el nombre de la variable **entre llaves**. Tenemos que comenzar el texto con la letra **`f`** (se conocen en inglés como *f-strings*).\n",
    "\n",
    "También se pueden imprimir separando las diversas partes de la frase con comas, sin utilizar la letra **`f`**."
   ]
  },
  {
   "cell_type": "markdown",
   "metadata": {
    "slideshow": {
     "slide_type": "slide"
    }
   },
   "source": [
    "<div class=\"alert alert-info\">\n",
    "\n",
    "Crea variables e imprímelas  con algo de texto. Utiliza *f-strings*. Después imprímelas sin usar *f-strings*.\n",
    "\n",
    "</div>"
   ]
  },
  {
   "cell_type": "code",
   "execution_count": null,
   "metadata": {},
   "outputs": [],
   "source": []
  },
  {
   "cell_type": "markdown",
   "metadata": {
    "slideshow": {
     "slide_type": "slide"
    }
   },
   "source": [
    "Las cadenas de texto (*string* en inglés) se escriben siempre entre comillas y también se pueden almacenar en variables.\n",
    "\n",
    "Una variable puede contener en un determinado momento un número y en el mismo programa también una cadena. Esta característica se conoce como **tipado dinámico** y no existe en todos los lenguajes."
   ]
  },
  {
   "cell_type": "markdown",
   "metadata": {
    "slideshow": {
     "slide_type": "slide"
    }
   },
   "source": [
    "<div class=\"alert alert-info\">\n",
    "    \n",
    "\n",
    "Almacena una cadena de texto en una variable e imprímela por pantalla. Almacena después números de distintos tipos.\n",
    "\n",
    "</div>"
   ]
  },
  {
   "cell_type": "code",
   "execution_count": null,
   "metadata": {},
   "outputs": [],
   "source": []
  },
  {
   "cell_type": "markdown",
   "metadata": {
    "slideshow": {
     "slide_type": "slide"
    }
   },
   "source": [
    "Los nombres de las variables pueden ser muy variados, pero están sujetos a una serie de restricciones:\n",
    "\n",
    "* Los nombres no pueden **comenzar** por números\n",
    "\n",
    "* Los nombres no pueden **contener espacios en blanco**.\n",
    "\n",
    "* Recordar que Python diferencia mayúsculas y  minúsculas.\n",
    "\n",
    "* No se pueden usar palabras reservadas."
   ]
  },
  {
   "cell_type": "markdown",
   "metadata": {
    "slideshow": {
     "slide_type": "slide"
    }
   },
   "source": [
    "<div class=\"alert alert-info\">\n",
    "\n",
    "Introduce nombres de variables incorrectos y analiza los errores.\n",
    "\n",
    "</div>"
   ]
  },
  {
   "cell_type": "code",
   "execution_count": null,
   "metadata": {},
   "outputs": [],
   "source": []
  },
  {
   "cell_type": "markdown",
   "metadata": {
    "slideshow": {
     "slide_type": "slide"
    }
   },
   "source": [
    "Recomendaciones para el nombre de variables:\n",
    "    \n",
    "* Siempre se escriben en minúsculas.\n",
    "\n",
    "* Si el nombre está formado por varias palabras se utiliza el guión bajo para simular los espacios en blanco.\n",
    "\n",
    "* El nombre de la variable debe de estar relacionado con su contenido.\n",
    "\n",
    "* No es conveniente usar caracteres acentuados, ni eñes, ni caracteres \"extraños\"."
   ]
  },
  {
   "cell_type": "markdown",
   "metadata": {
    "slideshow": {
     "slide_type": "slide"
    }
   },
   "source": [
    "<div class=\"alert alert-info\">\n",
    "\n",
    "Crea nombres de variables no recomendados y comprueba que no existen errores.\n",
    "\n",
    "</div>"
   ]
  },
  {
   "cell_type": "code",
   "execution_count": null,
   "metadata": {},
   "outputs": [],
   "source": []
  },
  {
   "cell_type": "markdown",
   "metadata": {
    "slideshow": {
     "slide_type": "slide"
    }
   },
   "source": [
    "Todas las variables se **guardan en la memoria (RAM) del ordenador**. La memoria está compuesta por un determinado número de celdas. **Cada celda tiene asociado un número**. Para conocer el lugar de la memoria donde se guarda  el dato almacenado en una variable utilizamos la función `id()`."
   ]
  },
  {
   "cell_type": "markdown",
   "metadata": {
    "slideshow": {
     "slide_type": "slide"
    }
   },
   "source": [
    "<div class=\"alert alert-info\">\n",
    "    \n",
    "Crea una variable y encuentra la posición en memoria del dato que almacena. Guarda otro dato y comprueba que se guarda en otro lugar de la memoria.\n",
    "\n",
    "</div>\n",
    "   "
   ]
  },
  {
   "cell_type": "code",
   "execution_count": null,
   "metadata": {},
   "outputs": [],
   "source": []
  },
  {
   "cell_type": "markdown",
   "metadata": {
    "slideshow": {
     "slide_type": "slide"
    }
   },
   "source": [
    "Toda variable en memoria ocupa un cierto número de bytes. Para saber cuanto bytes ocupa una variable en Python utilizamos el método **`.__sizeof__()`**.\n",
    "\n",
    "Las cadenas y los enteros ocupan distinto número de bytes dependiendo de su contenido.\n",
    "\n",
    "Sin embargo los números reales siempre tienen el mismo tamaño en memoria. Es por esto que se pueden producir pequeños errores al operar con números decimales."
   ]
  },
  {
   "cell_type": "markdown",
   "metadata": {
    "slideshow": {
     "slide_type": "slide"
    }
   },
   "source": [
    "<div class=\"alert alert-info\">\n",
    "    \n",
    "Encuentra el tamaño en memoria de los siguientes datos:\n",
    "\n",
    "* 1, 1000, 2 ** 2000\n",
    "\n",
    "* `Hola`, `Esta frase es mucho más larga`\n",
    "\n",
    "* 1.0, 7.34, 234234.73444\n",
    "\n",
    "</div>"
   ]
  },
  {
   "cell_type": "code",
   "execution_count": 8,
   "metadata": {},
   "outputs": [
    {
     "data": {
      "text/plain": [
       "24"
      ]
     },
     "execution_count": 8,
     "metadata": {},
     "output_type": "execute_result"
    }
   ],
   "source": [
    "a = 234234.73444\n",
    "a.__sizeof__()"
   ]
  },
  {
   "cell_type": "markdown",
   "metadata": {
    "slideshow": {
     "slide_type": "slide"
    }
   },
   "source": [
    "<center><h1>Fin</h1></center>\n",
    "<center><small>github.com/jltabara/PythonBasico</small></center>"
   ]
  },
  {
   "cell_type": "markdown",
   "metadata": {
    "colab_type": "text",
    "id": "Ov9e_5F8rZ04"
   },
   "source": [
    "<center><h1>Ejercicios</h1><br /></center>"
   ]
  },
  {
   "cell_type": "markdown",
   "metadata": {
    "colab_type": "text",
    "id": "wBOd5eB3rfiq"
   },
   "source": [
    "### Guardar valores en variables\n",
    "\n",
    "Guarda en una variable llamada `pi` el valor 3.1415."
   ]
  },
  {
   "cell_type": "markdown",
   "metadata": {
    "colab_type": "text",
    "id": "Ayzi1Esarnwy"
   },
   "source": [
    "### Imprimir variables\n",
    "\n",
    "Imprime la variable `pi`."
   ]
  },
  {
   "cell_type": "markdown",
   "metadata": {
    "colab_type": "text",
    "id": "lsQ60VT-rrxz"
   },
   "source": [
    "### Perímetro de una circunferencia\n",
    "\n",
    "La fórmula para calcular el perímetro de una circunferencia es \n",
    "\n",
    "$$\n",
    "2\\pi r\n",
    "$$\n",
    "\n",
    "Utiliza la variable anterior para calcular el perímetro de una circunferencia de radio 6 m."
   ]
  },
  {
   "cell_type": "markdown",
   "metadata": {
    "colab_type": "text",
    "id": "vFboGgRyr9pm"
   },
   "source": [
    "### Palabras reservadas\n",
    "\n",
    "Busca en Internet más palabras reservadas de Python y comprueba que no se pueden usar como nombres del variables."
   ]
  },
  {
   "cell_type": "markdown",
   "metadata": {
    "colab_type": "text",
    "id": "U6KyGcWTsHSd"
   },
   "source": [
    "### Reasignación de valores a variables\n",
    "\n",
    "Averigua que resultado imprime el siguiente código, explicando la razón.\n",
    "\n",
    "```python\n",
    "hola = 90\n",
    "Hola = 89\n",
    "print(Hola)\n",
    "Hola = 120\n",
    "print(f\"La variable contiene el valor {hola}\")\n",
    "```\n"
   ]
  },
  {
   "cell_type": "markdown",
   "metadata": {
    "colab_type": "text",
    "id": "KHEeAdxTVUnu"
   },
   "source": [
    "### Nombres permitidos para variables\n",
    "\n",
    "Algunos de los siguientes nombres de variables están permitidos y otros no son válidos. Explica las razones y comprueba los resultados.\n",
    "\n",
    "```python\n",
    "a1\n",
    "velocidad\n",
    "velocidad99\n",
    "salario_medio\n",
    "salario medio\n",
    "_b\n",
    "1a\n",
    "```"
   ]
  },
  {
   "cell_type": "markdown",
   "metadata": {
    "colab_type": "text",
    "id": "5aVdkxNhWECW"
   },
   "source": [
    "### Reasignación de valores a variables\n",
    "\n",
    "Haz un esquema donde se vean los valores que van tomando las variables y adivina el resultado del siguiente código:\n",
    "\n",
    "```python\n",
    "deuda = 0\n",
    "compra = 100\n",
    "deuda = deuda + compra\n",
    "compra = 200\n",
    "deuda = deuda + compra\n",
    "print(deuda)\n",
    "```"
   ]
  },
  {
   "cell_type": "markdown",
   "metadata": {
    "colab_type": "text",
    "id": "rxaRTFi16Xb3"
   },
   "source": [
    " ### &#9650; Las letras acentuadas en las variables\n",
    " \n",
    " ¿Se pueden escribir nombres de variables con letras acentuadas? ¿Son distintas las variables acentuadas de otras que se escriben igual pero sin acentuar?"
   ]
  },
  {
   "cell_type": "markdown",
   "metadata": {
    "colab_type": "text",
    "id": "p1bB2Rw5NLqj"
   },
   "source": [
    "###  &#9650; Operaciones en la parte derecha de una asignación\n",
    "\n",
    "Si queremos asignar a una variable el valor de una cierta operación debemos tener en cuenta que primero se realizan todas las operaciones a la derecha del operador `=` y después se asigna a la variable. Que valor tendrá `x` al final del programa en el siguiente código:\n",
    "\n",
    "```python\n",
    "x = 4 + 8 * 2\n",
    "x = x + 20\n",
    "x = 3 * x +10\n",
    "```"
   ]
  },
  {
   "cell_type": "markdown",
   "metadata": {
    "colab_type": "text",
    "id": "mf1aw0_UV9Jj"
   },
   "source": [
    "### &#9650; Operadores en asignación\n",
    "\n",
    "Una operación muy común en Python es sumar a una variable un cierto valor y volver a guardar el nuevo valor en la misma variable. Por ejemplo\n",
    "\n",
    "```python\n",
    "x = 6\n",
    "x = x + 3\n",
    "```\n",
    "guarda el valor 9 en la variable `x`. Como esta operación es tan común, Python ha creado un atajo. Las líneas anteriores de código se podrían haber escrito:\n",
    "\n",
    "```python\n",
    "x = 6\n",
    "x += 3\n",
    "```\n",
    "\n",
    "El operador `+=` se llama **suma en asignación**. Del mismo modo existe la resta en asignación:\n",
    "\n",
    "```python\n",
    "x = 45\n",
    "x -= 4\n",
    "```\n",
    "Ahora hemos guardado un 41 en la variable `x`.\n",
    "\n",
    "En la siguiente tabla se presentan todos los operadores en asignación y se escribe su equivalencia utilizando el operador `=`.\n",
    "\n",
    "| Operador | Ejemplo | Equivale a: |\n",
    "|----------|---------|-------------|\n",
    "| +=       | x += a  | x = x + a   |\n",
    "| -=       | x -= a  | x = x - a   |\n",
    "| *=       | x *= a  | x = x * a   |\n",
    "| /=       | x /= a  | x = x / a   |\n",
    "| //=      | x //= a | x = x // a  |\n",
    "| %=       | x %= a  | x = x % a   |\n",
    "| **=      | x **= a | x = x ** a  |\n",
    "\n",
    "Calcula el valor final de `x` en el siguiente código:\n",
    "\n",
    "```python\n",
    "x = 6\n",
    "x += 5\n",
    "x -= 7\n",
    "x *= 4\n",
    "```\n",
    "\n"
   ]
  },
  {
   "cell_type": "markdown",
   "metadata": {
    "colab_type": "text",
    "id": "Etcr7UM5PDbE"
   },
   "source": [
    "### &#9650; Controlar los decimales\n",
    "\n",
    "Cuando Python trabaja con decimales y los tiene que mostrar por pantalla con la orden `print()` siempre muestra todos los decimales. Además de esto, como Python a veces se equivoca al hacer cuentas, esto provoca un exceso de decimales, como en el código:\n",
    "\n",
    "```python\n",
    "x = 0.1\n",
    "y = 0.2\n",
    "print(f\"La suma es {x + y}\")\n",
    "```\n",
    "\n",
    "Si queremos controlar el número de decimales que presentamos por pantalla, debemos emplear un pequeño 'truco'. Prueba los siguientes códigos e intenta averiguar el 'truco':\n",
    "\n",
    "```python\n",
    "x = 4.34514513451\n",
    "print(f\"El número es {x :.2f}\")\n",
    "print(f\"El número es {x :.4f}\")\n",
    "print(f\"El número es {x :.0f}\")\n",
    "print(f\"El número es {x :.5f}\")\n",
    "```\n",
    "\n",
    "El número $\\pi$ comienza como 3.141592. Escribe el número $\\pi$ con varios decimales. Comprueba si al hacer esto Python redondea los números o simplemente escribe menos decimales."
   ]
  },
  {
   "cell_type": "code",
   "execution_count": null,
   "metadata": {
    "colab": {
     "base_uri": "https://localhost:8080/",
     "height": 35
    },
    "colab_type": "code",
    "executionInfo": {
     "elapsed": 577,
     "status": "ok",
     "timestamp": 1564311683467,
     "user": {
      "displayName": "Jose Luis Tabara Carbajo",
      "photoUrl": "https://lh3.googleusercontent.com/-C_ZMVpiKR_c/AAAAAAAAAAI/AAAAAAAAICI/he5fzFV_8iI/s64/photo.jpg",
      "userId": "04839663227084200405"
     },
     "user_tz": -120
    },
    "id": "wqX8mzgTR5ci",
    "outputId": "57303b45-7682-46d2-d7b0-9a58248fc81a"
   },
   "outputs": [
    {
     "name": "stdout",
     "output_type": "stream",
     "text": [
      "La suma es 0.30000000000000004\n"
     ]
    }
   ],
   "source": [
    "x = 0.1\n",
    "y = 0.2\n",
    "print(f\"La suma es {x + y}\")"
   ]
  },
  {
   "cell_type": "code",
   "execution_count": null,
   "metadata": {
    "colab": {},
    "colab_type": "code",
    "id": "oqlN29yyPfDZ"
   },
   "outputs": [],
   "source": []
  },
  {
   "cell_type": "code",
   "execution_count": null,
   "metadata": {
    "slideshow": {
     "slide_type": "slide"
    }
   },
   "outputs": [],
   "source": []
  }
 ],
 "metadata": {
  "celltoolbar": "Slideshow",
  "kernelspec": {
   "display_name": "Python 3",
   "language": "python",
   "name": "python3"
  },
  "language_info": {
   "codemirror_mode": {
    "name": "ipython",
    "version": 3
   },
   "file_extension": ".py",
   "mimetype": "text/x-python",
   "name": "python",
   "nbconvert_exporter": "python",
   "pygments_lexer": "ipython3",
   "version": "3.7.3"
  }
 },
 "nbformat": 4,
 "nbformat_minor": 4
}
