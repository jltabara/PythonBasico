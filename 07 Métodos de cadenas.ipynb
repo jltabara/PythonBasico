{
 "cells": [
  {
   "cell_type": "markdown",
   "metadata": {
    "slideshow": {
     "slide_type": "slide"
    }
   },
   "source": [
    "<center><h1>Métodos de cadena</h1><br /></center>"
   ]
  },
  {
   "cell_type": "markdown",
   "metadata": {
    "slideshow": {
     "slide_type": "slide"
    }
   },
   "source": [
    "Podemos conocer el **número de caracteres de una cadena** con la función **`len()`**.\n",
    "\n",
    "También podemos conocer si **una subcadena forma parte de otra**. Para ello empleamos la palabra clave **`in`**. También podemos utilizar la negación **`not in`**."
   ]
  },
  {
   "cell_type": "markdown",
   "metadata": {
    "slideshow": {
     "slide_type": "slide"
    }
   },
   "source": [
    "<div class=\"alert alert-info\">\n",
    "    \n",
    "Calcula la longitud de la cadena:\n",
    "\n",
    "```python\n",
    "En un lugar de la Mancha ...\n",
    "```\n",
    "\n",
    "Realiza también algunos test de pertenencia a dicha cadena.\n",
    "\n",
    "</div>"
   ]
  },
  {
   "cell_type": "code",
   "execution_count": null,
   "metadata": {},
   "outputs": [],
   "source": []
  },
  {
   "cell_type": "markdown",
   "metadata": {
    "slideshow": {
     "slide_type": "slide"
    }
   },
   "source": [
    "Los métodos aplicados a cadenas devuelven una nueva cadena:\n",
    "\n",
    "* **`.upper()`**. Transforma la cadena a mayúsculas.\n",
    "\n",
    "* **`.lower()`**. Convierte la cadena a minúsculas.\n",
    "\n",
    "* **`.capitalize()`**.  Pone la primera letra de la cadena en mayúsculas.\n",
    "\n",
    "* **`.title()`**. Pone en mayúsculas la primera letra de cada palabra."
   ]
  },
  {
   "cell_type": "markdown",
   "metadata": {
    "slideshow": {
     "slide_type": "slide"
    }
   },
   "source": [
    "<div class=\"alert alert-info\">\n",
    "    \n",
    "Aplica a la frase:\n",
    "\n",
    "<center>\n",
    "\n",
    "`En Un lUGAr de la ManCHA ...`\n",
    "\n",
    "</center>\n",
    "\n",
    "los métodos `.upper()`, `.lower()`, `.capitalize()` y `.title()`. \n",
    "\n",
    "</div>"
   ]
  },
  {
   "cell_type": "code",
   "execution_count": null,
   "metadata": {},
   "outputs": [],
   "source": []
  },
  {
   "cell_type": "markdown",
   "metadata": {
    "slideshow": {
     "slide_type": "slide"
    }
   },
   "source": [
    "Los siguientes métodos nos informan sobre el contenido:\n",
    "\n",
    "* **`.isalpha()`**. Comprueba si todos los caracteres son letras.\n",
    "\n",
    "* **`.isdigit()`**. Comprueba si todos los caracteres son cifras.\n",
    "\n",
    "* **`.isalnum()`**. Comprueba si todos los caracteres son cifras o letras.\n",
    "\n",
    "* **`.isupper()`**. Comprueba si todos los caracteres están en mayúscula.\n",
    "\n",
    "* **`.islower()`**. Comprueba si todos los caracteres están en minúscula."
   ]
  },
  {
   "cell_type": "markdown",
   "metadata": {
    "slideshow": {
     "slide_type": "slide"
    }
   },
   "source": [
    "<div class=\"alert alert-info\">\n",
    "    \n",
    "Para cada uno de los métodos:\n",
    "\n",
    "<center>\n",
    "    \n",
    "`.isalpha()`,  `.isdigit()`, `.isalnum()`, `.isupper()`  y `.islower()`\n",
    "\n",
    "</center>\n",
    "\n",
    "crea una cadena que devuelva `True` y otra que devuelva `False`.\n",
    "\n",
    "</div>"
   ]
  },
  {
   "cell_type": "code",
   "execution_count": null,
   "metadata": {},
   "outputs": [],
   "source": []
  },
  {
   "cell_type": "markdown",
   "metadata": {
    "slideshow": {
     "slide_type": "slide"
    }
   },
   "source": [
    "\n",
    "Los siguientes métodos nos permiten localizar subcadenas:\n",
    "\n",
    "* **`.index()`** o **`find()`**. Devuelve el índice de la primera aparición de una subcadena.\n",
    "\n",
    "* **`.rindex()`** o **`rfind()`**. Devuelve el índice de la última aparición de la subcadena.\n",
    "\n",
    "* **`.count()`**. Devuelve el número de veces que aparece una subcadena.\n",
    "\n",
    "* **`.replace()`**. Sustituye una cadena de texto por otra."
   ]
  },
  {
   "cell_type": "markdown",
   "metadata": {
    "slideshow": {
     "slide_type": "slide"
    }
   },
   "source": [
    "<div class=\"alert alert-info\">\n",
    "\n",
    "En la cadena:\n",
    "\n",
    "<center>\n",
    "    \n",
    "`En un lugar de la Mancha ...`\n",
    "\n",
    "</center>\n",
    "\n",
    "aplica los métodos `.index()`, `.count()` y `.replace()`.\n",
    "\n",
    "</div>"
   ]
  },
  {
   "cell_type": "code",
   "execution_count": null,
   "metadata": {},
   "outputs": [],
   "source": []
  },
  {
   "cell_type": "markdown",
   "metadata": {
    "slideshow": {
     "slide_type": "slide"
    }
   },
   "source": [
    "Para conocer **todos los métodos de las cadenas** podemos aplicar la función **`dir()`** directamente a una cadena o  escribiendo **`dir(str)`**."
   ]
  },
  {
   "cell_type": "markdown",
   "metadata": {
    "slideshow": {
     "slide_type": "slide"
    }
   },
   "source": [
    "<div class=\"alert alert-info\">\n",
    "\n",
    "Visualiza todos los métodos aplicables a una cadena y aplica la ayuda a alguno de ellos.\n",
    "\n",
    "</div>"
   ]
  },
  {
   "cell_type": "code",
   "execution_count": null,
   "metadata": {},
   "outputs": [],
   "source": []
  },
  {
   "cell_type": "markdown",
   "metadata": {
    "slideshow": {
     "slide_type": "slide"
    }
   },
   "source": [
    "En general siempre que aplicamos métodos a una cadena utilizamos la notación punto. Esto es típico de los programas orientados a objetos. Sin embargo se puede hacer lo mismo anteponiendo la cadena **str** al nombre de la función, pasando como parámetro la cadena."
   ]
  },
  {
   "cell_type": "markdown",
   "metadata": {
    "slideshow": {
     "slide_type": "slide"
    }
   },
   "source": [
    "<div class=\"alert alert-info\">\n",
    "\n",
    "Crea una cadena y aplica algún método, pasando como parámetro la cadena.\n",
    "\n",
    "</div>"
   ]
  },
  {
   "cell_type": "code",
   "execution_count": null,
   "metadata": {},
   "outputs": [],
   "source": []
  },
  {
   "cell_type": "markdown",
   "metadata": {
    "slideshow": {
     "slide_type": "slide"
    }
   },
   "source": [
    "<center><h1>Fin</h1></center>\n",
    "<center><small>github.com/jltabara/PythonBasico</small></center>"
   ]
  },
  {
   "cell_type": "markdown",
   "metadata": {
    "colab_type": "text",
    "id": "gU2RXPrrT3kV"
   },
   "source": [
    "### Longitud de una cadena\n",
    "\n",
    "Convierte el número $2^{200}$ a cadena con la función `str()`\n",
    " y con la función `len()` calcula el número de dígitos que tiene."
   ]
  },
  {
   "cell_type": "markdown",
   "metadata": {
    "slideshow": {
     "slide_type": "slide"
    }
   },
   "source": [
    "### &#9650; Algunos métodos sencillos.\n",
    "\n",
    "Muchos de los métodos de las cadenas que no hemos visto son muy sencillos de comprender consultado la ayuda. Estudia y pon ejemplos de los siguientes métodos: \n",
    "\n",
    "* `.swapcase()`. Transforma las mayúsculas en minúsculas y a la inversa.\n",
    "\n",
    "```python\n",
    ">>> 'hOlA'.swapcase()\n",
    "'HoLa'\n",
    "```\n",
    "\n",
    "\n",
    "* `.center()`. Le pasamos un número de espacios y centra la cadena en dicho número de caracteres. En principio tanto a derecha como a izquierda aparecen espacios en blanco, pero puede aparecer cualquier otro tipo de carácter.\n",
    "\n",
    "```python\n",
    ">>> 'hola'.center(30, '*')\n",
    "'*************hola*************'\n",
    "```\n"
   ]
  },
  {
   "cell_type": "markdown",
   "metadata": {},
   "source": [
    "### &#9650; Parámetros opcionales de algunos métodos\n",
    "\n",
    "Algunos métodos tienen parámetros opcionales que indican el lugar de las cadena donde comienzan y terminan (se debe consultar la ayuda para comprobarlo). El siguiente código cuenta el número de \"a\" que aparecen en el texto, pero únicamente entre el carácter 5 y el 20.\n",
    "\n",
    "```python\n",
    "cadena = \"Esta es una cadena muy larga y tiene muchos carácteres\"\n",
    "cadena.count('a', 5, 20)\n",
    "```\n"
   ]
  },
  {
   "cell_type": "markdown",
   "metadata": {},
   "source": [
    "### &#9650; El método `.split()`.\n",
    "\n",
    "Aunque no hemos estudiado todavia las listas, el método `.split()` construye una lista formada por las palabras de la cadena:\n",
    "\n",
    "```python\n",
    ">>> 'Esta frase tiene varias palabras'.split()\n",
    "['Esta', 'frase', 'tiene', 'varias', 'palabras']\n",
    "```\n"
   ]
  },
  {
   "cell_type": "code",
   "execution_count": null,
   "metadata": {},
   "outputs": [],
   "source": []
  }
 ],
 "metadata": {
  "celltoolbar": "Slideshow",
  "kernelspec": {
   "display_name": "Python 3",
   "language": "python",
   "name": "python3"
  },
  "language_info": {
   "codemirror_mode": {
    "name": "ipython",
    "version": 3
   },
   "file_extension": ".py",
   "mimetype": "text/x-python",
   "name": "python",
   "nbconvert_exporter": "python",
   "pygments_lexer": "ipython3",
   "version": "3.7.3"
  }
 },
 "nbformat": 4,
 "nbformat_minor": 4
}
