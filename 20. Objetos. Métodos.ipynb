{
 "cells": [
  {
   "cell_type": "markdown",
   "metadata": {},
   "source": [
    "<center><h1>Objetos. Métodos</h1><br /></center>"
   ]
  },
  {
   "cell_type": "markdown",
   "metadata": {
    "slideshow": {
     "slide_type": "slide"
    }
   },
   "source": [
    "Las acciones que puede realizar un objeto se denominan **métodos**. En realidad un método no es más que **una función definida dentro de la clase**. **El primer parámetro debe ser siempre la palabra `self`** (de nuevo es convención). Si queremos ejecutar un método necesitamos crear por lo menos un objeto. Para actuar sobre el objeto se utiliza, **habitualmente**, la **notación punto**.\n",
    "\n",
    "Para crear una clase, una función o un método que **no haga nada** utilizamos la palabra reservada **`pass`**."
   ]
  },
  {
   "cell_type": "markdown",
   "metadata": {
    "slideshow": {
     "slide_type": "slide"
    }
   },
   "source": [
    "<div class=\"alert alert-info\">\n",
    "\n",
    "* Crea una clase que no haga nada.\n",
    "\n",
    "* Toma una función que  imprima  `Python` y conviertela en un método. Invoca dicho método con la notación punto y como una función de la clase.\n",
    "\n",
    "* Haz lo mismo con una cadena y uno de sus métodos.\n",
    "\n",
    "</div>"
   ]
  },
  {
   "cell_type": "code",
   "execution_count": 8,
   "metadata": {},
   "outputs": [
    {
     "name": "stdout",
     "output_type": "stream",
     "text": [
      "Python\n"
     ]
    }
   ],
   "source": [
    "class Ejemplo:\n",
    "    pass\n",
    "\n",
    "    def imprimir(self):\n",
    "        print(\"Python\")\n",
    "        \n",
    "a = Ejemplo()\n",
    "Ejemplo.imprimir(a)"
   ]
  },
  {
   "cell_type": "markdown",
   "metadata": {
    "slideshow": {
     "slide_type": "slide"
    }
   },
   "source": [
    "<div class=\"alert alert-info\">\n",
    "\n",
    "Toma una función que calcule el área de un rectángulo y transfórmala en un método. Realiza cálculos con ella.\n",
    "\n",
    "</div>"
   ]
  },
  {
   "cell_type": "code",
   "execution_count": 10,
   "metadata": {},
   "outputs": [
    {
     "data": {
      "text/plain": [
       "32"
      ]
     },
     "execution_count": 10,
     "metadata": {},
     "output_type": "execute_result"
    }
   ],
   "source": [
    "class Ejemplo:\n",
    "    pass\n",
    "\n",
    "    def area(self, base, altura):\n",
    "        return base * altura\n",
    "    \n",
    "a = Ejemplo()\n",
    "\n",
    "a.area(4, 8)\n"
   ]
  },
  {
   "cell_type": "markdown",
   "metadata": {
    "slideshow": {
     "slide_type": "slide"
    }
   },
   "source": [
    "En general los métodos que definamos tendrán algo que ver con el contenido de la clase, pero no es necesario.\n",
    "\n",
    "**Los atributos contienen datos y los métodos actuan sobre dichos datos**.\n",
    "\n",
    "**Cualquier método puede acceder a cualquier atributo definido dentro de otro método** (no existe el concepto de variable local y global). Pero para ello debemos anteponer el prefijo **´self.´**.\n"
   ]
  },
  {
   "cell_type": "markdown",
   "metadata": {
    "slideshow": {
     "slide_type": "slide"
    }
   },
   "source": [
    "<div class=\"alert alert-info\">\n",
    "\n",
    "Crea un método que devuelva el contenido de los atributos de la clase `Punto`. Se puede acceder a las \"variables\" del método `.__init__()` desde el nuevo método.\n",
    "\n",
    "</div>"
   ]
  },
  {
   "cell_type": "code",
   "execution_count": 14,
   "metadata": {},
   "outputs": [
    {
     "name": "stdout",
     "output_type": "stream",
     "text": [
      "Python\n"
     ]
    }
   ],
   "source": [
    "class Punto:\n",
    "    def __init__(self, x,y):\n",
    "        self.x = x\n",
    "        self.y = y\n",
    "    def imprimir(self):\n",
    "        return f\"({self.x}, {self.y})\"\n",
    "        \n",
    "p = Punto(3, 14)\n",
    "imprimir()"
   ]
  },
  {
   "cell_type": "markdown",
   "metadata": {
    "slideshow": {
     "slide_type": "slide"
    }
   },
   "source": [
    "<div class=\"alert alert-info\">\n",
    "\n",
    "Crea un método que calcule la distancia del origen hasta el punto (el módulo del vector).\n",
    "\n",
    "</div>"
   ]
  },
  {
   "cell_type": "code",
   "execution_count": 15,
   "metadata": {},
   "outputs": [
    {
     "data": {
      "text/plain": [
       "5.0"
      ]
     },
     "execution_count": 15,
     "metadata": {},
     "output_type": "execute_result"
    }
   ],
   "source": [
    "class Punto:\n",
    "    def __init__(self, x,y):\n",
    "        self.x = x\n",
    "        self.y = y\n",
    "    def imprimir(self):\n",
    "        return f\"({self.x}, {self.y})\"\n",
    "    def modulo(self):\n",
    "        return (self.x ** 2 + self.y ** 2)**0.5\n",
    "p = Punto(3, 4)\n",
    "p.modulo()"
   ]
  },
  {
   "cell_type": "markdown",
   "metadata": {
    "slideshow": {
     "slide_type": "slide"
    }
   },
   "source": [
    "**Dentro de una clase**, podemos utilizar cualquier método dentro de otro, pero de nuevo debemos anteponer el prefijo **`self`**."
   ]
  },
  {
   "cell_type": "markdown",
   "metadata": {},
   "source": [
    "<div class=\"alert alert-info\">\n",
    "\n",
    "Crea un método que devueva el módulo junto con algo de texto. Utiliza los métodos ya creados. Comprueba que es necesario el prefijo `self.`.\n",
    "\n",
    "</div>"
   ]
  },
  {
   "cell_type": "code",
   "execution_count": 16,
   "metadata": {},
   "outputs": [
    {
     "data": {
      "text/plain": [
       "'El módulo es 71.02816342831905'"
      ]
     },
     "execution_count": 16,
     "metadata": {},
     "output_type": "execute_result"
    }
   ],
   "source": [
    "class Punto:\n",
    "    def __init__(self, x,y):\n",
    "        self.x = x\n",
    "        self.y = y\n",
    "    def imprimir(self):\n",
    "        print(f\"({self.x}, {self.y})\")\n",
    "    def modulo(self):\n",
    "        return (self.x ** 2 + self.y ** 2)**0.5\n",
    "    def modulo_texto(self):\n",
    "        a = self.modulo()\n",
    "        return f\"El módulo es {a}\"\n",
    "        \n",
    "    \n",
    "p=Punto(2,71)\n",
    "p.modulo_texto()\n"
   ]
  },
  {
   "cell_type": "markdown",
   "metadata": {
    "slideshow": {
     "slide_type": "slide"
    }
   },
   "source": [
    "Para ver **todos los métodos y atributos de un objeto o una clase** utilizamos la función **`dir()`**.\n",
    "\n",
    "Además de los métodos que hemos creado nosotros aparecen otros métodos que tienen todos los objetos que se construyen en Python. De momento podemos obviar dichos métodos pero debemos saber que son los métodos y atributos de una clase predefinida en  Python llamada **`object`**."
   ]
  },
  {
   "cell_type": "markdown",
   "metadata": {
    "slideshow": {
     "slide_type": "slide"
    }
   },
   "source": [
    "<div class=\"alert alert-info\">\n",
    "\n",
    "* Imprime todos los atributos y métodos de la clase `Punto`.\n",
    "    \n",
    "* Imprime los atributos y métodos de la clase `object`.\n",
    "    \n",
    "* Imprime los atributos y métodos de un objeto de la clase `Punto`.\n",
    "\n",
    "</div>"
   ]
  },
  {
   "cell_type": "code",
   "execution_count": 29,
   "metadata": {},
   "outputs": [
    {
     "name": "stdout",
     "output_type": "stream",
     "text": [
      "['__class__', '__delattr__', '__dict__', '__dir__', '__doc__', '__eq__', '__format__', '__ge__', '__getattribute__', '__gt__', '__hash__', '__init__', '__init_subclass__', '__le__', '__lt__', '__module__', '__ne__', '__new__', '__reduce__', '__reduce_ex__', '__repr__', '__setattr__', '__sizeof__', '__str__', '__subclasshook__', '__weakref__', 'imprimir', 'modulo', 'modulo_texto', 'x', 'y']\n"
     ]
    }
   ],
   "source": [
    "print(dir(p))"
   ]
  },
  {
   "cell_type": "markdown",
   "metadata": {
    "slideshow": {
     "slide_type": "slide"
    }
   },
   "source": [
    "De momento ya podemos crear clases con las siguientes características:\n",
    "    \n",
    "* Pueden contener atributos.\n",
    "\n",
    "* Estos atributos se pueden inicializar.\n",
    "\n",
    "* Podemos añadir métodos  a nuestra clase."
   ]
  },
  {
   "cell_type": "markdown",
   "metadata": {
    "slideshow": {
     "slide_type": "slide"
    }
   },
   "source": [
    "<div class=\"alert alert-info\">\n",
    "    \n",
    "Construye una clase `Cuadrado` con las siguientes características:\n",
    "\n",
    "* Sus atributos serán `lado` y `color` y los podremos inicializar.\n",
    "\n",
    "* Por defecto sus atributos serán de lado unidad y de color negro.\n",
    "\n",
    "* Crea dos métodos `area()` y `perimetro()`.\n",
    "\n",
    "\n",
    "</div>"
   ]
  },
  {
   "cell_type": "code",
   "execution_count": 30,
   "metadata": {
    "slideshow": {
     "slide_type": "slide"
    }
   },
   "outputs": [
    {
     "data": {
      "text/plain": [
       "20"
      ]
     },
     "execution_count": 30,
     "metadata": {},
     "output_type": "execute_result"
    }
   ],
   "source": [
    "class Cuadrado:\n",
    "    def __init__(self, lado = 1, color = \"Negro\"):\n",
    "        self.lado = lado\n",
    "        self.color = color\n",
    "    def area(self):\n",
    "        return self.lado ** 2\n",
    "    def perimetro(self):\n",
    "        return 4 * self.lado\n",
    "c = Cuadrado(5, \"Verde\")\n",
    "c.perimetro()\n"
   ]
  },
  {
   "cell_type": "markdown",
   "metadata": {},
   "source": [
    "Si tenemos un atributo privado no podemos ni visualizarlo ni modificarlo desde fuera de la clase. Por ello se suelen construir dos métodos asociados a dicho atributo: uno nos permite visualizarlo y otro modificarlo.\n",
    "\n",
    "También podemos crear métodos privados, anteponiendo dos guiones bajos."
   ]
  },
  {
   "cell_type": "markdown",
   "metadata": {},
   "source": [
    "<div class=\"alert alert-info\">\n",
    "    \n",
    "* Crea una clase con un atributo privado y un método `get` y otro método `set`.\n",
    "    \n",
    "* Crea un método privado.\n",
    "\n",
    "\n",
    "</div>"
   ]
  },
  {
   "cell_type": "code",
   "execution_count": 42,
   "metadata": {},
   "outputs": [
    {
     "data": {
      "text/plain": [
       "'He cambiado'"
      ]
     },
     "execution_count": 42,
     "metadata": {},
     "output_type": "execute_result"
    }
   ],
   "source": [
    "class Ejemplo:\n",
    "    def __init__(self):\n",
    "        self.__privado = \"Soy privado\"\n",
    "    def get_privado(self):\n",
    "        return self.__privado\n",
    "    def set_privado(self, valor):\n",
    "        self.__privado = valor\n",
    "        \n",
    "a = Ejemplo()\n",
    "a.get_privado()\n",
    "a.set_privado(\"He cambiado\")\n",
    "a.get_privado()"
   ]
  },
  {
   "cell_type": "code",
   "execution_count": null,
   "metadata": {},
   "outputs": [],
   "source": []
  }
 ],
 "metadata": {
  "kernelspec": {
   "display_name": "Python 3",
   "language": "python",
   "name": "python3"
  },
  "language_info": {
   "codemirror_mode": {
    "name": "ipython",
    "version": 3
   },
   "file_extension": ".py",
   "mimetype": "text/x-python",
   "name": "python",
   "nbconvert_exporter": "python",
   "pygments_lexer": "ipython3",
   "version": "3.7.3"
  }
 },
 "nbformat": 4,
 "nbformat_minor": 4
}
