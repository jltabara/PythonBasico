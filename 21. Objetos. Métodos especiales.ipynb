{
 "cells": [
  {
   "cell_type": "markdown",
   "metadata": {},
   "source": [
    "<center><h1>Objetos. Métodos especiales</h1><br /></center>"
   ]
  },
  {
   "cell_type": "markdown",
   "metadata": {},
   "source": [
    "También sería interesante que al hacer actuar la función `print()` sobre una instancia nos la imprimiese de manera adecuada. Si ejecutamos la función `print()` sobre una instancia nos dará un resultado inesperado.\n",
    "\n",
    "Para imprimir por pantalla de la manera adecuada utilizamos el **método especial `str()`**. Como primer argumento debemos escribir `self`."
   ]
  },
  {
   "cell_type": "markdown",
   "metadata": {},
   "source": [
    "<div class=\"alert alert-info\">\n",
    "\n",
    "Añade un método `str()` para imprimir los puntos a nuestro gusto.\n",
    "\n",
    "</div>"
   ]
  },
  {
   "cell_type": "markdown",
   "metadata": {},
   "source": [
    "También nos gustaría utilizar el operador `+` para poder sumar dos puntos y obtener como resultado otro punto. Para poder hacer esto necesitamos el método especial `add()`."
   ]
  },
  {
   "cell_type": "markdown",
   "metadata": {},
   "source": [
    "<div class=\"alert alert-info\">\n",
    "\n",
    "Crea un método especial `add()` para poder sumar dos puntos.\n",
    "\n",
    "</div>"
   ]
  },
  {
   "cell_type": "markdown",
   "metadata": {},
   "source": [
    "Los métodos especiales empiezan y terminan con doble guión bajo. Algunos, como `add()` los podemos crear nosotros. Otros ya vienen por defecto al construir la instancia. Para ver todos los métodos y atributos que tiene definida una instancia utilizamos la función `dir()`.  Dichos métodos se pueden sobreescribir."
   ]
  },
  {
   "cell_type": "markdown",
   "metadata": {},
   "source": [
    "<div class=\"alert alert-info\">\n",
    "\n",
    "* Visualiza todos los métodos y atributos de la clase `Punto`.\n",
    "\n",
    "* Obtén ayuda sobre el método `sizeof()`.\n",
    "\n",
    "</div>"
   ]
  }
 ],
 "metadata": {
  "kernelspec": {
   "display_name": "Python 3",
   "language": "python",
   "name": "python3"
  },
  "language_info": {
   "codemirror_mode": {
    "name": "ipython",
    "version": 3
   },
   "file_extension": ".py",
   "mimetype": "text/x-python",
   "name": "python",
   "nbconvert_exporter": "python",
   "pygments_lexer": "ipython3",
   "version": "3.7.3"
  }
 },
 "nbformat": 4,
 "nbformat_minor": 4
}
