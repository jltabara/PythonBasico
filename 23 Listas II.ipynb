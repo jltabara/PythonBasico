{
 "cells": [
  {
   "cell_type": "markdown",
   "metadata": {
    "slideshow": {
     "slide_type": "slide"
    }
   },
   "source": [
    "<center><h1>Listas II</h1><br /></center>"
   ]
  },
  {
   "cell_type": "markdown",
   "metadata": {
    "slideshow": {
     "slide_type": "slide"
    }
   },
   "source": [
    "A veces necesitamos añadir más elementos a una lista ya creada. Con el método **append()** podemos añadir elementos al final de la lista y con **insert()** podemos añadir elementos en cualquier lugar. **No se crea una nueva lista**."
   ]
  },
  {
   "cell_type": "markdown",
   "metadata": {
    "slideshow": {
     "slide_type": "slide"
    }
   },
   "source": [
    "<div class=\"alert alert-info\">\n",
    "\n",
    "Dada la lista: `[1, 2, 3, 4, 5, 6]` añade una cadena de texto al final. Añade otra cadena de texto entre el 3 y el 4.\n",
    "\n",
    "</div>"
   ]
  },
  {
   "cell_type": "code",
   "execution_count": null,
   "metadata": {},
   "outputs": [],
   "source": []
  },
  {
   "cell_type": "markdown",
   "metadata": {
    "slideshow": {
     "slide_type": "slide"
    }
   },
   "source": [
    "También se pueden **eliminar elementos** de una lista de varias formas. Con el método `pop()` podemos eliminar cualquier elemento de la lista, indicando su índice. Lo mismo podemos hacer con `remove()`, pero indicando su contenido."
   ]
  },
  {
   "cell_type": "markdown",
   "metadata": {
    "slideshow": {
     "slide_type": "slide"
    }
   },
   "source": [
    "<div class=\"alert alert-info\">\n",
    "\n",
    "Dada la lista: `[1, 2, 3, 4, 5, 6]` elimina el último elemento con el método `pop()`.\n",
    "\n",
    "</div>"
   ]
  },
  {
   "cell_type": "code",
   "execution_count": null,
   "metadata": {},
   "outputs": [],
   "source": []
  },
  {
   "cell_type": "markdown",
   "metadata": {
    "slideshow": {
     "slide_type": "slide"
    }
   },
   "source": [
    "<div class=\"alert alert-info\">\n",
    "\n",
    "Dada la lista: `[1, 2, 3, 4, 5, 6]` elimina el último elemento con el método `remove()`. Elimina también el `3` de la lista con el método `pop()`.\n",
    "\n",
    "</div>"
   ]
  },
  {
   "cell_type": "markdown",
   "metadata": {
    "slideshow": {
     "slide_type": "slide"
    }
   },
   "source": [
    "Para **encontrar la posición** de un elemento dentro de una lista utilizamos `index()`. En caso de que elemento aparezca varias veces, el método nos devuelve la posición de la primera aparición.\n",
    "\n",
    "Si el elemento no está en la lista produce un error."
   ]
  },
  {
   "cell_type": "markdown",
   "metadata": {
    "slideshow": {
     "slide_type": "slide"
    }
   },
   "source": [
    "<div class=\"alert alert-info\">\n",
    "\n",
    "Dada la lista: `[1, 21, 32, 43, 54, 65]` encuentrar la posición del elemento `21`. Intenta encontrar la posición de elementos que no estén en la lista.\n",
    "\n",
    "</div>"
   ]
  },
  {
   "cell_type": "code",
   "execution_count": null,
   "metadata": {},
   "outputs": [],
   "source": []
  },
  {
   "cell_type": "markdown",
   "metadata": {
    "slideshow": {
     "slide_type": "slide"
    }
   },
   "source": [
    "Si queremos añadir una lista a otra ya creada, empleamos el método **extend()**. Esto es equivalente a concatenar las dos listas, pero la diferencia es que no se crea una lista nueva."
   ]
  },
  {
   "cell_type": "markdown",
   "metadata": {
    "slideshow": {
     "slide_type": "slide"
    }
   },
   "source": [
    "<div class=\"alert alert-info\">\n",
    "\n",
    "Añade la lista `[\"hola\",  4,  5]` a la lista `[1, 2, 3]`.\n",
    "\n",
    "</div>"
   ]
  },
  {
   "cell_type": "code",
   "execution_count": null,
   "metadata": {},
   "outputs": [],
   "source": []
  },
  {
   "cell_type": "markdown",
   "metadata": {
    "slideshow": {
     "slide_type": "slide"
    }
   },
   "source": [
    "**Si asociamos una lista a una variable no creamos nada nuevo**. Únicamente hemos creado un alias para dicha cadena. Al modificar una de las variables, modificamos la otra. **No es aconsejable utilizar alias con listas**."
   ]
  },
  {
   "cell_type": "markdown",
   "metadata": {
    "slideshow": {
     "slide_type": "slide"
    }
   },
   "source": [
    "<div class=\"alert alert-info\">\n",
    "\n",
    "Crea un nombre y un alias para una cadena. Comprueba que al modificar una se modifica también la otra.\n",
    "\n",
    "</div>"
   ]
  },
  {
   "cell_type": "code",
   "execution_count": null,
   "metadata": {},
   "outputs": [],
   "source": []
  },
  {
   "cell_type": "markdown",
   "metadata": {
    "slideshow": {
     "slide_type": "slide"
    }
   },
   "source": [
    "Para crear una lista nueva, con el mismo contenido que otra, podemos utilizar el método `.copy()` o también el *slicing*."
   ]
  },
  {
   "cell_type": "markdown",
   "metadata": {
    "slideshow": {
     "slide_type": "slide"
    }
   },
   "source": [
    "<div class=\"alert alert-info\">\n",
    "\n",
    "Crea una cadena y copia su contenido en otra variable. Comprueba que al modificar una de ellas no se modifica la otra. Hacer el problema con el método `.copy()` y también con *slicing*.\n",
    "\n",
    "</div>"
   ]
  },
  {
   "cell_type": "code",
   "execution_count": null,
   "metadata": {},
   "outputs": [],
   "source": []
  },
  {
   "cell_type": "markdown",
   "metadata": {
    "slideshow": {
     "slide_type": "slide"
    }
   },
   "source": [
    "Hemos visto varios métodos para modificar lista. Para ver **todos los métodos** utilizamos la función `dir()`. Para obtener ayuda de dichos métodos utilizamos la función `help()`. También puede ser útil el uso del tabulador."
   ]
  },
  {
   "cell_type": "markdown",
   "metadata": {
    "slideshow": {
     "slide_type": "slide"
    }
   },
   "source": [
    "<div class=\"alert alert-info\">\n",
    "\n",
    "Visualiza todos los métodos de las listas. Obtén información de alguno.\n",
    "\n",
    "</div>"
   ]
  },
  {
   "cell_type": "code",
   "execution_count": null,
   "metadata": {},
   "outputs": [],
   "source": []
  },
  {
   "cell_type": "markdown",
   "metadata": {
    "slideshow": {
     "slide_type": "slide"
    }
   },
   "source": [
    "La función `range` crea un nuevo tipo de dato, pero puede ser usado en muchos casos como si se tratase de una lista. La función tiene tres parámetros y crea sucesiones aritméticas."
   ]
  },
  {
   "cell_type": "markdown",
   "metadata": {
    "slideshow": {
     "slide_type": "slide"
    }
   },
   "source": [
    "<div class=\"alert alert-info\">\n",
    "\n",
    "Comprueba que `range` crea un nuevo tipo de dato. Crea listas a partir la función `range`.\n",
    "\n",
    "</div>"
   ]
  },
  {
   "cell_type": "code",
   "execution_count": null,
   "metadata": {},
   "outputs": [],
   "source": []
  },
  {
   "cell_type": "markdown",
   "metadata": {
    "slideshow": {
     "slide_type": "slide"
    }
   },
   "source": [
    "<center><h1>Fin</h1></center>\n",
    "<center><small>github.com/jltabara/PythonBasico</small></center>"
   ]
  },
  {
   "cell_type": "code",
   "execution_count": null,
   "metadata": {
    "slideshow": {
     "slide_type": "slide"
    }
   },
   "outputs": [],
   "source": []
  }
 ],
 "metadata": {
  "celltoolbar": "Slideshow",
  "kernelspec": {
   "display_name": "Python 3",
   "language": "python",
   "name": "python3"
  },
  "language_info": {
   "codemirror_mode": {
    "name": "ipython",
    "version": 3
   },
   "file_extension": ".py",
   "mimetype": "text/x-python",
   "name": "python",
   "nbconvert_exporter": "python",
   "pygments_lexer": "ipython3",
   "version": "3.7.3"
  }
 },
 "nbformat": 4,
 "nbformat_minor": 2
}
