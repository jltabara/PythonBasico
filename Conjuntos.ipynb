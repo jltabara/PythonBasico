{
 "cells": [
  {
   "cell_type": "markdown",
   "metadata": {
    "slideshow": {
     "slide_type": "slide"
    }
   },
   "source": [
    "<center><h1>Conjuntos</h1><br /></center>"
   ]
  },
  {
   "cell_type": "markdown",
   "metadata": {
    "slideshow": {
     "slide_type": "slide"
    }
   },
   "source": [
    "Los conjuntos son estructuras de datos con las siguientes características:\n",
    "    \n",
    "* Todos los elementos del conjunto deben ser de tipo inmutable.\n",
    "\n",
    "* No existen elementos repetidos.\n",
    "\n",
    "* El orden de los elementos no es importante.\n",
    "\n",
    "Los conjuntos se crean entre llaves o con la función `set()`."
   ]
  },
  {
   "cell_type": "markdown",
   "metadata": {
    "slideshow": {
     "slide_type": "slide"
    }
   },
   "source": [
    "<div class=\"alert alert-info\">\n",
    "\n",
    "* Crea un conjunto con elementos heterogéneos y comprueba su tipo.\n",
    "\n",
    "* Intenta crear un conjunto con elementos repetidos.\n",
    "\n",
    "* Intenta crear un conjunto con elementos mutables.\n",
    "\n",
    "* Crea el conjunto vacío.\n",
    "\n",
    "</div>"
   ]
  },
  {
   "cell_type": "code",
   "execution_count": null,
   "metadata": {},
   "outputs": [],
   "source": []
  },
  {
   "cell_type": "markdown",
   "metadata": {
    "slideshow": {
     "slide_type": "slide"
    }
   },
   "source": [
    "Podemos crear conjuntos a partir de listas, tuplas, ... utilizando la función `set()`. **Los elementos repetidos se eliminan**."
   ]
  },
  {
   "cell_type": "markdown",
   "metadata": {
    "slideshow": {
     "slide_type": "slide"
    }
   },
   "source": [
    "<div class=\"alert alert-info\">\n",
    "\n",
    "Crea conjuntos a partir de listas, tuplas y rangos. Comprueba que los elementos repetidos se eliminan.\n",
    "\n",
    "</div>"
   ]
  },
  {
   "cell_type": "code",
   "execution_count": 43,
   "metadata": {},
   "outputs": [
    {
     "data": {
      "text/plain": [
       "{1, 2, 3, 4}"
      ]
     },
     "execution_count": 43,
     "metadata": {},
     "output_type": "execute_result"
    }
   ],
   "source": [
    "set(range(1,5))"
   ]
  },
  {
   "cell_type": "markdown",
   "metadata": {
    "slideshow": {
     "slide_type": "slide"
    }
   },
   "source": [
    "Para añadir elementos a un conjunto utilizamos el método `.add()`. Podemos añadir varios elementos a la vez con el método `.update()`. Para eliminar elementos utilizamos los métodos `.discard()` o  `.remove()`."
   ]
  },
  {
   "cell_type": "markdown",
   "metadata": {
    "slideshow": {
     "slide_type": "slide"
    }
   },
   "source": [
    "<div class=\"alert alert-info\">\n",
    "\n",
    "Crea un conjunto y añade elementos tanto de uno en uno como varios a la vez. Después elimina elementos del conjunto.\n",
    "\n",
    "</div>"
   ]
  },
  {
   "cell_type": "code",
   "execution_count": null,
   "metadata": {},
   "outputs": [],
   "source": []
  },
  {
   "cell_type": "markdown",
   "metadata": {
    "slideshow": {
     "slide_type": "slide"
    }
   },
   "source": [
    "<div class=\"alert alert-info\">\n",
    "    \n",
    "Introduce elementos por teclado en un conjunto hasta que introduzcamos la palabra `fin`.\n",
    "\n",
    "</div>"
   ]
  },
  {
   "cell_type": "code",
   "execution_count": null,
   "metadata": {
    "slideshow": {
     "slide_type": "slide"
    }
   },
   "outputs": [],
   "source": []
  },
  {
   "cell_type": "markdown",
   "metadata": {
    "slideshow": {
     "slide_type": "slide"
    }
   },
   "source": [
    "Podemos comprobar la pertenencia de un elemento a un conjunto con `in` o bien con `not in`."
   ]
  },
  {
   "cell_type": "markdown",
   "metadata": {
    "slideshow": {
     "slide_type": "slide"
    }
   },
   "source": [
    "<div class=\"alert alert-info\">\n",
    "\n",
    "Comprueba la pertenencia de ciertos elementos en un conjunto.\n",
    "\n",
    "</div>"
   ]
  },
  {
   "cell_type": "code",
   "execution_count": 44,
   "metadata": {},
   "outputs": [],
   "source": [
    "a=set()"
   ]
  },
  {
   "cell_type": "markdown",
   "metadata": {
    "slideshow": {
     "slide_type": "slide"
    }
   },
   "source": [
    "Podemos realizar las operaciones habituales con conjuntos. La dos más famosas son la **union** y la **intersección** que se realizan con los operadores `|` y `&` o utilizando los métodos `.union()` e `.intersection()`.\n",
    "\n",
    "\n",
    "<table>\n",
    "  <tr>\n",
    "    <th><img src = \"union.png\" width = \"500\"></th>\n",
    "    <th><img src = \"interseccion.png\" width = \"500\"></th>\n",
    "  </tr>\n",
    "</table>"
   ]
  },
  {
   "cell_type": "markdown",
   "metadata": {
    "slideshow": {
     "slide_type": "slide"
    }
   },
   "source": [
    "<div class=\"alert alert-info\">\n",
    "\n",
    "<center>\n",
    "<img src = \"diagramadevenn.png\" width = \"400\">\n",
    "</center>\n",
    "\n",
    "</div>"
   ]
  },
  {
   "cell_type": "code",
   "execution_count": null,
   "metadata": {},
   "outputs": [],
   "source": []
  },
  {
   "cell_type": "markdown",
   "metadata": {
    "slideshow": {
     "slide_type": "slide"
    }
   },
   "source": [
    "También podemos calcular la **diferencia de conjuntos y la diferencia simétrica**. Los operadores son `-` y `^`. Los métodos son `difference()` y `.symmetric_difference()`.\n",
    "\n",
    "\n",
    "<table>\n",
    "  <tr>\n",
    "    <th><img src = \"diferencia.png\" width = \"500\"></th>\n",
    "    <th><img src = \"diferenciasimetrica.png\" width = \"500\"></th>\n",
    "  </tr>\n",
    "</table>"
   ]
  },
  {
   "cell_type": "markdown",
   "metadata": {
    "slideshow": {
     "slide_type": "slide"
    }
   },
   "source": [
    "<div class=\"alert alert-info\">\n",
    "\n",
    "Crea los conjuntos:\n",
    "   \n",
    "$$\n",
    "a = \\{1, 2, 3\\} \\quad b = \\{3, 4, 5\\}\n",
    "$$\n",
    "\n",
    "y realiza operaciones de diferencia y diferencia simétrica.\n",
    "\n",
    "</div>"
   ]
  },
  {
   "cell_type": "code",
   "execution_count": 45,
   "metadata": {},
   "outputs": [
    {
     "data": {
      "text/plain": [
       "{5, 6, 7, 9}"
      ]
     },
     "execution_count": 45,
     "metadata": {},
     "output_type": "execute_result"
    }
   ],
   "source": [
    "a.update({5,6,7,9})\n",
    "a"
   ]
  },
  {
   "cell_type": "markdown",
   "metadata": {
    "slideshow": {
     "slide_type": "slide"
    }
   },
   "source": [
    "Para trabajar con la inclusión de conjuntos tenemos también dos formas. Una de ellas es utilizar los operadores relacionales y otra es utilizar los métodos `.issubset()` e `.issuperset()`. La igualdad se comprueba con `==`."
   ]
  },
  {
   "cell_type": "markdown",
   "metadata": {
    "slideshow": {
     "slide_type": "slide"
    }
   },
   "source": [
    "<div class=\"alert alert-info\">\n",
    "\n",
    "Crea los conjuntos:\n",
    "   \n",
    "$$\n",
    "a = \\{1, 2, 3\\} \\quad b = \\{3, 4, 5\\}\n",
    "$$\n",
    "\n",
    "y realiza comprobaciones de inclusión entre ellos.\n",
    "\n",
    "</div>"
   ]
  },
  {
   "cell_type": "markdown",
   "metadata": {},
   "source": [
    "Los conjuntos son objetos iterables y pueden formar parte de un bucle `for`.  Eso si, no podemos controlar el orden de aparición."
   ]
  },
  {
   "cell_type": "markdown",
   "metadata": {
    "slideshow": {
     "slide_type": "slide"
    }
   },
   "source": [
    "<div class=\"alert alert-info\">\n",
    "\n",
    "Crea un conjunto e itera sobre el con un bucle `for`.\n",
    "\n",
    "</div>"
   ]
  },
  {
   "cell_type": "code",
   "execution_count": 47,
   "metadata": {},
   "outputs": [
    {
     "name": "stdout",
     "output_type": "stream",
     "text": [
      "2\n",
      "3\n",
      "4\n",
      "6\n",
      "8\n"
     ]
    }
   ],
   "source": [
    "a = {4, 6, 8, 3, 2}\n",
    "\n",
    "for i in a:\n",
    "    print(i)"
   ]
  },
  {
   "cell_type": "markdown",
   "metadata": {
    "slideshow": {
     "slide_type": "slide"
    }
   },
   "source": [
    "A asignar un conjunto a varias variable lo único que hacemos es crea varios alias para el mismo objeto. La modificación en uno de ellos implica la modificación de todos. Si queremos duplicar un conjunto debemos emplear el método `.copy()`."
   ]
  },
  {
   "cell_type": "markdown",
   "metadata": {},
   "source": [
    "<div class=\"alert alert-info\">\n",
    "\n",
    "Crea un conjunto con varios alias y comprueba que la modificación de uno implica la modificación de todos. Crea después una copia y comprueba que eso no sucede.\n",
    "\n",
    "</div>"
   ]
  },
  {
   "cell_type": "code",
   "execution_count": null,
   "metadata": {},
   "outputs": [],
   "source": []
  },
  {
   "cell_type": "markdown",
   "metadata": {
    "slideshow": {
     "slide_type": "slide"
    }
   },
   "source": [
    "Los conjuntos también se pueden definir por comprensión. Utilizan una sintáxis similar a la empleada en las listas."
   ]
  },
  {
   "cell_type": "code",
   "execution_count": null,
   "metadata": {
    "slideshow": {
     "slide_type": "slide"
    }
   },
   "outputs": [],
   "source": []
  },
  {
   "cell_type": "code",
   "execution_count": null,
   "metadata": {},
   "outputs": [],
   "source": []
  },
  {
   "cell_type": "markdown",
   "metadata": {
    "slideshow": {
     "slide_type": "slide"
    }
   },
   "source": [
    "<center><h1>Fin</h1></center>\n",
    "<center><small>github.com/jltabara/PythonBasico</small></center>"
   ]
  },
  {
   "cell_type": "code",
   "execution_count": null,
   "metadata": {
    "slideshow": {
     "slide_type": "slide"
    }
   },
   "outputs": [],
   "source": []
  }
 ],
 "metadata": {
  "celltoolbar": "Slideshow",
  "kernelspec": {
   "display_name": "Python 3",
   "language": "python",
   "name": "python3"
  },
  "language_info": {
   "codemirror_mode": {
    "name": "ipython",
    "version": 3
   },
   "file_extension": ".py",
   "mimetype": "text/x-python",
   "name": "python",
   "nbconvert_exporter": "python",
   "pygments_lexer": "ipython3",
   "version": "3.7.3"
  }
 },
 "nbformat": 4,
 "nbformat_minor": 2
}
