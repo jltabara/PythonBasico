{
 "cells": [
  {
   "cell_type": "markdown",
   "metadata": {},
   "source": [
    "<div class=\"alert alert-info\"><h1>Julia como calculadora I</h1></div>"
   ]
  },
  {
   "cell_type": "markdown",
   "metadata": {},
   "source": [
    "El primer uso que se le puede dar a Julia es utilizarla como una simple calculadora. Para esto no se necesita conocer el lenguaje de programación."
   ]
  },
  {
   "cell_type": "markdown",
   "metadata": {},
   "source": [
    "## Las cuatro operaciones"
   ]
  },
  {
   "cell_type": "markdown",
   "metadata": {},
   "source": [
    "Para realizar las operaciones básicas se emplean, como es habitual, los siguientes operadores: para la suma el signo `+`, para la resta el signo `-` y para la multiplicación el asterisco, `*`.\n",
    "\n",
    "Si empleamos números enteros y estas tres operaciones, el resultado es también un número entero."
   ]
  },
  {
   "cell_type": "code",
   "execution_count": 1,
   "metadata": {},
   "outputs": [
    {
     "data": {
      "text/plain": [
       "949"
      ]
     },
     "execution_count": 1,
     "metadata": {},
     "output_type": "execute_result"
    }
   ],
   "source": [
    "45 + 904"
   ]
  },
  {
   "cell_type": "code",
   "execution_count": null,
   "metadata": {},
   "outputs": [],
   "source": [
    "47-23"
   ]
  },
  {
   "cell_type": "code",
   "execution_count": null,
   "metadata": {},
   "outputs": [],
   "source": [
    "46 * 89"
   ]
  },
  {
   "cell_type": "markdown",
   "metadata": {},
   "source": [
    "Para la división empleamos el símbolo `/`. Al realizar las divisiones siempre obtenemos números decimales, aun cuando la división sea exacta. Si la división no es exacta entonces la realiza de modo aproximado, mostrando un número determinado de decimales."
   ]
  },
  {
   "cell_type": "code",
   "execution_count": null,
   "metadata": {},
   "outputs": [],
   "source": [
    "30 / 10"
   ]
  },
  {
   "cell_type": "code",
   "execution_count": null,
   "metadata": {},
   "outputs": [],
   "source": [
    "43 / 27"
   ]
  },
  {
   "cell_type": "markdown",
   "metadata": {},
   "source": [
    "Los números decimales, como hemos visto, separan la parte entera de la decimal utilizando un punto. Con estos números también se pueden realizar las cuatro operaciones aritméticas que hemos visto."
   ]
  },
  {
   "cell_type": "code",
   "execution_count": null,
   "metadata": {},
   "outputs": [],
   "source": [
    "45.89 + 67.324"
   ]
  },
  {
   "cell_type": "code",
   "execution_count": null,
   "metadata": {},
   "outputs": [],
   "source": [
    "23.8743 - 92"
   ]
  },
  {
   "cell_type": "code",
   "execution_count": null,
   "metadata": {},
   "outputs": [],
   "source": [
    "34.6 * 78.12"
   ]
  },
  {
   "cell_type": "code",
   "execution_count": null,
   "metadata": {},
   "outputs": [],
   "source": [
    "375.89 / 24.56"
   ]
  },
  {
   "cell_type": "markdown",
   "metadata": {},
   "source": [
    "Si empleamos números decimales el resulatado arrojado por Julia es siempre un número decimal, a pesar de que desde el punto de vista matemático puede ser un entero."
   ]
  },
  {
   "cell_type": "code",
   "execution_count": null,
   "metadata": {},
   "outputs": [],
   "source": [
    "3.2 + 0.8"
   ]
  },
  {
   "cell_type": "code",
   "execution_count": null,
   "metadata": {},
   "outputs": [],
   "source": [
    "0.125 * 8"
   ]
  },
  {
   "cell_type": "code",
   "execution_count": null,
   "metadata": {},
   "outputs": [],
   "source": [
    "3.2 - 0.2"
   ]
  },
  {
   "cell_type": "markdown",
   "metadata": {},
   "source": [
    "Si la operaciones que realizamos dan resultados *grandes* o *pequeños*, Julia utiliza la notación científica para facilitarnos el resultado. La separación entre el número decimal y la potencia de 10 la realiza con la letra `e`."
   ]
  },
  {
   "cell_type": "code",
   "execution_count": null,
   "metadata": {},
   "outputs": [],
   "source": [
    "34579345.45 * 163457.5"
   ]
  },
  {
   "cell_type": "code",
   "execution_count": null,
   "metadata": {},
   "outputs": [],
   "source": [
    "1 / 23456789012"
   ]
  },
  {
   "cell_type": "markdown",
   "metadata": {},
   "source": [
    "De la misma forma que Julia nos devuelve números en notación científica, nosotros podemos escribir los números utilizando la misma notación. Dichos números se pueden utilizar también para realizar las operaciones.\n",
    "\n",
    "Los números en notación científica siempre son, para Julia, números decimales.\n",
    "\n",
    "Si la potencia de 10 es negativa, el exponente se escribe, con signo negativo, después de la letra `e`."
   ]
  },
  {
   "cell_type": "code",
   "execution_count": null,
   "metadata": {},
   "outputs": [],
   "source": [
    "1e4"
   ]
  },
  {
   "cell_type": "code",
   "execution_count": null,
   "metadata": {},
   "outputs": [],
   "source": [
    "1.56e5"
   ]
  },
  {
   "cell_type": "code",
   "execution_count": null,
   "metadata": {},
   "outputs": [],
   "source": [
    "1.56e8 * 7.89e12"
   ]
  },
  {
   "cell_type": "code",
   "execution_count": null,
   "metadata": {},
   "outputs": [],
   "source": [
    "3.56e-5 * 34.6789"
   ]
  },
  {
   "cell_type": "markdown",
   "metadata": {},
   "source": [
    "## Las potencias."
   ]
  },
  {
   "cell_type": "markdown",
   "metadata": {},
   "source": [
    "El operador para calcular potencias es `^`. Si calculamos potencias de números enteros el resultado es también un número entero. Para calcular potencias de números negativos tenemos que escribir el número negativo entre paréntesis."
   ]
  },
  {
   "cell_type": "code",
   "execution_count": null,
   "metadata": {},
   "outputs": [],
   "source": [
    "2^9"
   ]
  },
  {
   "cell_type": "code",
   "execution_count": null,
   "metadata": {},
   "outputs": [],
   "source": [
    "(-2)^8"
   ]
  },
  {
   "cell_type": "code",
   "execution_count": null,
   "metadata": {},
   "outputs": [],
   "source": [
    "-2^8"
   ]
  },
  {
   "cell_type": "markdown",
   "metadata": {},
   "source": [
    "Si elevamos números decimales, el resultado es siempre un número decimal. Los números en notación científica los encerramos entre paréntesis para el cálculo de potencias."
   ]
  },
  {
   "cell_type": "code",
   "execution_count": null,
   "metadata": {},
   "outputs": [],
   "source": [
    "3.6^8"
   ]
  },
  {
   "cell_type": "code",
   "execution_count": null,
   "metadata": {},
   "outputs": [],
   "source": [
    "(3.6e7)^6"
   ]
  },
  {
   "cell_type": "code",
   "execution_count": null,
   "metadata": {},
   "outputs": [],
   "source": [
    "2.0^5"
   ]
  },
  {
   "cell_type": "code",
   "execution_count": null,
   "metadata": {},
   "outputs": [],
   "source": [
    "2.0^500"
   ]
  },
  {
   "cell_type": "markdown",
   "metadata": {},
   "source": [
    "Julia también calcula potencias de exponente negativo. Para comprender su funcionamiento debemos recordar la fórmula:\n",
    "$$\n",
    "a^{-n} = \\frac{1}{a^n}\n",
    "$$\n",
    "\n",
    "En este caso el resultado siempre es un número decimal."
   ]
  },
  {
   "cell_type": "code",
   "execution_count": null,
   "metadata": {},
   "outputs": [],
   "source": [
    "2^-5  No es necesario escribir paréntesis"
   ]
  },
  {
   "cell_type": "code",
   "execution_count": null,
   "metadata": {},
   "outputs": [],
   "source": [
    "2.0^-5"
   ]
  },
  {
   "cell_type": "code",
   "execution_count": null,
   "metadata": {},
   "outputs": [],
   "source": [
    "1 / 2^5"
   ]
  },
  {
   "cell_type": "code",
   "execution_count": null,
   "metadata": {},
   "outputs": [],
   "source": [
    "2.0^(-5) # Con paréntesis se lee mejor"
   ]
  },
  {
   "cell_type": "code",
   "execution_count": null,
   "metadata": {},
   "outputs": [],
   "source": [
    "45.345^-34"
   ]
  },
  {
   "cell_type": "markdown",
   "metadata": {},
   "source": [
    "En este último ejemplo hemos visto como se introducen los comentarios en Julia, empleando el símbolo `#`. Todo lo escrito a la derecha de dicho símbolo es ignorado por Julia y solamente sirve para que los humanos entendamos como están escritas las operaciones. A partir de ahora utilizaremos los comentarios con profusión."
   ]
  },
  {
   "cell_type": "markdown",
   "metadata": {},
   "source": [
    "## El desbordamiento o *overflow*."
   ]
  },
  {
   "cell_type": "markdown",
   "metadata": {},
   "source": [
    "Julia trabaja con números aproximados (como todas las calculadoras). Es bien sabido que en una calculadora científica normal, si el resultado es un número de más de cien cifras, la calculadora nos informa de la imposibilidad de dicho cálculo. En Julia ocurre algo similar, pero es más difícil de detectar. Veamos las siguientes operaciones."
   ]
  },
  {
   "cell_type": "code",
   "execution_count": null,
   "metadata": {},
   "outputs": [],
   "source": [
    "2^5"
   ]
  },
  {
   "cell_type": "code",
   "execution_count": null,
   "metadata": {},
   "outputs": [],
   "source": [
    "2^50"
   ]
  },
  {
   "cell_type": "code",
   "execution_count": null,
   "metadata": {},
   "outputs": [],
   "source": [
    "2^500"
   ]
  },
  {
   "cell_type": "markdown",
   "metadata": {},
   "source": [
    "El primer resultado es claramente correcto. El segundo no sabemos si es o no correcto, pero es seguro que el tercero es totalmente incorrecto. Sin embargo Julia no nos ha informado de nada.\n",
    "\n",
    "Solucionar ese fallo es relativamente simple. Escribimos el número 2 como un número decimal."
   ]
  },
  {
   "cell_type": "code",
   "execution_count": null,
   "metadata": {},
   "outputs": [],
   "source": [
    "2.0^500"
   ]
  },
  {
   "cell_type": "code",
   "execution_count": null,
   "metadata": {},
   "outputs": [],
   "source": [
    "Sin embargo, si seguimos intentado seguir con las potencias, encontramos el siguiente resultado."
   ]
  },
  {
   "cell_type": "code",
   "execution_count": null,
   "metadata": {},
   "outputs": [],
   "source": [
    "2.0^5000"
   ]
  },
  {
   "cell_type": "markdown",
   "metadata": {},
   "source": [
    "En este caso Julia si nos informa del error y nos dice que, para Julia, dicho resultado es infinito.\n",
    "\n",
    "Tratemos de explicar estos resultados un tanto sorprendentes. Julia, cuando trabaja con números enteros y hace operaciones de suma, resta, producto y potencias, devuelve siempre el resultado como un número entero. Pero en Julia no se pueden escribir números enteros de cualquier tamaño. El mayor número entero que podemos escribir en Julia es 9223372036854775807. Cualquier número que se pase da lugar a errores.\n",
    "\n",
    "Para obtener el número anterior tenemos que teclear la función `typemax()`."
   ]
  },
  {
   "cell_type": "code",
   "execution_count": null,
   "metadata": {},
   "outputs": [],
   "source": [
    "typemax(Int)"
   ]
  },
  {
   "cell_type": "code",
   "execution_count": null,
   "metadata": {},
   "outputs": [],
   "source": [
    "9223372036854775807 + 1"
   ]
  },
  {
   "cell_type": "markdown",
   "metadata": {},
   "source": [
    "De modo análogo existe un menor número entero que es representable por Julia."
   ]
  },
  {
   "cell_type": "code",
   "execution_count": null,
   "metadata": {},
   "outputs": [],
   "source": [
    "typemin(Int)"
   ]
  },
  {
   "cell_type": "markdown",
   "metadata": {},
   "source": [
    "A pesar de la aparente aleatoriadad de estos dos números, tiene que ver mucho con las potencias de 2, debido a que Julia, como todos los programas de ordenador, utiliza la notación binaria para almacenar los números enteros. El número más alto representable en Julia es exactamente $2^{63} - 1$. Dicho número lo podemos calcular a mano o mucho mejor, utilizando un programa de calculo exacto como puede ser *WolframAlpha*.\n",
    "\n",
    "Veamos este problema desde otra perspectiva. Con la función `bitstring()` podemos ver como se guarda en la memoria cualquier número."
   ]
  },
  {
   "cell_type": "code",
   "execution_count": null,
   "metadata": {},
   "outputs": [],
   "source": [
    "bitstring(7)"
   ]
  },
  {
   "cell_type": "code",
   "execution_count": null,
   "metadata": {},
   "outputs": [],
   "source": [
    "bitstring(23)"
   ]
  },
  {
   "cell_type": "code",
   "execution_count": null,
   "metadata": {},
   "outputs": [],
   "source": [
    "bitstring(-3)"
   ]
  },
  {
   "cell_type": "markdown",
   "metadata": {},
   "source": [
    "Como vemos Julia guarda el número en notación binaria y utiliza para ello 64 bits. Entonces *podemos intuir* que el número entero más grande que podemos representar es aquel que tenga todos los bits a uno. Podemos comprobar dicha idea."
   ]
  },
  {
   "cell_type": "code",
   "execution_count": null,
   "metadata": {},
   "outputs": [],
   "source": [
    "bitstring(typemax(Int))"
   ]
  },
  {
   "cell_type": "code",
   "execution_count": null,
   "metadata": {},
   "outputs": [],
   "source": [
    "bitstring(typemin(Int))"
   ]
  },
  {
   "cell_type": "markdown",
   "metadata": {},
   "source": [
    "Nuestra intuición nos ha fallado, pero por poco. En realidad, los que conozcan el complemento a dos sabrán que en efecto ese el mayor número representable con 64 bits, debido a que el primer bit se utiliza para el signo del número entero.\n",
    "\n",
    "Para los números decimales, existe un problema similar, aunque los números máximo y mínimo son mucho mayores (del orden de 300 cifras)."
   ]
  },
  {
   "cell_type": "markdown",
   "metadata": {},
   "source": [
    "## Raíces"
   ]
  },
  {
   "cell_type": "markdown",
   "metadata": {},
   "source": [
    "Para calcular raíces cuadradas utilizamos la función `sqrt()`, que proviene del inglés *square root*. El resultado es siempre un número decimal. En principio esta función no calcula raíces de números negativos."
   ]
  },
  {
   "cell_type": "code",
   "execution_count": null,
   "metadata": {},
   "outputs": [],
   "source": [
    "sqrt(9)"
   ]
  },
  {
   "cell_type": "code",
   "execution_count": null,
   "metadata": {},
   "outputs": [],
   "source": [
    "sqrt(89)"
   ]
  },
  {
   "cell_type": "code",
   "execution_count": null,
   "metadata": {},
   "outputs": [],
   "source": [
    "sqrt(456.124)"
   ]
  },
  {
   "cell_type": "markdown",
   "metadata": {},
   "source": [
    "Para la raíz cúbica utilizamos la función `cbrt()`, del inglés *cubic root"
   ]
  },
  {
   "cell_type": "code",
   "execution_count": null,
   "metadata": {},
   "outputs": [],
   "source": [
    "cbrt(8)"
   ]
  },
  {
   "cell_type": "code",
   "execution_count": null,
   "metadata": {},
   "outputs": [],
   "source": [
    "cbrt(-8)"
   ]
  },
  {
   "cell_type": "code",
   "execution_count": null,
   "metadata": {},
   "outputs": [],
   "source": [
    "cbrt(456.6245"
   ]
  },
  {
   "cell_type": "markdown",
   "metadata": {},
   "source": [
    "Para calcular el resto de raíces debemos recordar la relación que tenían los radicales con las potencias:\n",
    "$$\n",
    "\\sqrt[n]{a} = a^{\\frac{1}{n}}\n",
    "$$\n",
    "\n",
    "Para calcular la raíz quinta elevamos el número a la potencia $1/5$, que debemos escribir entre paréntesis. Naturalmente con este método también se pueden calcular raíces cuadradas y cúbicas."
   ]
  },
  {
   "cell_type": "code",
   "execution_count": null,
   "metadata": {},
   "outputs": [],
   "source": [
    "3^(1/5) # Raíz quinta"
   ]
  },
  {
   "cell_type": "code",
   "execution_count": null,
   "metadata": {},
   "outputs": [],
   "source": [
    "2^(1/2)"
   ]
  },
  {
   "cell_type": "code",
   "execution_count": null,
   "metadata": {},
   "outputs": [],
   "source": [
    "sqrt(2)"
   ]
  },
  {
   "cell_type": "code",
   "execution_count": null,
   "metadata": {},
   "outputs": [],
   "source": []
  },
  {
   "cell_type": "markdown",
   "metadata": {},
   "source": [
    "## Jerarquía de operaciones"
   ]
  },
  {
   "cell_type": "markdown",
   "metadata": {},
   "source": [
    "En Julia se pueden escribir operaciones combinadas, utilizan uno o varios de los operadores que hemos visto. En caso de encontrarse con una de estas operaciones Julia sigue la jerarquía usual en Matemáticas: primero realiza las potencias, luego las multiplicaciones y divisiones y por último las sumas y las restas."
   ]
  },
  {
   "cell_type": "code",
   "execution_count": null,
   "metadata": {},
   "outputs": [],
   "source": [
    "4 * 2^5"
   ]
  },
  {
   "cell_type": "code",
   "execution_count": null,
   "metadata": {},
   "outputs": [],
   "source": [
    "4 + 4 * 9"
   ]
  },
  {
   "cell_type": "code",
   "execution_count": null,
   "metadata": {},
   "outputs": [],
   "source": [
    "3^3 + 7 * 9"
   ]
  },
  {
   "cell_type": "markdown",
   "metadata": {},
   "source": [
    "Si queremos cambiar ésta jerarquía debemos utilizar los paréntesis. Se pueden utilizar paréntesis anidados, pero en ningún caso se puede utilizar los corchetes, tal como  se hace en la matemática elemental."
   ]
  },
  {
   "cell_type": "code",
   "execution_count": null,
   "metadata": {},
   "outputs": [],
   "source": [
    "(4 * 2)^5"
   ]
  },
  {
   "cell_type": "code",
   "execution_count": null,
   "metadata": {},
   "outputs": [],
   "source": [
    "3^(3 + 7) * 9"
   ]
  },
  {
   "cell_type": "code",
   "execution_count": null,
   "metadata": {},
   "outputs": [],
   "source": [
    "(4 * (5 - 3)) * 9"
   ]
  },
  {
   "cell_type": "markdown",
   "metadata": {},
   "source": [
    "## Los operadores como funciones (opcional)"
   ]
  },
  {
   "cell_type": "markdown",
   "metadata": {},
   "source": [
    "**Esta sección es solamente para los más frikis de las matemáticas.**\n",
    "\n",
    "En matemáticas se define una operación interna en un conjunto $A$ como una función:\n",
    "$$\n",
    "f: A \\times A \\rightarrow A\n",
    "$$\n",
    "\n",
    "La imagen de una pareja se denota por la notación funcional $f(x,y)$.\n",
    "\n",
    "En particular la suma es una operación en un conjunto, por ejemplo los enteros.\n",
    "\n",
    "$$\n",
    "+: \\mathbb{Z} \\times \\mathbb{Z} \\rightarrow \\mathbb{Z}\n",
    "$$\n",
    "\n",
    "Por lo tanto la notación más adecuada para denotar la suma sería $+(x,y)$. Lo mismo sucede con cualquier otra operación matemática y cualquier otro conjunto de números. Pues resulta que Julia admite esa notación para los operadores aritméticos. Esto también está relacionado con el enfoque *funcional* que tiene Julia como lenguaje"
   ]
  },
  {
   "cell_type": "code",
   "execution_count": null,
   "metadata": {},
   "outputs": [],
   "source": [
    "+(4, 7) # La suma"
   ]
  },
  {
   "cell_type": "code",
   "execution_count": null,
   "metadata": {},
   "outputs": [],
   "source": [
    "+(3, 6, 90, 34) # Se pueden sumar más números"
   ]
  },
  {
   "cell_type": "code",
   "execution_count": null,
   "metadata": {},
   "outputs": [],
   "source": [
    "-(78, 6)"
   ]
  },
  {
   "cell_type": "code",
   "execution_count": null,
   "metadata": {},
   "outputs": [],
   "source": [
    "*(4, 50)"
   ]
  },
  {
   "cell_type": "code",
   "execution_count": null,
   "metadata": {},
   "outputs": [],
   "source": [
    "^(2, 5) # Esto es 2^5"
   ]
  }
 ],
 "metadata": {
  "kernelspec": {
   "display_name": "Julia 1.0.0",
   "language": "julia",
   "name": "julia-1.0"
  },
  "language_info": {
   "file_extension": ".jl",
   "mimetype": "application/julia",
   "name": "julia",
   "version": "1.0.0"
  }
 },
 "nbformat": 4,
 "nbformat_minor": 2
}
