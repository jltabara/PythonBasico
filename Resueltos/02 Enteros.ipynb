{
 "cells": [
  {
   "cell_type": "markdown",
   "metadata": {
    "slideshow": {
     "slide_type": "slide"
    }
   },
   "source": [
    "<center><h1>Enteros</h1></center>\n"
   ]
  },
  {
   "cell_type": "markdown",
   "metadata": {
    "slideshow": {
     "slide_type": "slide"
    }
   },
   "source": [
    "Python se puede utilizar como una **calculadora avanzada**. Permite realizar todas las operaciones habituales con números enteros. Los operadores para realizar las operaciones son los habituales."
   ]
  },
  {
   "cell_type": "markdown",
   "metadata": {
    "slideshow": {
     "slide_type": "slide"
    }
   },
   "source": [
    "<div class=\"alert alert-info\">\n",
    "\n",
    "Realiza las siguientes operaciones:\n",
    "\n",
    "> $a)\\,345 + 789 \\quad b)\\, 1234678 + 76543210$\n",
    "\n",
    "> $c)\\, 345 -87 \\quad d)\\, 12 -  123456789$\n",
    "\n",
    "> $e)\\, 45 \\cdot 56 \\quad f)\\, 123 \\cdot 456 \\cdot 789$\n",
    "\n",
    "</div>"
   ]
  },
  {
   "cell_type": "code",
   "execution_count": null,
   "metadata": {},
   "outputs": [],
   "source": []
  },
  {
   "cell_type": "markdown",
   "metadata": {
    "slideshow": {
     "slide_type": "slide"
    }
   },
   "source": [
    "Al realizar sumas, restas y multiplicaciones de enteros, el resultado es **siempre un número entero y no existe pérdida de precisión**. Sin embargo al realizar divisiones el resultado es **siempre un número decimal**, a pesar de que matemáticamente el resultado a veces es un número entero. En estos casos, y como no se pueden escribir infinitos decimales, lo más probable es que exista alguna pérdida de precisión."
   ]
  },
  {
   "cell_type": "markdown",
   "metadata": {
    "slideshow": {
     "slide_type": "slide"
    }
   },
   "source": [
    "<div class=\"alert alert-info\">\n",
    "    \n",
    "Realiza las divisiones:\n",
    "\n",
    "$$\n",
    "a)\\, 456 / 78 \\qquad  b)\\, 8 / 4\n",
    "$$\n",
    "\n",
    "\n",
    "</div>"
   ]
  },
  {
   "cell_type": "code",
   "execution_count": null,
   "metadata": {},
   "outputs": [],
   "source": []
  },
  {
   "cell_type": "markdown",
   "metadata": {
    "slideshow": {
     "slide_type": "slide"
    }
   },
   "source": [
    "Python sigue la **misma jerarquía de operaciones que las Matemáticas** al operar con números: primero multiplicaciones y divisiones y después sumas y restas. Para cambiar el orden **se utilizan los paréntesis**."
   ]
  },
  {
   "cell_type": "markdown",
   "metadata": {
    "slideshow": {
     "slide_type": "slide"
    }
   },
   "source": [
    "<div class=\"alert alert-info\">\n",
    "    \n",
    "Realiza las operaciones combinadas:\n",
    "\n",
    "$$\n",
    "a)\\, 4 + 7 \\cdot 6 \\qquad b)\\, (4+7) \\cdot 6 \\qquad c)\\, 4 \\cdot 5 - 3 \\cdot 2\n",
    "$$\n",
    "\n",
    "</div>"
   ]
  },
  {
   "cell_type": "code",
   "execution_count": null,
   "metadata": {},
   "outputs": [],
   "source": []
  },
  {
   "cell_type": "markdown",
   "metadata": {
    "slideshow": {
     "slide_type": "slide"
    }
   },
   "source": [
    "Para calcular potencias Python utiliza el operador **doble asterisco**. En muchos lenguajes de programación se utiliza el circunflejo (^), pero en Python su uso da lugar a un error.\n",
    "\n",
    "**Si hay potencias, entonces se realizan antes de las multiplicaciones y las divisiones**. En general todas las operaciones siguen la jerarquía matemática."
   ]
  },
  {
   "cell_type": "markdown",
   "metadata": {
    "slideshow": {
     "slide_type": "subslide"
    }
   },
   "source": [
    "<div class=\"alert alert-info\">\n",
    "\n",
    "Realiza las siguientes potencias:\n",
    "\n",
    "$$\n",
    "a)\\, 2^4 \\qquad b)\\, (-3)^4 \\qquad c)\\, 2^{1000}\n",
    "$$\n",
    "\n",
    "</div>"
   ]
  },
  {
   "cell_type": "code",
   "execution_count": null,
   "metadata": {},
   "outputs": [],
   "source": []
  },
  {
   "cell_type": "markdown",
   "metadata": {
    "slideshow": {
     "slide_type": "slide"
    }
   },
   "source": [
    "<div class=\"alert alert-info\">\n",
    "\n",
    "Realiza las operaciones:\n",
    "\n",
    "$$\n",
    "a)\\, 3 \\cdot 2^5 \\qquad b)\\, 5 \\cdot (-3)^3\n",
    "$$\n",
    "\n",
    "</div>"
   ]
  },
  {
   "cell_type": "code",
   "execution_count": null,
   "metadata": {},
   "outputs": [],
   "source": []
  },
  {
   "cell_type": "markdown",
   "metadata": {
    "slideshow": {
     "slide_type": "slide"
    }
   },
   "source": [
    "Además de estas operaciones, puede realizar otras dos: utilizando el operador **`//`** puede calcular el **cociente entero** de una división y con el operador **`%`** puede calcular el **resto de la división**."
   ]
  },
  {
   "cell_type": "markdown",
   "metadata": {
    "slideshow": {
     "slide_type": "slide"
    }
   },
   "source": [
    "<div class=\"alert alert-info\">\n",
    "\n",
    "Calcula el cociente y el resto de las divisiones:\n",
    "\n",
    "$$\n",
    "a)\\, 17 / 5\\qquad b)\\, 3456 / 123\n",
    "$$\n",
    "\n",
    "</div>"
   ]
  },
  {
   "cell_type": "code",
   "execution_count": null,
   "metadata": {},
   "outputs": [],
   "source": []
  },
  {
   "cell_type": "markdown",
   "metadata": {
    "slideshow": {
     "slide_type": "slide"
    }
   },
   "source": [
    "<div class=\"alert alert-info\">\n",
    "\n",
    "Calcula el cociente y el resto de la división:\n",
    "\n",
    "$$\n",
    "6789 / 34\n",
    "$$\n",
    "\n",
    "Después haz la prueba de la división para ver que es correcta.\n",
    "\n",
    "</div>"
   ]
  },
  {
   "cell_type": "code",
   "execution_count": null,
   "metadata": {},
   "outputs": [],
   "source": []
  },
  {
   "cell_type": "markdown",
   "metadata": {
    "slideshow": {
     "slide_type": "slide"
    }
   },
   "source": [
    "<center><h1>Contenido extra</h1></center>"
   ]
  },
  {
   "cell_type": "markdown",
   "metadata": {
    "slideshow": {
     "slide_type": "slide"
    }
   },
   "source": [
    "El módulo se puede utilizar para comprobar si **un número es múltiplo de otro**. La división entre potencias de 10 nos permite extraer **las últimas cifras de un número**."
   ]
  },
  {
   "cell_type": "markdown",
   "metadata": {
    "slideshow": {
     "slide_type": "slide"
    }
   },
   "source": [
    "<div class=\"alert alert-info\">\n",
    "\n",
    "Comprueba, calculando el resto, si\n",
    "\n",
    "$$\n",
    "1234567890987654322\n",
    "$$\n",
    "\n",
    "es divisible entre 2, entre 3 y entre 7:\n",
    "\n",
    "</div>"
   ]
  },
  {
   "cell_type": "code",
   "execution_count": null,
   "metadata": {},
   "outputs": [],
   "source": []
  },
  {
   "cell_type": "markdown",
   "metadata": {
    "slideshow": {
     "slide_type": "slide"
    }
   },
   "source": [
    "<div class=\"alert alert-info\">\n",
    "\n",
    "Calcula el cociente y el resto de la división del número:\n",
    "\n",
    "$$\n",
    "1234567\n",
    "$$\n",
    "\n",
    "entre 10, 100, y 1000. Extrae alguna conclusión.\n",
    "\n",
    "</div>"
   ]
  },
  {
   "cell_type": "code",
   "execution_count": null,
   "metadata": {},
   "outputs": [],
   "source": []
  },
  {
   "cell_type": "markdown",
   "metadata": {},
   "source": [
    "En general escribimos los números utilizando la base 10. Pero también podemos escribir números enteros utilizan las bases 2, 8 y 16. Para ello debemos escribir los prefijos **`0b`**, **`0o`** y **`x`**. En los números en hexadecimal se pueden emplear las letras desde la A a la F, pudiendo ser mayúsculas o minúsculas."
   ]
  },
  {
   "cell_type": "markdown",
   "metadata": {
    "slideshow": {
     "slide_type": "slide"
    }
   },
   "source": [
    "<div class=\"alert alert-info\">\n",
    "\n",
    "* Escribe números en distintas bases.\n",
    "\n",
    "* Comprueba que se pueden realizar las misma operaciones aritméticas independientemente de la base.\n",
    "\n",
    "</div>"
   ]
  },
  {
   "cell_type": "code",
   "execution_count": null,
   "metadata": {},
   "outputs": [],
   "source": []
  },
  {
   "cell_type": "markdown",
   "metadata": {
    "slideshow": {
     "slide_type": "slide"
    }
   },
   "source": [
    "Python tiene una serie de funciones predefinidas que se pueden usar con los números enteros:\n",
    "    \n",
    "* **`abs()`**.  Calcula el valor absoluto.\n",
    "\n",
    "* **`pow()`**. Permite calcular potencias.\n",
    "\n",
    "* **`divmod()`**. Nos devuelve un par de números: el primero es el cociente y el segundo el resto.\n"
   ]
  },
  {
   "cell_type": "markdown",
   "metadata": {
    "slideshow": {
     "slide_type": "slide"
    }
   },
   "source": [
    "<div class=\"alert alert-info\">\n",
    "\n",
    "* Calcula el valor absoluto de números positivos y negativos.\n",
    "\n",
    "* Calcula varias potencias.\n",
    "\n",
    "* Calcula el cociente y el resto de alguna división. Comprueba la división.\n",
    "\n",
    "</div>"
   ]
  },
  {
   "cell_type": "code",
   "execution_count": null,
   "metadata": {},
   "outputs": [],
   "source": []
  },
  {
   "cell_type": "markdown",
   "metadata": {
    "slideshow": {
     "slide_type": "slide"
    }
   },
   "source": [
    "Para convertir de decimal a binario, octal y hexadecimal empleamos las funciones **`bin()`**, **`oct()`** y **`hex()`**."
   ]
  },
  {
   "cell_type": "markdown",
   "metadata": {
    "slideshow": {
     "slide_type": "slide"
    }
   },
   "source": [
    "<div class=\"alert alert-info\">\n",
    "\n",
    "Convierte a las otras bases el número 123456\n",
    "\n",
    "</div>"
   ]
  },
  {
   "cell_type": "code",
   "execution_count": null,
   "metadata": {},
   "outputs": [],
   "source": []
  },
  {
   "cell_type": "markdown",
   "metadata": {
    "slideshow": {
     "slide_type": "slide"
    }
   },
   "source": [
    "<center><h1>Fin</h1></center>\n",
    "<center><small>github.com/jltabara/PythonBasico</small></center>"
   ]
  },
  {
   "cell_type": "markdown",
   "metadata": {
    "colab_type": "text",
    "id": "6uWecUQRK0mq",
    "slideshow": {
     "slide_type": "slide"
    }
   },
   "source": [
    "<center><h1>Ejercicios</h1></center>"
   ]
  },
  {
   "cell_type": "markdown",
   "metadata": {
    "colab_type": "text",
    "id": "y5uud72tLCyK"
   },
   "source": [
    "### Sumas\n",
    "\n",
    "Realiza las siguientes sumas:\n",
    "\n",
    "$$\n",
    "a)\\, 56+890 \\qquad b)\\, 456 + 2345 + 123\n",
    "$$"
   ]
  },
  {
   "cell_type": "markdown",
   "metadata": {
    "colab_type": "text",
    "id": "H0oXly8XLghv"
   },
   "source": [
    "### Restas\n",
    "\n",
    "Realiza las siguientes restas:\n",
    "\n",
    "$$\n",
    "a)\\, 456 - 234 \\qquad b)\\, 345 - 82612 \\qquad c)\\, -456 - 234\n",
    "$$"
   ]
  },
  {
   "cell_type": "markdown",
   "metadata": {
    "colab_type": "text",
    "id": "gc0zitIJL61C"
   },
   "source": [
    "### Multiplicaciones\n",
    "\n",
    "Realiza las siguientes multiplicaciones:\n",
    "\n",
    "$$\n",
    "a)\\,45 \\cdot 123456789 \\qquad b)\\,(-3) \\cdot 67 \\qquad c)\\, (-34) \\cdot (-2)\n",
    "$$"
   ]
  },
  {
   "cell_type": "markdown",
   "metadata": {
    "colab_type": "text",
    "id": "gOJSIQg7MflY"
   },
   "source": [
    "### Divisiones\n",
    "\n",
    "Realiza las siguientes divisiones:\n",
    "\n",
    "\n",
    "$$\n",
    "a)\\, 456 / 34 \\qquad b)\\ 56/7\\qquad  c)\\, (-345) / 98765\n",
    "$$"
   ]
  },
  {
   "cell_type": "markdown",
   "metadata": {
    "colab_type": "text",
    "id": "ykixzEbJM596"
   },
   "source": [
    "### Operaciones combinadas\n",
    "\n",
    "Realiza las siguientes operaciones combinadas:\n",
    "\n",
    "$$\n",
    "a)\\, 5 - 8\\cdot 67 + 7 - 34 \\cdot 23\\qquad b)\\, (2+5-3)(3-78-9)\n",
    "$$"
   ]
  },
  {
   "cell_type": "markdown",
   "metadata": {
    "colab_type": "text",
    "id": "2QaycydPO0rC"
   },
   "source": [
    "### Operaciones combinadas\n",
    "\n",
    "Intenta adivinar el resultado de las siguientes operaciones antes de realizarlas:\n",
    "\n",
    "$$\n",
    "a)\\,4 +8 \\cdot 4 \\qquad b)\\, 5\\cdot (-4) + 5\\cdot 7\\qquad c)\\, 8-6/2 + 1\\cdot 2\n",
    "$$"
   ]
  },
  {
   "cell_type": "markdown",
   "metadata": {
    "colab_type": "text",
    "id": "rZKoJMNmP_rs"
   },
   "source": [
    "### Colocación de paréntesis\n",
    "\n",
    "Pon paréntesis en la siguiente expresión para obtener tres resultados distintos:\n",
    "\n",
    "```python\n",
    "4 - 9 * 8 +7\n",
    "``` "
   ]
  },
  {
   "cell_type": "markdown",
   "metadata": {
    "colab_type": "text",
    "id": "2SH8b9Z4QeQs"
   },
   "source": [
    "### Problema\n",
    "\n",
    "Tenemos 2 cajones de manzanas con 20 manzanas cada uno. Nos traen otros tres cajones de manzanas con 20 manzanas cada uno. ¿Cuántas manzanas tendremos? Se tiene que resolver con una única operación combinada."
   ]
  },
  {
   "cell_type": "markdown",
   "metadata": {
    "colab_type": "text",
    "id": "qDoCIgkZRVLc"
   },
   "source": [
    "### Problema\n",
    "\n",
    "Hay que repartir una caja de bombones de 24 bombones entre 2 grupos de 3 alumnos cada uno. ¿A cuántos bombones toca cada alumno? Se tiene que resolver con una única operación combinada."
   ]
  },
  {
   "cell_type": "markdown",
   "metadata": {
    "colab_type": "text",
    "id": "aP0h-rB3hVEa"
   },
   "source": [
    "### Una curiosidad\n",
    "\n",
    "Hay mucha gente que utiliza los separadores de miles, millones, ... al escribir números grandes. Esto no es posible en Python, pues o bien provoca errores o bien resultados que no son los esperados. Sin embargo para ese tipo de personas Python permite usar el guión bajo. Teclea el siguiente código que calcula aproximadamente la distancia en metros de la Tierra al Sol y verás que Python lo interpreta correctamente.\n",
    "\n",
    "```python\n",
    "299_792_458  * 8 * 60\n",
    "```\n"
   ]
  },
  {
   "cell_type": "markdown",
   "metadata": {
    "colab_type": "text",
    "id": "VKiienX12RTc"
   },
   "source": [
    "### Potencias\n",
    "\n",
    "Calcula las siguientes potencias:\n",
    "\n",
    "$$\n",
    "a)\\, 3^4 \\qquad b)\\, (-3)^{23} \\qquad c)\\, 4^{500}\n",
    "$$"
   ]
  },
  {
   "cell_type": "markdown",
   "metadata": {
    "colab_type": "text",
    "id": "4bvrXNGr2pce"
   },
   "source": [
    "### Prioridad de las potencias\n",
    "\n",
    "Calcula el siguiente resultado de cabeza y después comprueba con Python:\n",
    "\n",
    "```python\n",
    "5 * 2 ** 3\n",
    "```"
   ]
  },
  {
   "cell_type": "markdown",
   "metadata": {
    "colab_type": "text",
    "id": "r4xRojFt24TI"
   },
   "source": [
    "### Colocación de paréntesis\n",
    "\n",
    "Pon paréntesis en la siguiente operación para obtener tres resultados distintos:\n",
    "\n",
    "```python\n",
    "3*2**5*5\n",
    "```"
   ]
  },
  {
   "cell_type": "markdown",
   "metadata": {
    "colab_type": "text",
    "id": "OsMDQvFM3XO0"
   },
   "source": [
    "### Cociente y resto\n",
    "\n",
    "Calcula el cociente y el resto de las divisiones:\n",
    "\n",
    "$$\n",
    "a)\\,4678 / 23 \\qquad b)\\, 1234567 / 9875\n",
    "$$"
   ]
  },
  {
   "cell_type": "markdown",
   "metadata": {
    "colab_type": "text",
    "id": "QVMxAGB53lWV"
   },
   "source": [
    "### Cociente y resto\n",
    "\n",
    "Calcula el cociente y el resto y realiza la comprobación de la división:\n",
    "\n",
    "$$\n",
    "5635 / 258\n",
    "$$"
   ]
  },
  {
   "cell_type": "markdown",
   "metadata": {
    "colab_type": "text",
    "id": "itRbSAAh5l8x"
   },
   "source": [
    "### Espacios en blanco entre operadores\n",
    "\n",
    "Comprueba que puedes escribir todos los espacios en blanco que quieras entre los operadores y el número. También se puede no dejar ningún espacio."
   ]
  },
  {
   "cell_type": "markdown",
   "metadata": {
    "colab_type": "text",
    "id": "voQm0POlt6fg"
   },
   "source": [
    "### Problema\n",
    "\n",
    "Hay 102 piratas y 20 barriles enormes. ¿Cuántos piratas se pueden esconder en cada barril y cuántos sobran?"
   ]
  },
  {
   "cell_type": "markdown",
   "metadata": {
    "colab_type": "text",
    "id": "KbD9JBoW5yOT"
   },
   "source": [
    "### Prioridad de operaciones con `//`\n",
    "\n",
    "Haz pruebas para comprobar si se realiza antes el operador `//` o el operador `+`.\n"
   ]
  },
  {
   "cell_type": "markdown",
   "metadata": {
    "colab_type": "text",
    "id": "4cnOgbm86Lx_"
   },
   "source": [
    "###  División entre cero\n",
    "\n",
    "Comprueba que si dividimos entre cero obtenemos un error. Depués de esto intenta poner paréntesis en la siguiente operación para obtener un error:\n",
    "\n",
    "```python\n",
    "4 / 20 - 5 * 4\n",
    "```"
   ]
  },
  {
   "cell_type": "code",
   "execution_count": null,
   "metadata": {},
   "outputs": [],
   "source": []
  }
 ],
 "metadata": {
  "celltoolbar": "Slideshow",
  "kernelspec": {
   "display_name": "Python 3",
   "language": "python",
   "name": "python3"
  },
  "language_info": {
   "codemirror_mode": {
    "name": "ipython",
    "version": 3
   },
   "file_extension": ".py",
   "mimetype": "text/x-python",
   "name": "python",
   "nbconvert_exporter": "python",
   "pygments_lexer": "ipython3",
   "version": "3.6.6"
  }
 },
 "nbformat": 4,
 "nbformat_minor": 4
}
