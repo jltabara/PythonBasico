{
 "cells": [
  {
   "cell_type": "markdown",
   "metadata": {
    "slideshow": {
     "slide_type": "slide"
    }
   },
   "source": [
    "<center><h1>Hola mundo</h1><br /></center>"
   ]
  },
  {
   "cell_type": "markdown",
   "metadata": {
    "slideshow": {
     "slide_type": "slide"
    }
   },
   "source": [
    "Para imprimir por pantalla cualquier texto utilizamos la función **`print()`**. El texto que queramos mostrar debe estar **entre comillas**. Las comillas pueden ser **dobles** o **simples**."
   ]
  },
  {
   "cell_type": "markdown",
   "metadata": {
    "slideshow": {
     "slide_type": "slide"
    }
   },
   "source": [
    "<div class=\"alert alert-info\">\n",
    "\n",
    "Imprime por pantalla la frase:\n",
    "\n",
    "```python\n",
    "Hola mundo\n",
    "```\n",
    "\n",
    "</div>"
   ]
  },
  {
   "cell_type": "code",
   "execution_count": 1,
   "metadata": {},
   "outputs": [
    {
     "name": "stdout",
     "output_type": "stream",
     "text": [
      "Hola mundo\n"
     ]
    }
   ],
   "source": [
    "print(\"Hola mundo\")"
   ]
  },
  {
   "cell_type": "markdown",
   "metadata": {
    "slideshow": {
     "slide_type": "slide"
    }
   },
   "source": [
    "<div class=\"alert alert-info\">\n",
    "    \n",
    "Imprime la misma frase pero utilizando el otro tipo de comillas.\n",
    "\n",
    "</div>"
   ]
  },
  {
   "cell_type": "code",
   "execution_count": 15,
   "metadata": {},
   "outputs": [
    {
     "name": "stdout",
     "output_type": "stream",
     "text": [
      "Hola mundo\n"
     ]
    }
   ],
   "source": [
    "print('Hola mundo')"
   ]
  },
  {
   "cell_type": "markdown",
   "metadata": {
    "slideshow": {
     "slide_type": "slide"
    }
   },
   "source": [
    "Algunas veces cometemos errores al teclear la función **`print()`**. Los errores más comunes son:\n",
    "\n",
    "* Olvidar escribir las comillas.\n",
    "\n",
    "* Escribir la palabra **`print()`** con mayúsculas.\n",
    "\n",
    "* Dejar algún espacio en blanco antes de escribir la función.\n"
   ]
  },
  {
   "cell_type": "markdown",
   "metadata": {
    "slideshow": {
     "slide_type": "slide"
    }
   },
   "source": [
    "<div class=\"alert alert-info\">\n",
    "\n",
    "Escribe sin comillas y con mayúsculas. Analiza el tipo de errores.\n",
    "\n",
    "</div>"
   ]
  },
  {
   "cell_type": "code",
   "execution_count": 6,
   "metadata": {},
   "outputs": [
    {
     "ename": "SyntaxError",
     "evalue": "invalid syntax (<ipython-input-6-9c2d3061870c>, line 3)",
     "output_type": "error",
     "traceback": [
      "\u001b[0;36m  File \u001b[0;32m\"<ipython-input-6-9c2d3061870c>\"\u001b[0;36m, line \u001b[0;32m3\u001b[0m\n\u001b[0;31m    print(Hola mundo)\u001b[0m\n\u001b[0m                   ^\u001b[0m\n\u001b[0;31mSyntaxError\u001b[0m\u001b[0;31m:\u001b[0m invalid syntax\n"
     ]
    }
   ],
   "source": [
    "# Escribimos sin comillas\n",
    "\n",
    "print(Hola mundo)"
   ]
  },
  {
   "cell_type": "code",
   "execution_count": 3,
   "metadata": {},
   "outputs": [],
   "source": [
    "# El error es de sintaxis. La frase está mal escrita y Python no la entiende."
   ]
  },
  {
   "cell_type": "code",
   "execution_count": 4,
   "metadata": {},
   "outputs": [
    {
     "ename": "NameError",
     "evalue": "name 'Print' is not defined",
     "output_type": "error",
     "traceback": [
      "\u001b[0;31m---------------------------------------------------------------------------\u001b[0m",
      "\u001b[0;31mNameError\u001b[0m                                 Traceback (most recent call last)",
      "\u001b[0;32m<ipython-input-4-1572e5d5273b>\u001b[0m in \u001b[0;36m<module>\u001b[0;34m\u001b[0m\n\u001b[0;32m----> 1\u001b[0;31m \u001b[0mPrint\u001b[0m\u001b[0;34m(\u001b[0m\u001b[0;34m\"Hola mundo\"\u001b[0m\u001b[0;34m)\u001b[0m\u001b[0;34m\u001b[0m\u001b[0;34m\u001b[0m\u001b[0m\n\u001b[0m",
      "\u001b[0;31mNameError\u001b[0m: name 'Print' is not defined"
     ]
    }
   ],
   "source": [
    "Print(\"Hola mundo\")"
   ]
  },
  {
   "cell_type": "code",
   "execution_count": 5,
   "metadata": {},
   "outputs": [],
   "source": [
    "# La frase está bien escrita, pero Python no entiende que significa la la\n",
    "# palabra Print (con mayúsculas)"
   ]
  },
  {
   "cell_type": "markdown",
   "metadata": {
    "slideshow": {
     "slide_type": "slide"
    }
   },
   "source": [
    "Para escribir varias líneas podemos utilizar varias veces la función **`print()`** o también utilizar el caracter nueva línea **`\\n`**. Los carácteres que empiezan con la contrabarra se llaman **caracteres de escape**."
   ]
  },
  {
   "cell_type": "markdown",
   "metadata": {
    "slideshow": {
     "slide_type": "slide"
    }
   },
   "source": [
    "<div class=\"alert alert-info\">\n",
    "\n",
    "Imprime por pantalla, utilizando dos `print()`, las frases:\n",
    "\n",
    "```python\n",
    "Hola mundo\n",
    "Adiós mundo\n",
    "```\n",
    "\n",
    "</div>"
   ]
  },
  {
   "cell_type": "code",
   "execution_count": 1,
   "metadata": {},
   "outputs": [
    {
     "name": "stdout",
     "output_type": "stream",
     "text": [
      "Hola mundo\n",
      "Adiós mundo\n"
     ]
    }
   ],
   "source": [
    "print(\"Hola mundo\")\n",
    "print(\"Adiós mundo\")"
   ]
  },
  {
   "cell_type": "markdown",
   "metadata": {
    "slideshow": {
     "slide_type": "slide"
    }
   },
   "source": [
    "<div class=\"alert alert-info\">\n",
    "    \n",
    "Imprime las dos frases anteriores, pero utilizando una única vez la función `print()`.\n",
    "\n",
    "</div>"
   ]
  },
  {
   "cell_type": "code",
   "execution_count": 6,
   "metadata": {},
   "outputs": [
    {
     "name": "stdout",
     "output_type": "stream",
     "text": [
      "Hola Mundo\n",
      "Adiós Mundo\n"
     ]
    }
   ],
   "source": [
    "print(\"Hola Mundo\\nAdiós Mundo\")"
   ]
  },
  {
   "cell_type": "markdown",
   "metadata": {
    "slideshow": {
     "slide_type": "slide"
    }
   },
   "source": [
    "Para escribir comillas dentro de las frases se utiliza **`\\\"`**. En el texto presentado por pantalla solamente se imprimen las comillas.\n",
    "\n",
    "También se pueden **escribir comillas simples dentro de comillas dobles y a la inversa**.\n"
   ]
  },
  {
   "cell_type": "markdown",
   "metadata": {
    "slideshow": {
     "slide_type": "slide"
    }
   },
   "source": [
    "<div class=\"alert alert-info\">\n",
    "\n",
    "Imprime la frase, utilizando comillas simples como delimitadores del texto y también utilizando caracteres de escape:\n",
    "\n",
    "```\n",
    "\"Python\" es un lenguaje\n",
    "```\n",
    "\n",
    "</div>"
   ]
  },
  {
   "cell_type": "code",
   "execution_count": 7,
   "metadata": {},
   "outputs": [
    {
     "name": "stdout",
     "output_type": "stream",
     "text": [
      "\"Python\" es un lenguaje\n"
     ]
    }
   ],
   "source": [
    "# Con comillas escapadas (\\\")\n",
    "\n",
    "print(\"\\\"Python\\\" es un lenguaje\")"
   ]
  },
  {
   "cell_type": "code",
   "execution_count": 8,
   "metadata": {},
   "outputs": [
    {
     "name": "stdout",
     "output_type": "stream",
     "text": [
      "\"Python\" es un lenguaje\n"
     ]
    }
   ],
   "source": [
    "# Con comillas dobles entre comillas simples\n",
    "\n",
    "print('\"Python\" es un lenguaje')"
   ]
  },
  {
   "cell_type": "markdown",
   "metadata": {
    "slideshow": {
     "slide_type": "slide"
    }
   },
   "source": [
    "Además de **`\\'`**, **`\\\"`** y **`\\n`** existen otros caracteres de escape. El primero es **`\\\\`**  que imprime una única barra invertida. Solo es necesario usarlo algunas veces. El tabulador se consigue con **`\\t`**."
   ]
  },
  {
   "cell_type": "markdown",
   "metadata": {
    "slideshow": {
     "slide_type": "slide"
    }
   },
   "source": [
    "<div class=\"alert alert-info\">\n",
    "\n",
    "Imprime una cadena donde no sea necesario usar el caracter de escape de la barra invertida y otra en la que si.\n",
    "    \n",
    "</div>"
   ]
  },
  {
   "cell_type": "code",
   "execution_count": 11,
   "metadata": {},
   "outputs": [
    {
     "name": "stdout",
     "output_type": "stream",
     "text": [
      "La carpeta es C:\\Hola\n"
     ]
    }
   ],
   "source": [
    "# Aquí no es necesario usar la doble barra\n",
    "\n",
    "print(\"La carpeta es C:\\Hola\")"
   ]
  },
  {
   "cell_type": "code",
   "execution_count": 16,
   "metadata": {},
   "outputs": [
    {
     "name": "stdout",
     "output_type": "stream",
     "text": [
      "La carpeta es C:\\Nueva\n",
      "La carpeta es C:\\nueva\n"
     ]
    }
   ],
   "source": [
    "# Aquí si son necesarias. Quita una y comprueba que no funciona bien\n",
    "\n",
    "print(\"La carpeta es C:\\\\Nueva\")\n",
    "print(\"La carpeta es C:\\\\nueva\")"
   ]
  },
  {
   "cell_type": "markdown",
   "metadata": {},
   "source": [
    "<div class=\"alert alert-info\">\n",
    "\n",
    "Escribe con una única sentencia `print()`:\n",
    "    \n",
    "```python\n",
    "nombre:\n",
    "    Armando\n",
    "    Jaleo\n",
    "```\n",
    "\n",
    "</div>"
   ]
  },
  {
   "cell_type": "code",
   "execution_count": 17,
   "metadata": {},
   "outputs": [
    {
     "name": "stdout",
     "output_type": "stream",
     "text": [
      "nombre\n",
      "\tArmando\n",
      "\tJaleo\n"
     ]
    }
   ],
   "source": [
    "print(\"nombre\\n\\tArmando\\n\\tJaleo\")"
   ]
  },
  {
   "cell_type": "markdown",
   "metadata": {
    "slideshow": {
     "slide_type": "slide"
    }
   },
   "source": [
    "Otra forma de solucionar el problema de las comillas es **utilizar comillas triples** para delimitar el texto y escribir las comillas normales dentro del texto."
   ]
  },
  {
   "cell_type": "markdown",
   "metadata": {
    "slideshow": {
     "slide_type": "slide"
    }
   },
   "source": [
    "<div class=\"alert alert-info\">\n",
    "\n",
    "Imprime la frase, utilizando comillas triples:\n",
    "\n",
    "```\n",
    "\"Python\" es un lenguaje\n",
    "```\n",
    "\n",
    "</div>"
   ]
  },
  {
   "cell_type": "code",
   "execution_count": 8,
   "metadata": {},
   "outputs": [
    {
     "name": "stdout",
     "output_type": "stream",
     "text": [
      "\"Python\" es un lenguaje\n"
     ]
    }
   ],
   "source": [
    "print(\"\"\"\"Python\" es un lenguaje\"\"\")"
   ]
  },
  {
   "cell_type": "markdown",
   "metadata": {
    "slideshow": {
     "slide_type": "slide"
    }
   },
   "source": [
    "A veces nos puede interesar escribir una cadena que tenga caracteres de escape pero deseamos escribirlos tal cual, y no queremos que la función **`print()`** los interprete. Para esto basta colocar una **`r`** delante de la primera cadena que encierra la cadena."
   ]
  },
  {
   "cell_type": "markdown",
   "metadata": {
    "slideshow": {
     "slide_type": "slide"
    }
   },
   "source": [
    "<div class=\"alert alert-info\">\n",
    "\n",
    "Utiliza `print()` para escribir el siguiente texto por pantalla:\n",
    "    \n",
    "```\n",
    "\\\\\\\\ otro \\' y \\2\n",
    "```\n",
    "\n",
    "</div>"
   ]
  },
  {
   "cell_type": "code",
   "execution_count": 18,
   "metadata": {},
   "outputs": [
    {
     "name": "stdout",
     "output_type": "stream",
     "text": [
      "\\\\\\\\ otro \\' y \\2\n"
     ]
    }
   ],
   "source": [
    "print(r\"\\\\\\\\ otro \\' y \\2\")"
   ]
  },
  {
   "cell_type": "markdown",
   "metadata": {
    "slideshow": {
     "slide_type": "slide"
    }
   },
   "source": [
    "<center><h1>Fin</h1></center>\n",
    "<center><small>github.com/jltabara/PythonBasico</small></center>\n"
   ]
  },
  {
   "cell_type": "markdown",
   "metadata": {
    "slideshow": {
     "slide_type": "slide"
    }
   },
   "source": [
    "<center><h1>Ejercicios</h1><br /></center>"
   ]
  },
  {
   "cell_type": "markdown",
   "metadata": {},
   "source": [
    " ### Comillas dobles y simples\n",
    "\n",
    "Imprime tu nombre utilizando la función `print()`. Lo tienes que escribir con comillas dobles  y con comillas simples."
   ]
  },
  {
   "cell_type": "markdown",
   "metadata": {},
   "source": [
    "### Dos líneas con dos sentencias\n",
    "\n",
    "Imprime tu nombre y tus apellidos en dos líneas, utilizando dos sentencias `print()`."
   ]
  },
  {
   "cell_type": "markdown",
   "metadata": {},
   "source": [
    "### Dos líneas con una única sentencia\n",
    "\n",
    "Imprime tu nombre y tus apellidos en dos líneas, utilizando una única sentencia `print()` y el caracter de escape `\\n`."
   ]
  },
  {
   "cell_type": "markdown",
   "metadata": {},
   "source": [
    "### Comillas dentro del texto\n",
    "\n",
    "¿Cómo se puede escribir una comilla simple dentro de un texto? Decir al menos dos formas de hacerlo."
   ]
  },
  {
   "cell_type": "markdown",
   "metadata": {},
   "source": [
    "### Tabulador y salto de línea\n",
    "\n",
    "El caracter `\\t` produce una tabulación al escribirlo dentro de una función `print()`. Utiliza una única sentencia `print()` para conseguir imprimir lo siguiente:\n",
    "\n",
    "```python\n",
    "Matemáticos:\n",
    "    Riemann\n",
    "    Gauss\n",
    "    Hilbert\n",
    "```"
   ]
  },
  {
   "cell_type": "markdown",
   "metadata": {},
   "source": [
    "### &#9650; El modificador `end` de la función `print()`\n",
    "\n",
    "En principio la función `print()` crea un salto de línea después de escribir una cadena. Sin embargo esto puede ser cambiado y en vez de escribir un salto de línea (`\\n`) podemos escribir cualquier cadena.\n",
    "\n",
    "La siguiente sentencia escribe `Matématicas` después de escribir la cadena. Para conseguir esto debemos añadir `end = 'Matemáticas'`  como segundo argumento de la función `print()`.\n",
    "\n",
    "\n",
    "```python\n",
    "print('Hola', end = 'Matemáticas')\n",
    "```\n",
    "\n",
    "Esto no suele utilizar mucho, salvo en un caso. Si ponemos `end = ''` (cadena vacía) entonces no hace ni salto de línea ni ninguna otra cosa. El siguiente código escribe todo en una línea.\n",
    "\n",
    "```python\n",
    "print(\"hola\", end = '')\n",
    "print(\"adios\", end = '')\n",
    "print(\"y hasta siempre\")\n",
    "```"
   ]
  },
  {
   "cell_type": "markdown",
   "metadata": {},
   "source": [
    "### &#9650; Imprimir caracteres Unicode\n",
    "\n",
    "Prácticamente cualquier carácter de cualquier lengua del mundo tiene asociado un número en el código Unicode. Existen muchas páginas web que proporcionan dichos números. Para escribir un caracter unicode debemos escribir `\\u` seguido de un número de cuatro cifras. Prueba los siguientes códigos:\n",
    "\n",
    "```python\n",
    "print(\"Este es un caracter unicode: \\u4567\")\n",
    "print(\"Varios caracteres unicode: \\u1244, \\u2967, \\u9865\")\n",
    "```"
   ]
  },
  {
   "cell_type": "code",
   "execution_count": null,
   "metadata": {},
   "outputs": [],
   "source": [
    "h"
   ]
  }
 ],
 "metadata": {
  "celltoolbar": "Slideshow",
  "kernelspec": {
   "display_name": "Python 3",
   "language": "python",
   "name": "python3"
  },
  "language_info": {
   "codemirror_mode": {
    "name": "ipython",
    "version": 3
   },
   "file_extension": ".py",
   "mimetype": "text/x-python",
   "name": "python",
   "nbconvert_exporter": "python",
   "pygments_lexer": "ipython3",
   "version": "3.7.3"
  },
  "varInspector": {
   "cols": {
    "lenName": 16,
    "lenType": 16,
    "lenVar": 40
   },
   "kernels_config": {
    "python": {
     "delete_cmd_postfix": "",
     "delete_cmd_prefix": "del ",
     "library": "var_list.py",
     "varRefreshCmd": "print(var_dic_list())"
    },
    "r": {
     "delete_cmd_postfix": ") ",
     "delete_cmd_prefix": "rm(",
     "library": "var_list.r",
     "varRefreshCmd": "cat(var_dic_list()) "
    }
   },
   "types_to_exclude": [
    "module",
    "function",
    "builtin_function_or_method",
    "instance",
    "_Feature"
   ],
   "window_display": false
  }
 },
 "nbformat": 4,
 "nbformat_minor": 4
}
