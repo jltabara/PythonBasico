{
 "cells": [
  {
   "cell_type": "markdown",
   "metadata": {
    "slideshow": {
     "slide_type": "slide"
    }
   },
   "source": [
    "<center><h1>Cadenas de texto</h1><br /></center>"
   ]
  },
  {
   "cell_type": "markdown",
   "metadata": {
    "slideshow": {
     "slide_type": "slide"
    }
   },
   "source": [
    "Las **cadenas de texto** (llamadas *strings* en inglés) se escriben siempre entre comillas, ya sean dobles o simples. Las cadenas se pueden guardar en variables."
   ]
  },
  {
   "cell_type": "markdown",
   "metadata": {
    "slideshow": {
     "slide_type": "slide"
    }
   },
   "source": [
    "<div class=\"alert alert-info\">\n",
    "\n",
    "Guarda en una variable tu nombre, en otra tu apellido e imprímelas por pantalla.\n",
    "\n",
    "</div>"
   ]
  },
  {
   "cell_type": "code",
   "execution_count": null,
   "metadata": {},
   "outputs": [],
   "source": []
  },
  {
   "cell_type": "markdown",
   "metadata": {
    "slideshow": {
     "slide_type": "slide"
    }
   },
   "source": [
    "Cuando colocamos el operador **`+`** entre dos cadenas éstas se **concatenan**.\n",
    "\n",
    "Un error muy común consiste en intentar concatenar una cadena y un número."
   ]
  },
  {
   "cell_type": "markdown",
   "metadata": {
    "slideshow": {
     "slide_type": "slide"
    }
   },
   "source": [
    "<div class=\"alert alert-info\">\n",
    "\n",
    "Concatena las variables anteriores e imprime el resultado por pantalla.\n",
    "\n",
    "</div>"
   ]
  },
  {
   "cell_type": "code",
   "execution_count": null,
   "metadata": {},
   "outputs": [],
   "source": []
  },
  {
   "cell_type": "markdown",
   "metadata": {
    "slideshow": {
     "slide_type": "slide"
    }
   },
   "source": [
    "En una cadena no podemos escribir directamente varias líneas. Para hacer esto necesitamos utilizar **comillas triples**."
   ]
  },
  {
   "cell_type": "markdown",
   "metadata": {
    "slideshow": {
     "slide_type": "slide"
    }
   },
   "source": [
    "<div class=\"alert alert-info\">\n",
    "\n",
    "Guarda en una variable una frase de varias líneas con comillas triples. Muestra dicha variable con la función `print()` y sin utilizar dicha función.\n",
    "\n",
    "</div>"
   ]
  },
  {
   "cell_type": "code",
   "execution_count": null,
   "metadata": {},
   "outputs": [],
   "source": []
  },
  {
   "cell_type": "markdown",
   "metadata": {
    "slideshow": {
     "slide_type": "slide"
    }
   },
   "source": [
    "Si **multiplicamos una cadena por un número natural** lo que hacemos es concatenar varias veces la misma cadena."
   ]
  },
  {
   "cell_type": "markdown",
   "metadata": {
    "slideshow": {
     "slide_type": "slide"
    }
   },
   "source": [
    "<div class=\"alert alert-info\">\n",
    "\n",
    "Crea una línea con 50 asteriscos.\n",
    "\n",
    "</div>"
   ]
  },
  {
   "cell_type": "code",
   "execution_count": null,
   "metadata": {},
   "outputs": [],
   "source": []
  },
  {
   "cell_type": "markdown",
   "metadata": {
    "slideshow": {
     "slide_type": "slide"
    }
   },
   "source": [
    "<div class=\"alert alert-info\">\n",
    "\n",
    "Como castigo, copia 5 veces la frase:\n",
    "\n",
    "```\n",
    "Debo realizar los ejercicios.\n",
    "```\n",
    "\n",
    "</div>"
   ]
  },
  {
   "cell_type": "code",
   "execution_count": null,
   "metadata": {},
   "outputs": [],
   "source": []
  },
  {
   "cell_type": "markdown",
   "metadata": {
    "slideshow": {
     "slide_type": "slide"
    }
   },
   "source": [
    "Podemos acceder a cada uno de los caracteres de una cadena. Para ello debemos utilizar los llamados **índices, que se escriben entre corchetes**. Es importante saber que en Python **los índices comienzan en cero**."
   ]
  },
  {
   "cell_type": "markdown",
   "metadata": {
    "slideshow": {
     "slide_type": "slide"
    }
   },
   "source": [
    "<div class=\"alert alert-info\">\n",
    "\n",
    "Guarda en una variable llamada `cadena` la palabra `Matemática`. Accede a distintas letras mediante índices. Utiliza lo siguiente como ayuda.\n",
    "\n",
    "```\n",
    "Matemática\n",
    "0123456789\n",
    "```\n",
    "\n",
    "</div>"
   ]
  },
  {
   "cell_type": "code",
   "execution_count": null,
   "metadata": {},
   "outputs": [],
   "source": []
  },
  {
   "cell_type": "markdown",
   "metadata": {
    "slideshow": {
     "slide_type": "slide"
    }
   },
   "source": [
    "Si escribimos índices negativos, entonces empezamos por el final. **La letra final tiene índice -1**."
   ]
  },
  {
   "cell_type": "markdown",
   "metadata": {
    "slideshow": {
     "slide_type": "slide"
    }
   },
   "source": [
    "<div class=\"alert alert-info\">\n",
    "\n",
    "Accede a distintas letras utilizando índice negativos \n",
    "\n",
    "```\n",
    "Matemática\n",
    "0123456789\n",
    "```\n",
    "\n",
    "</div>"
   ]
  },
  {
   "cell_type": "code",
   "execution_count": null,
   "metadata": {},
   "outputs": [],
   "source": []
  },
  {
   "cell_type": "markdown",
   "metadata": {
    "slideshow": {
     "slide_type": "slide"
    }
   },
   "source": [
    "Si escribimos índices que no existen, entonces se produce un error. En particular se produce un error al escribir como índice el número de caracteres del texto."
   ]
  },
  {
   "cell_type": "markdown",
   "metadata": {
    "slideshow": {
     "slide_type": "slide"
    }
   },
   "source": [
    "<div class=\"alert alert-info\">\n",
    "\n",
    "Comprueba que `cadena[100]`,  `cadena[-40]` dan errores.\n",
    "\n",
    "</div>"
   ]
  },
  {
   "cell_type": "code",
   "execution_count": null,
   "metadata": {},
   "outputs": [],
   "source": []
  },
  {
   "cell_type": "markdown",
   "metadata": {
    "slideshow": {
     "slide_type": "slide"
    }
   },
   "source": [
    "Se puede acceder a varios caracteres consecutivos utilizando la técnica del ***slicing*** (se podría traducir como **hacer rebanadas**). Para ello debemos escribir el índice donde empiezan los caracteres, después dos puntos y añadir un segundo índice. **El primer índice siempre aparece en el *slicing* y el segundo no aparece nunca**. Se puede también omitir alguno de los índices."
   ]
  },
  {
   "cell_type": "markdown",
   "metadata": {
    "slideshow": {
     "slide_type": "slide"
    }
   },
   "source": [
    "<div class=\"alert alert-info\">\n",
    "\n",
    "Accede a subcadenas utilizando la técnica del **slicing**.\n",
    "\n",
    "```\n",
    "Matemática\n",
    "0123456789\n",
    "```\n",
    "\n",
    "</div>"
   ]
  },
  {
   "cell_type": "code",
   "execution_count": null,
   "metadata": {},
   "outputs": [],
   "source": []
  },
  {
   "cell_type": "markdown",
   "metadata": {
    "slideshow": {
     "slide_type": "slide"
    }
   },
   "source": [
    "<center><h1>Fin</h1></center>\n",
    "<center><small>github.com/jltabara/PythonBasico</small></center>"
   ]
  },
  {
   "cell_type": "markdown",
   "metadata": {
    "colab_type": "text",
    "id": "YJKIZTMrRBsQ"
   },
   "source": [
    "<center><h1>Ejercicios</h1><br /></center>"
   ]
  },
  {
   "cell_type": "markdown",
   "metadata": {
    "colab_type": "text",
    "id": "XPidBrDJREjl"
   },
   "source": [
    "### Guardar cadenas en variables\n",
    "\n",
    "Guarda tu nombre en una variable llamada `nombre` y tu apellido en una cadena llamada `apellido`. \n",
    "\n",
    "* Concatena las dos variables\n",
    "* Escribe tu nombre 50 veces multiplicando la variable `nombre`."
   ]
  },
  {
   "cell_type": "markdown",
   "metadata": {
    "colab_type": "text",
    "id": "FOCt8Ea-WTww"
   },
   "source": [
    "### Acceder a distintos caracteres de una cadena\n",
    "\n",
    "Considera la cadena `Hola mundo`.  Accede al primer y al último caracter utilizando índice positivos. Accede también utilizando índice negativos."
   ]
  },
  {
   "cell_type": "markdown",
   "metadata": {
    "colab_type": "text",
    "id": "bx8k8UfxWXjB"
   },
   "source": [
    "### Slicing con cadenas\n",
    "\n",
    "Dada la cadena `Física y Química`, almacenada en una variable `dato` extrae la subcadena `Física` y la subcadena `Química`."
   ]
  },
  {
   "cell_type": "markdown",
   "metadata": {},
   "source": [
    "### &#9658; El tercer parámetro del slicing \n",
    "\n",
    "\n",
    "Prueba los siguientes códigos para ver como se pueden extraer subcadenas pero de tal forma que los índices no sean consecutivos. El tercer carácter del slicing se llama *paso* (*step* en inglés).\n",
    "\n",
    "```python\n",
    "cadena = '0123456789'  # Es una cadena\n",
    "print(cadena[0:5:2])\n",
    "print(cadena[::3])\n",
    "print(cadena[-1:-8:-1])\n",
    "print(cadena[::-1])\n",
    "```"
   ]
  },
  {
   "cell_type": "code",
   "execution_count": null,
   "metadata": {},
   "outputs": [],
   "source": []
  }
 ],
 "metadata": {
  "celltoolbar": "Slideshow",
  "kernelspec": {
   "display_name": "Python 3",
   "language": "python",
   "name": "python3"
  },
  "language_info": {
   "codemirror_mode": {
    "name": "ipython",
    "version": 3
   },
   "file_extension": ".py",
   "mimetype": "text/x-python",
   "name": "python",
   "nbconvert_exporter": "python",
   "pygments_lexer": "ipython3",
   "version": "3.7.3"
  }
 },
 "nbformat": 4,
 "nbformat_minor": 4
}
