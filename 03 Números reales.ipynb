{
 "cells": [
  {
   "cell_type": "markdown",
   "metadata": {
    "slideshow": {
     "slide_type": "slide"
    }
   },
   "source": [
    "<center><h1>Números reales</h1></center>"
   ]
  },
  {
   "cell_type": "markdown",
   "metadata": {
    "slideshow": {
     "slide_type": "slide"
    }
   },
   "source": [
    "Python también trabaja con números reales. **El separador de la parte entera y decimal es el punto**, como es habitual en los países anglosajones."
   ]
  },
  {
   "cell_type": "markdown",
   "metadata": {
    "slideshow": {
     "slide_type": "slide"
    }
   },
   "source": [
    "<div class=\"alert alert-info\">\n",
    "\n",
    "Realiza las operaciones:\n",
    "\n",
    "$$\n",
    "a)\\, 45.903 \\cdot 23.4 \\qquad b)\\, 56.7 \\cdot 5.8^3\n",
    "$$\n",
    "\n",
    "</div>"
   ]
  },
  {
   "cell_type": "code",
   "execution_count": null,
   "metadata": {},
   "outputs": [],
   "source": []
  },
  {
   "cell_type": "markdown",
   "metadata": {
    "slideshow": {
     "slide_type": "slide"
    }
   },
   "source": [
    "Cuando Python trabaja con números decimales puede **cometer pequeños errores**. Estos son debidos a la forma en que el ordenador guarda los números con decimales en la memoria."
   ]
  },
  {
   "cell_type": "markdown",
   "metadata": {
    "slideshow": {
     "slide_type": "slide"
    }
   },
   "source": [
    "<div class=\"alert alert-info\">\n",
    "\n",
    "Realiza las operaciones:\n",
    "\n",
    "$$\n",
    "a)\\,  8.97-3 \\qquad b)\\, 0.2 + 0.1\n",
    "$$\n",
    "\n",
    "</div>"
   ]
  },
  {
   "cell_type": "code",
   "execution_count": null,
   "metadata": {},
   "outputs": [],
   "source": []
  },
  {
   "cell_type": "markdown",
   "metadata": {
    "slideshow": {
     "slide_type": "slide"
    }
   },
   "source": [
    "Cuando en una operación hay enteros y decimales, Python automáticamente convierte los enteros en decimales. Esto puede suponer alguna pérdida de precisión en los resultados.\n",
    "\n",
    "**Si aparecen enteros y decimales en una operación, el resultado siempre es un número decimal**."
   ]
  },
  {
   "cell_type": "markdown",
   "metadata": {
    "slideshow": {
     "slide_type": "slide"
    }
   },
   "source": [
    "<div class=\"alert alert-info\">\n",
    "\n",
    "Realiza la operación:\n",
    "\n",
    "$$\n",
    "1234567890987654321 + 1.0\n",
    "$$\n",
    "\n",
    "</div>"
   ]
  },
  {
   "cell_type": "code",
   "execution_count": null,
   "metadata": {},
   "outputs": [],
   "source": []
  },
  {
   "cell_type": "markdown",
   "metadata": {
    "slideshow": {
     "slide_type": "slide"
    }
   },
   "source": [
    "Cuando los números son muy grandes o muy pequeños Python utiliza la **notación científica**. \n",
    "\n",
    "También se pueden introducir números en notación científica y operar con ellos. **La separación de las dos partes del número se realiza con la letra `e`** (mayúscula o minúscula)."
   ]
  },
  {
   "cell_type": "markdown",
   "metadata": {
    "slideshow": {
     "slide_type": "slide"
    }
   },
   "source": [
    "<div class=\"alert alert-info\">\n",
    "\n",
    "Realiza las siguientes operaciones en notación científica:\n",
    "\n",
    "$$\n",
    "a)\\, 1.4 \\cdot 10^5 - 890 \\qquad b)\\, 3.4 \\cdot 10^{-7} / 35.8\n",
    "$$\n",
    "\n",
    "</div>\n"
   ]
  },
  {
   "cell_type": "code",
   "execution_count": null,
   "metadata": {},
   "outputs": [],
   "source": []
  },
  {
   "cell_type": "markdown",
   "metadata": {
    "slideshow": {
     "slide_type": "slide"
    }
   },
   "source": [
    "<center><h1>Fin</h1></center>\n",
    "<center><small>github.com/jltabara/PythonBasico</small></center>"
   ]
  },
  {
   "cell_type": "markdown",
   "metadata": {
    "colab_type": "text",
    "id": "OprHulQkbhXp"
   },
   "source": [
    "<center><h1>Números reales</h1></center>"
   ]
  },
  {
   "cell_type": "markdown",
   "metadata": {
    "colab_type": "text",
    "id": "jbr-q6cRb1Oh"
   },
   "source": [
    "### Operaciones combinadas\n",
    "\n",
    "Realiza las siguientes operaciones:\n",
    "\n",
    "$$\n",
    "a)\\,45.89 \\cdot 45.7^4\\qquad b)\\, 1/3\\cdot 3 + 9\n",
    "$$"
   ]
  },
  {
   "cell_type": "markdown",
   "metadata": {
    "colab_type": "text",
    "id": "iifUsy2rcOT-"
   },
   "source": [
    "### Notación científica\n",
    "\n",
    "Realiza las siguientes operaciones en notación científica:\n",
    "\n",
    "$$\n",
    "1.6 \\cdot 10^4 \\cdot 4.789 \\cdot 10^6\n",
    "$$"
   ]
  },
  {
   "cell_type": "markdown",
   "metadata": {
    "colab_type": "text",
    "id": "VezPDAKyeAMK"
   },
   "source": [
    "### Convertir pies en metros\n",
    "\n",
    "Convierte 34,6 pies en metros. Buscar en Internet la fórmula de conversión."
   ]
  },
  {
   "cell_type": "markdown",
   "metadata": {
    "colab_type": "text",
    "id": "9OPTq1_fLUCB"
   },
   "source": [
    "### Muchos decimales es imposible\n",
    "\n",
    "Escribir un número con más de 20 decimales. Comprobar que Python recorta el número, pues no puede almacenar tantos decimales."
   ]
  },
  {
   "cell_type": "markdown",
   "metadata": {
    "colab_type": "text",
    "id": "YcFIQFwOeJT4"
   },
   "source": [
    "### La fórmula de Einstein\n",
    "\n",
    "Calcula la energia liberada por una masa de 5 gramos utilizando la fórmula de Einstein\n",
    "\n",
    "$$\n",
    "E= m c^2\n",
    "$$\n",
    "\n",
    "(Buscar en Internet la velocidad de la luz)"
   ]
  },
  {
   "cell_type": "markdown",
   "metadata": {
    "colab_type": "text",
    "id": "-nKRlG9etpRW"
   },
   "source": [
    " ### Notación científica\n",
    " \n",
    " El número $3.67 \\cdot 10^5$ se escribe en Python como $3.67e5$. Escribe dicho número en forma de *notación científica* y comprueba que coincide con la multiplicación anterior. Comprueba lo mismo con otros números."
   ]
  },
  {
   "cell_type": "markdown",
   "metadata": {
    "colab_type": "text",
    "id": "4kkPjx_mtve7"
   },
   "source": [
    "### Problema\n",
    "\n",
    "En una hamburguesería, cada hamburguesa cuesta 5.99€, las patatas fritas 1.99€  y cada refresco 1.49€.  Si vas solo y tomas una hamburguesa con patatas y refresco, ¿cuánto pagarás? Si invitas a tus amigos y se toman en total: 7 hamburguesas, 10 de patatas fritas y 8 refrescos, ¿cuánto te devuelven si pagas con un billete de 100€?"
   ]
  },
  {
   "cell_type": "markdown",
   "metadata": {
    "colab_type": "text",
    "id": "E1x5Jz_R6wDx"
   },
   "source": [
    "### &#9650; La función `round()` \n",
    "\n",
    "La función `round()` sirve para redondear números. Prueba los siguentes códigos para entender el funcionamiento:\n",
    "\n",
    "```python\n",
    "round(3.14)\n",
    "round(3.7)\n",
    "round(-3.7)\n",
    "```"
   ]
  },
  {
   "cell_type": "code",
   "execution_count": null,
   "metadata": {
    "colab": {},
    "colab_type": "code",
    "id": "Gi6-i5zKMueI"
   },
   "outputs": [],
   "source": []
  }
 ],
 "metadata": {
  "celltoolbar": "Slideshow",
  "kernelspec": {
   "display_name": "Python 3",
   "language": "python",
   "name": "python3"
  },
  "language_info": {
   "codemirror_mode": {
    "name": "ipython",
    "version": 3
   },
   "file_extension": ".py",
   "mimetype": "text/x-python",
   "name": "python",
   "nbconvert_exporter": "python",
   "pygments_lexer": "ipython3",
   "version": "3.7.3"
  }
 },
 "nbformat": 4,
 "nbformat_minor": 4
}
